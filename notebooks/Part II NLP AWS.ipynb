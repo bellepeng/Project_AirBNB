{
 "cells": [
  {
   "cell_type": "markdown",
   "metadata": {},
   "source": [
    "# NLP: Review Summary & Topic Modelling"
   ]
  },
  {
   "cell_type": "markdown",
   "metadata": {},
   "source": [
    "## Imports"
   ]
  },
  {
   "cell_type": "markdown",
   "metadata": {
    "heading_collapsed": true
   },
   "source": [
    "#### Imports"
   ]
  },
  {
   "cell_type": "code",
   "execution_count": 239,
   "metadata": {
    "ExecuteTime": {
     "end_time": "2018-09-14T20:34:16.004895Z",
     "start_time": "2018-09-14T20:34:15.978763Z"
    },
    "hidden": true
   },
   "outputs": [
    {
     "data": {
      "text/html": [
       "<style>.container { width:95% !important; }</style>"
      ],
      "text/plain": [
       "<IPython.core.display.HTML object>"
      ]
     },
     "metadata": {},
     "output_type": "display_data"
    }
   ],
   "source": [
    "from IPython.core.display import display, HTML\n",
    "display(HTML(\"<style>.container { width:95% !important; }</style>\"))\n",
    "import warnings\n",
    "warnings.filterwarnings(\"ignore\", category=DeprecationWarning)\n",
    "import dask.dataframe as dd\n",
    "import pandas as pd\n",
    "import numpy as np\n",
    "import math\n",
    "import os\n",
    "import pickle\n",
    "import timeit\n",
    "from collections import Counter\n",
    "\n",
    "# Graphics\n",
    "import matplotlib.pyplot as plt\n",
    "%matplotlib inline\n",
    "%config InlineBackend.figure_format='svg'\n",
    "import seaborn as sns\n",
    "sns.set(font_scale=1.2)\n",
    "plt.style.use('seaborn')\n",
    "# from mlxtend.plotting import plot_decision_regions\n",
    "# from mpl_toolkits.mplot3d import Axes3D"
   ]
  },
  {
   "cell_type": "code",
   "execution_count": 2,
   "metadata": {
    "ExecuteTime": {
     "end_time": "2018-09-13T21:16:01.850499Z",
     "start_time": "2018-09-13T21:16:01.369499Z"
    },
    "collapsed": true,
    "hidden": true
   },
   "outputs": [],
   "source": [
    "from __future__ import print_function\n",
    "import nltk\n",
    "from nltk.util import ngrams\n",
    "from nltk.corpus import stopwords\n",
    "from nltk.tokenize import word_tokenize\n",
    "from nltk import WordNetLemmatizer\n",
    "from operator import itemgetter\n",
    "import contractions\n",
    "from langdetect import detect\n",
    "\n",
    "from sklearn.feature_extraction.text import TfidfVectorizer \n",
    "from sklearn.naive_bayes import MultinomialNB\n",
    "from sklearn.metrics.pairwise import cosine_similarity"
   ]
  },
  {
   "cell_type": "code",
   "execution_count": 3,
   "metadata": {
    "ExecuteTime": {
     "end_time": "2018-09-13T21:16:02.620778Z",
     "start_time": "2018-09-13T21:16:02.604827Z"
    },
    "collapsed": true,
    "hidden": true
   },
   "outputs": [],
   "source": [
    "#Plain text parsers since we are parsing through text\n",
    "from sumy.nlp.tokenizers import Tokenizer\n",
    "from sumy.parsers.plaintext import PlaintextParser\n",
    "from sumy.summarizers.lex_rank import LexRankSummarizer \n",
    "from sumy.summarizers.luhn import LuhnSummarizer\n",
    "from sumy.summarizers.lsa import LsaSummarizer\n",
    "from sumy.summarizers.text_rank import TextRankSummarizer"
   ]
  },
  {
   "cell_type": "code",
   "execution_count": 4,
   "metadata": {
    "ExecuteTime": {
     "end_time": "2018-09-13T21:16:03.206322Z",
     "start_time": "2018-09-13T21:16:03.195919Z"
    },
    "collapsed": true,
    "hidden": true
   },
   "outputs": [],
   "source": [
    "from sklearn.decomposition import NMF, LatentDirichletAllocation, TruncatedSVD\n",
    "from sklearn.preprocessing import StandardScaler"
   ]
  },
  {
   "cell_type": "code",
   "execution_count": 5,
   "metadata": {
    "ExecuteTime": {
     "end_time": "2018-09-13T21:16:03.823052Z",
     "start_time": "2018-09-13T21:16:03.819031Z"
    },
    "collapsed": true,
    "hidden": true
   },
   "outputs": [],
   "source": [
    "# %run '/Users/bellepeng/Desktop/Metis/Projects/Project_AirBNB/notebooks/helper_functions.py' \n",
    "# os.chdir('/Users/bellepeng/Desktop/Metis/Projects/Project_AirBNB/notebooks')\n",
    "os.chdir('/home/ubuntu/notebooks')\n",
    "import helper_functions\n",
    "from helper_functions import clean_dolla, plot_bar, cluster_inertia, display_topics"
   ]
  },
  {
   "cell_type": "markdown",
   "metadata": {
    "heading_collapsed": true
   },
   "source": [
    "#### Load Data"
   ]
  },
  {
   "cell_type": "code",
   "execution_count": 6,
   "metadata": {
    "ExecuteTime": {
     "end_time": "2018-09-13T21:16:11.993498Z",
     "start_time": "2018-09-13T21:16:11.737113Z"
    },
    "hidden": true
   },
   "outputs": [
    {
     "name": "stdout",
     "output_type": "stream",
     "text": [
      "(278884, 4)\n"
     ]
    },
    {
     "data": {
      "text/html": [
       "<div>\n",
       "<style>\n",
       "    .dataframe thead tr:only-child th {\n",
       "        text-align: right;\n",
       "    }\n",
       "\n",
       "    .dataframe thead th {\n",
       "        text-align: left;\n",
       "    }\n",
       "\n",
       "    .dataframe tbody tr th {\n",
       "        vertical-align: top;\n",
       "    }\n",
       "</style>\n",
       "<table border=\"1\" class=\"dataframe\">\n",
       "  <thead>\n",
       "    <tr style=\"text-align: right;\">\n",
       "      <th></th>\n",
       "      <th>listing_id</th>\n",
       "      <th>id</th>\n",
       "      <th>date</th>\n",
       "      <th>comments</th>\n",
       "    </tr>\n",
       "  </thead>\n",
       "  <tbody>\n",
       "    <tr>\n",
       "      <th>96</th>\n",
       "      <td>958</td>\n",
       "      <td>172021239</td>\n",
       "      <td>2017-07-19</td>\n",
       "      <td>We, a family of four with two little kids, sta...</td>\n",
       "    </tr>\n",
       "    <tr>\n",
       "      <th>97</th>\n",
       "      <td>958</td>\n",
       "      <td>174401034</td>\n",
       "      <td>2017-07-25</td>\n",
       "      <td>非常温馨的家，房东十分友好，小花园安静。</td>\n",
       "    </tr>\n",
       "    <tr>\n",
       "      <th>98</th>\n",
       "      <td>958</td>\n",
       "      <td>177060286</td>\n",
       "      <td>2017-08-01</td>\n",
       "      <td>Great place, very well located! Well furnished...</td>\n",
       "    </tr>\n",
       "    <tr>\n",
       "      <th>99</th>\n",
       "      <td>958</td>\n",
       "      <td>178027423</td>\n",
       "      <td>2017-08-04</td>\n",
       "      <td>My husband and I had a wonderful stay at Holly...</td>\n",
       "    </tr>\n",
       "    <tr>\n",
       "      <th>100</th>\n",
       "      <td>958</td>\n",
       "      <td>180175634</td>\n",
       "      <td>2017-08-09</td>\n",
       "      <td>Une super jolie maison dans le plus beau quart...</td>\n",
       "    </tr>\n",
       "    <tr>\n",
       "      <th>101</th>\n",
       "      <td>958</td>\n",
       "      <td>180981797</td>\n",
       "      <td>2017-08-11</td>\n",
       "      <td>Very comfortable apartment with loads of priva...</td>\n",
       "    </tr>\n",
       "    <tr>\n",
       "      <th>102</th>\n",
       "      <td>958</td>\n",
       "      <td>182419319</td>\n",
       "      <td>2017-08-14</td>\n",
       "      <td>Holly was a terrific host - quite attentive an...</td>\n",
       "    </tr>\n",
       "    <tr>\n",
       "      <th>103</th>\n",
       "      <td>958</td>\n",
       "      <td>183230677</td>\n",
       "      <td>2017-08-16</td>\n",
       "      <td>Very comfortable and clean. Holly was attentiv...</td>\n",
       "    </tr>\n",
       "    <tr>\n",
       "      <th>104</th>\n",
       "      <td>958</td>\n",
       "      <td>185107964</td>\n",
       "      <td>2017-08-20</td>\n",
       "      <td>The neighborhood was great. Walking distance t...</td>\n",
       "    </tr>\n",
       "  </tbody>\n",
       "</table>\n",
       "</div>"
      ],
      "text/plain": [
       "     listing_id         id        date  \\\n",
       "96          958  172021239  2017-07-19   \n",
       "97          958  174401034  2017-07-25   \n",
       "98          958  177060286  2017-08-01   \n",
       "99          958  178027423  2017-08-04   \n",
       "100         958  180175634  2017-08-09   \n",
       "101         958  180981797  2017-08-11   \n",
       "102         958  182419319  2017-08-14   \n",
       "103         958  183230677  2017-08-16   \n",
       "104         958  185107964  2017-08-20   \n",
       "\n",
       "                                              comments  \n",
       "96   We, a family of four with two little kids, sta...  \n",
       "97                                非常温馨的家，房东十分友好，小花园安静。  \n",
       "98   Great place, very well located! Well furnished...  \n",
       "99   My husband and I had a wonderful stay at Holly...  \n",
       "100  Une super jolie maison dans le plus beau quart...  \n",
       "101  Very comfortable apartment with loads of priva...  \n",
       "102  Holly was a terrific host - quite attentive an...  \n",
       "103  Very comfortable and clean. Holly was attentiv...  \n",
       "104  The neighborhood was great. Walking distance t...  "
      ]
     },
     "execution_count": 6,
     "metadata": {},
     "output_type": "execute_result"
    }
   ],
   "source": [
    "with open('/home/ubuntu/data/reviews.pkl', 'rb') as file:\n",
    "    reviews = pickle.load(file)\n",
    "print(reviews.shape)\n",
    "reviews[96:105]"
   ]
  },
  {
   "cell_type": "code",
   "execution_count": 8,
   "metadata": {
    "ExecuteTime": {
     "end_time": "2018-09-13T21:16:32.552369Z",
     "start_time": "2018-09-13T21:16:32.437146Z"
    },
    "hidden": true
   },
   "outputs": [
    {
     "name": "stdout",
     "output_type": "stream",
     "text": [
      "listings_sf_cleaned.pkl        reviews.pkl\r\n",
      "reviews_cleaned.pkl\t       summary_df.pkl\r\n",
      "reviews_noForeignLang_all.pkl  summaryLexRank_all.pkl\r\n",
      "reviews_noForeignLang.pkl      summaryLSA_all.pkl\r\n"
     ]
    }
   ],
   "source": [
    "!ls ../data/"
   ]
  },
  {
   "cell_type": "code",
   "execution_count": 9,
   "metadata": {
    "ExecuteTime": {
     "end_time": "2018-09-13T21:16:52.298191Z",
     "start_time": "2018-09-13T21:16:52.257754Z"
    },
    "hidden": true
   },
   "outputs": [
    {
     "name": "stdout",
     "output_type": "stream",
     "text": [
      "74109\n"
     ]
    },
    {
     "data": {
      "text/plain": [
       "['make stress free although could meet make sure leave detail note house extremely responsive time need speak house location many restaurants grocery store nearby quick drive away downtown highly',\n",
       " 'host cancel reservation 170 days arrival automate post',\n",
       " 'garage back yard easy find pet friendly accommodations like price',\n",
       " 'house conveniently locate public transportation plenty eat pick essentials within walk distance neighborhood seem safe quiet enough complaint front bedroom light sleepers street noise come upstairs neighbor hear move around kitchen nicely remodel greet warm helpful woman owner town reachable make sure everything need',\n",
       " 'wonderful time family family nice defintely come back',\n",
       " 'house perfect family five public transportation conveniences super close bed incredibly comfortable definitely',\n",
       " 'house awesome confortable need backyard plus tipycal house feel local neigbour always helpfull friendly check check also ok thank',\n",
       " 'love comfortable clean lovely',\n",
       " 'lovely people make sure everything need kind enough receive later long day travel fantastic privacy need location amaze many eat drink nearby need tip happy help fantastic host thank guy']"
      ]
     },
     "execution_count": 9,
     "metadata": {},
     "output_type": "execute_result"
    }
   ],
   "source": [
    "# os.path.getsize('/home/ubuntu/data/reviews_cleaned3.pkl')\n",
    "with open('/home/ubuntu/data/reviews_cleaned.pkl', 'rb') as file:\n",
    "    reviews_cleaned = pickle.load(file)\n",
    "\n",
    "print(len(reviews_cleaned))\n",
    "reviews_cleaned[96:105]"
   ]
  },
  {
   "cell_type": "code",
   "execution_count": 141,
   "metadata": {
    "ExecuteTime": {
     "end_time": "2018-09-14T01:19:52.816042Z",
     "start_time": "2018-09-14T01:19:52.022801Z"
    },
    "hidden": true
   },
   "outputs": [
    {
     "name": "stdout",
     "output_type": "stream",
     "text": [
      "(278884, 4)\n"
     ]
    },
    {
     "data": {
      "text/html": [
       "<div>\n",
       "<style>\n",
       "    .dataframe thead tr:only-child th {\n",
       "        text-align: right;\n",
       "    }\n",
       "\n",
       "    .dataframe thead th {\n",
       "        text-align: left;\n",
       "    }\n",
       "\n",
       "    .dataframe tbody tr th {\n",
       "        vertical-align: top;\n",
       "    }\n",
       "</style>\n",
       "<table border=\"1\" class=\"dataframe\">\n",
       "  <thead>\n",
       "    <tr style=\"text-align: right;\">\n",
       "      <th></th>\n",
       "      <th>listing_id</th>\n",
       "      <th>id</th>\n",
       "      <th>date</th>\n",
       "      <th>comments</th>\n",
       "    </tr>\n",
       "  </thead>\n",
       "  <tbody>\n",
       "    <tr>\n",
       "      <th>96</th>\n",
       "      <td>958</td>\n",
       "      <td>172021239</td>\n",
       "      <td>2017-07-19</td>\n",
       "      <td>We, a family of four with two little kids, sta...</td>\n",
       "    </tr>\n",
       "    <tr>\n",
       "      <th>97</th>\n",
       "      <td>958</td>\n",
       "      <td>174401034</td>\n",
       "      <td>2017-07-25</td>\n",
       "      <td></td>\n",
       "    </tr>\n",
       "    <tr>\n",
       "      <th>98</th>\n",
       "      <td>958</td>\n",
       "      <td>177060286</td>\n",
       "      <td>2017-08-01</td>\n",
       "      <td>Great place, very well located! Well furnished...</td>\n",
       "    </tr>\n",
       "    <tr>\n",
       "      <th>99</th>\n",
       "      <td>958</td>\n",
       "      <td>178027423</td>\n",
       "      <td>2017-08-04</td>\n",
       "      <td>My husband and I had a wonderful stay at Holly...</td>\n",
       "    </tr>\n",
       "    <tr>\n",
       "      <th>100</th>\n",
       "      <td>958</td>\n",
       "      <td>180175634</td>\n",
       "      <td>2017-08-09</td>\n",
       "      <td></td>\n",
       "    </tr>\n",
       "    <tr>\n",
       "      <th>101</th>\n",
       "      <td>958</td>\n",
       "      <td>180981797</td>\n",
       "      <td>2017-08-11</td>\n",
       "      <td>Very comfortable apartment with loads of priva...</td>\n",
       "    </tr>\n",
       "  </tbody>\n",
       "</table>\n",
       "</div>"
      ],
      "text/plain": [
       "     listing_id         id        date  \\\n",
       "96          958  172021239  2017-07-19   \n",
       "97          958  174401034  2017-07-25   \n",
       "98          958  177060286  2017-08-01   \n",
       "99          958  178027423  2017-08-04   \n",
       "100         958  180175634  2017-08-09   \n",
       "101         958  180981797  2017-08-11   \n",
       "\n",
       "                                              comments  \n",
       "96   We, a family of four with two little kids, sta...  \n",
       "97                                                      \n",
       "98   Great place, very well located! Well furnished...  \n",
       "99   My husband and I had a wonderful stay at Holly...  \n",
       "100                                                     \n",
       "101  Very comfortable apartment with loads of priva...  "
      ]
     },
     "execution_count": 141,
     "metadata": {},
     "output_type": "execute_result"
    }
   ],
   "source": [
    "with open('/home/ubuntu/data/reviews_noForeignLang.pkl', 'rb') as file:\n",
    "    reviews_noForeignLang = pickle.load(file)\n",
    "\n",
    "print(reviews_noForeignLang.shape)\n",
    "reviews_noForeignLang[96:102]"
   ]
  },
  {
   "cell_type": "code",
   "execution_count": null,
   "metadata": {
    "ExecuteTime": {
     "end_time": "2018-09-12T20:55:59.750932Z",
     "start_time": "2018-09-12T20:55:59.747159Z"
    },
    "collapsed": true,
    "hidden": true
   },
   "outputs": [],
   "source": []
  },
  {
   "cell_type": "markdown",
   "metadata": {
    "heading_collapsed": true
   },
   "source": [
    "## Preprocess:\n",
    "- Remove the Foreign Language Comments\n",
    "- Reduce the use only the 20 most recent reviews for each listing  \n",
    "Later in the notebook:\n",
    "- Fix Contractions\n",
    "- Remove pronouns\n",
    "- Remove stop words\n",
    "- Lemmatize"
   ]
  },
  {
   "cell_type": "markdown",
   "metadata": {
    "hidden": true
   },
   "source": [
    "#### Empty Out Foreign Language comments"
   ]
  },
  {
   "cell_type": "code",
   "execution_count": null,
   "metadata": {
    "collapsed": true,
    "hidden": true
   },
   "outputs": [],
   "source": [
    "# Do not re-run this unless needed, takes a long time\n",
    "# reviews_noForeignLang=[]\n",
    "# for comment in reviews['comments']: \n",
    "#     if not comment:\n",
    "#         reviews_noForeignLang.append(\" \")\n",
    "#     try: \n",
    "#         if detect(comment) == 'en':\n",
    "#             reviews_noForeignLang.append(comment)\n",
    "#         else:\n",
    "#             reviews_noForeignLang.append(\" \")\n",
    "#     except:\n",
    "#         reviews_noForeignLang.append(\" \")\n",
    "\n",
    "# print(len(reviews), len(reviews_noForeignLang))\n",
    "# print()\n",
    "# print(reviews['comments'][95:103])\n",
    "# print()\n",
    "# print(reviews_noForeignLang[95:103])"
   ]
  },
  {
   "cell_type": "code",
   "execution_count": 142,
   "metadata": {
    "ExecuteTime": {
     "end_time": "2018-09-14T01:20:01.018123Z",
     "start_time": "2018-09-14T01:20:00.951902Z"
    },
    "hidden": true
   },
   "outputs": [
    {
     "data": {
      "text/html": [
       "<div>\n",
       "<style>\n",
       "    .dataframe thead tr:only-child th {\n",
       "        text-align: right;\n",
       "    }\n",
       "\n",
       "    .dataframe thead th {\n",
       "        text-align: left;\n",
       "    }\n",
       "\n",
       "    .dataframe tbody tr th {\n",
       "        vertical-align: top;\n",
       "    }\n",
       "</style>\n",
       "<table border=\"1\" class=\"dataframe\">\n",
       "  <thead>\n",
       "    <tr style=\"text-align: right;\">\n",
       "      <th></th>\n",
       "      <th>listing_id</th>\n",
       "      <th>id</th>\n",
       "      <th>date</th>\n",
       "      <th>comments</th>\n",
       "    </tr>\n",
       "  </thead>\n",
       "  <tbody>\n",
       "    <tr>\n",
       "      <th>96</th>\n",
       "      <td>958</td>\n",
       "      <td>172021239</td>\n",
       "      <td>2017-07-19</td>\n",
       "      <td>We, a family of four with two little kids, sta...</td>\n",
       "    </tr>\n",
       "    <tr>\n",
       "      <th>97</th>\n",
       "      <td>958</td>\n",
       "      <td>174401034</td>\n",
       "      <td>2017-07-25</td>\n",
       "      <td></td>\n",
       "    </tr>\n",
       "    <tr>\n",
       "      <th>98</th>\n",
       "      <td>958</td>\n",
       "      <td>177060286</td>\n",
       "      <td>2017-08-01</td>\n",
       "      <td>Great place, very well located! Well furnished...</td>\n",
       "    </tr>\n",
       "    <tr>\n",
       "      <th>99</th>\n",
       "      <td>958</td>\n",
       "      <td>178027423</td>\n",
       "      <td>2017-08-04</td>\n",
       "      <td>My husband and I had a wonderful stay at Holly...</td>\n",
       "    </tr>\n",
       "    <tr>\n",
       "      <th>100</th>\n",
       "      <td>958</td>\n",
       "      <td>180175634</td>\n",
       "      <td>2017-08-09</td>\n",
       "      <td></td>\n",
       "    </tr>\n",
       "    <tr>\n",
       "      <th>101</th>\n",
       "      <td>958</td>\n",
       "      <td>180981797</td>\n",
       "      <td>2017-08-11</td>\n",
       "      <td>Very comfortable apartment with loads of priva...</td>\n",
       "    </tr>\n",
       "  </tbody>\n",
       "</table>\n",
       "</div>"
      ],
      "text/plain": [
       "     listing_id         id        date  \\\n",
       "96          958  172021239  2017-07-19   \n",
       "97          958  174401034  2017-07-25   \n",
       "98          958  177060286  2017-08-01   \n",
       "99          958  178027423  2017-08-04   \n",
       "100         958  180175634  2017-08-09   \n",
       "101         958  180981797  2017-08-11   \n",
       "\n",
       "                                              comments  \n",
       "96   We, a family of four with two little kids, sta...  \n",
       "97                                                      \n",
       "98   Great place, very well located! Well furnished...  \n",
       "99   My husband and I had a wonderful stay at Holly...  \n",
       "100                                                     \n",
       "101  Very comfortable apartment with loads of priva...  "
      ]
     },
     "execution_count": 142,
     "metadata": {},
     "output_type": "execute_result"
    }
   ],
   "source": [
    "# Bring in the rest of the dataframe\n",
    "reviews_temp=reviews.drop(['comments'], axis=1)\n",
    "reviews_temp.head()\n",
    "reviews_noForeignLang = pd.merge(reviews_temp,pd.DataFrame(reviews_noForeignLang, columns=['comments']),left_index=True, right_index=True)\n",
    "reviews_noForeignLang.iloc[96:102]"
   ]
  },
  {
   "cell_type": "code",
   "execution_count": null,
   "metadata": {
    "collapsed": true,
    "hidden": true
   },
   "outputs": [],
   "source": [
    "# import pickle\n",
    "# os.chdir('/home/ubuntu/data')\n",
    "# with open('reviews_noForeignLang.pkl', 'wb') as file: # reviews_cleaned2 is the one with the pronouns removed\n",
    "#     pickle.dump(reviews_cleaned, file)\n",
    "# with open('reviews_noForeignLang.pkl', 'rb') as file:\n",
    "#     reviews_noForeignLang = pickle.load(file)\n",
    "# scp -i ~/.ssh/aws_key.pem ubuntu@18.191.195.42:/home/ubuntu/data/reviews_cleaned3.pkl bellepeng@127.0.0.0: ~/Desktop"
   ]
  },
  {
   "cell_type": "markdown",
   "metadata": {
    "hidden": true
   },
   "source": [
    "#### Reduce the size of my dataset: delete ones with no comment, take only most recent 20 reviews"
   ]
  },
  {
   "cell_type": "code",
   "execution_count": 143,
   "metadata": {
    "ExecuteTime": {
     "end_time": "2018-09-14T01:20:14.088882Z",
     "start_time": "2018-09-14T01:20:13.990972Z"
    },
    "hidden": true
   },
   "outputs": [
    {
     "name": "stdout",
     "output_type": "stream",
     "text": [
      "(260217, 4)\n"
     ]
    },
    {
     "data": {
      "text/html": [
       "<div>\n",
       "<style>\n",
       "    .dataframe thead tr:only-child th {\n",
       "        text-align: right;\n",
       "    }\n",
       "\n",
       "    .dataframe thead th {\n",
       "        text-align: left;\n",
       "    }\n",
       "\n",
       "    .dataframe tbody tr th {\n",
       "        vertical-align: top;\n",
       "    }\n",
       "</style>\n",
       "<table border=\"1\" class=\"dataframe\">\n",
       "  <thead>\n",
       "    <tr style=\"text-align: right;\">\n",
       "      <th></th>\n",
       "      <th>listing_id</th>\n",
       "      <th>id</th>\n",
       "      <th>date</th>\n",
       "      <th>comments</th>\n",
       "    </tr>\n",
       "  </thead>\n",
       "  <tbody>\n",
       "    <tr>\n",
       "      <th>103</th>\n",
       "      <td>958</td>\n",
       "      <td>183230677</td>\n",
       "      <td>2017-08-16</td>\n",
       "      <td>Very comfortable and clean. Holly was attentiv...</td>\n",
       "    </tr>\n",
       "    <tr>\n",
       "      <th>104</th>\n",
       "      <td>958</td>\n",
       "      <td>185107964</td>\n",
       "      <td>2017-08-20</td>\n",
       "      <td>The neighborhood was great. Walking distance t...</td>\n",
       "    </tr>\n",
       "    <tr>\n",
       "      <th>106</th>\n",
       "      <td>958</td>\n",
       "      <td>187813439</td>\n",
       "      <td>2017-08-27</td>\n",
       "      <td>We had a fantastic stay at Holly's place. The ...</td>\n",
       "    </tr>\n",
       "    <tr>\n",
       "      <th>108</th>\n",
       "      <td>958</td>\n",
       "      <td>192900392</td>\n",
       "      <td>2017-09-11</td>\n",
       "      <td>The neighborhood is lovely. It was super easy ...</td>\n",
       "    </tr>\n",
       "    <tr>\n",
       "      <th>109</th>\n",
       "      <td>958</td>\n",
       "      <td>196324178</td>\n",
       "      <td>2017-09-22</td>\n",
       "      <td>The apartment was perfect. In a lovely neighbo...</td>\n",
       "    </tr>\n",
       "    <tr>\n",
       "      <th>110</th>\n",
       "      <td>958</td>\n",
       "      <td>198789221</td>\n",
       "      <td>2017-09-30</td>\n",
       "      <td>If you want to fell  the concept \" Being home ...</td>\n",
       "    </tr>\n",
       "  </tbody>\n",
       "</table>\n",
       "</div>"
      ],
      "text/plain": [
       "     listing_id         id        date  \\\n",
       "103         958  183230677  2017-08-16   \n",
       "104         958  185107964  2017-08-20   \n",
       "106         958  187813439  2017-08-27   \n",
       "108         958  192900392  2017-09-11   \n",
       "109         958  196324178  2017-09-22   \n",
       "110         958  198789221  2017-09-30   \n",
       "\n",
       "                                              comments  \n",
       "103  Very comfortable and clean. Holly was attentiv...  \n",
       "104  The neighborhood was great. Walking distance t...  \n",
       "106  We had a fantastic stay at Holly's place. The ...  \n",
       "108  The neighborhood is lovely. It was super easy ...  \n",
       "109  The apartment was perfect. In a lovely neighbo...  \n",
       "110  If you want to fell  the concept \" Being home ...  "
      ]
     },
     "execution_count": 143,
     "metadata": {},
     "output_type": "execute_result"
    }
   ],
   "source": [
    "# Delete the lines with no comment, i.e. in foreign language (278884 - 260217) deleted 7%\n",
    "reviews_noForeignLang = reviews_noForeignLang[reviews_noForeignLang.comments != ' ']\n",
    "print(reviews_noForeignLang.shape)\n",
    "reviews_noForeignLang[96:102]"
   ]
  },
  {
   "cell_type": "code",
   "execution_count": 144,
   "metadata": {
    "ExecuteTime": {
     "end_time": "2018-09-14T01:20:16.584916Z",
     "start_time": "2018-09-14T01:20:16.557369Z"
    },
    "hidden": true
   },
   "outputs": [
    {
     "name": "stdout",
     "output_type": "stream",
     "text": [
      "(260217, 4) (74109, 4)\n"
     ]
    },
    {
     "data": {
      "text/html": [
       "<div>\n",
       "<style>\n",
       "    .dataframe thead tr:only-child th {\n",
       "        text-align: right;\n",
       "    }\n",
       "\n",
       "    .dataframe thead th {\n",
       "        text-align: left;\n",
       "    }\n",
       "\n",
       "    .dataframe tbody tr th {\n",
       "        vertical-align: top;\n",
       "    }\n",
       "</style>\n",
       "<table border=\"1\" class=\"dataframe\">\n",
       "  <thead>\n",
       "    <tr style=\"text-align: right;\">\n",
       "      <th></th>\n",
       "      <th>listing_id</th>\n",
       "      <th>id</th>\n",
       "      <th>date</th>\n",
       "      <th>comments</th>\n",
       "    </tr>\n",
       "  </thead>\n",
       "  <tbody>\n",
       "    <tr>\n",
       "      <th>131</th>\n",
       "      <td>958</td>\n",
       "      <td>249775050</td>\n",
       "      <td>2018-04-02</td>\n",
       "      <td>A perfect spot for a mid-to-long break. Near s...</td>\n",
       "    </tr>\n",
       "    <tr>\n",
       "      <th>132</th>\n",
       "      <td>958</td>\n",
       "      <td>252914991</td>\n",
       "      <td>2018-04-12</td>\n",
       "      <td>We had a fantastic stay with Holly, her place ...</td>\n",
       "    </tr>\n",
       "    <tr>\n",
       "      <th>133</th>\n",
       "      <td>958</td>\n",
       "      <td>256377297</td>\n",
       "      <td>2018-04-22</td>\n",
       "      <td>Great Air BnB in a handy position in v nice su...</td>\n",
       "    </tr>\n",
       "    <tr>\n",
       "      <th>134</th>\n",
       "      <td>958</td>\n",
       "      <td>267480372</td>\n",
       "      <td>2018-05-21</td>\n",
       "      <td>Great place to stay and explore San Francisco....</td>\n",
       "    </tr>\n",
       "    <tr>\n",
       "      <th>135</th>\n",
       "      <td>958</td>\n",
       "      <td>268720981</td>\n",
       "      <td>2018-05-25</td>\n",
       "      <td>Holly's place was great. Clean, sunny and well...</td>\n",
       "    </tr>\n",
       "  </tbody>\n",
       "</table>\n",
       "</div>"
      ],
      "text/plain": [
       "     listing_id         id        date  \\\n",
       "131         958  249775050  2018-04-02   \n",
       "132         958  252914991  2018-04-12   \n",
       "133         958  256377297  2018-04-22   \n",
       "134         958  267480372  2018-05-21   \n",
       "135         958  268720981  2018-05-25   \n",
       "\n",
       "                                              comments  \n",
       "131  A perfect spot for a mid-to-long break. Near s...  \n",
       "132  We had a fantastic stay with Holly, her place ...  \n",
       "133  Great Air BnB in a handy position in v nice su...  \n",
       "134  Great place to stay and explore San Francisco....  \n",
       "135  Holly's place was great. Clean, sunny and well...  "
      ]
     },
     "execution_count": 144,
     "metadata": {},
     "output_type": "execute_result"
    }
   ],
   "source": [
    "# Keep only the 20 most recent (260217 - 74109)\n",
    "reviews_recent20 = reviews_noForeignLang.groupby(['listing_id']).tail(20)\n",
    "print(reviews_noForeignLang.shape, reviews_recent20.shape)\n",
    "reviews_recent20.head()"
   ]
  },
  {
   "cell_type": "code",
   "execution_count": 14,
   "metadata": {
    "ExecuteTime": {
     "end_time": "2018-09-12T20:56:34.514183Z",
     "start_time": "2018-09-12T20:56:34.504120Z"
    },
    "hidden": true
   },
   "outputs": [
    {
     "name": "stdout",
     "output_type": "stream",
     "text": [
      "5457\n"
     ]
    },
    {
     "data": {
      "text/plain": [
       "array([ 958, 5858, 7918, 8142, 8339])"
      ]
     },
     "execution_count": 14,
     "metadata": {},
     "output_type": "execute_result"
    }
   ],
   "source": [
    "# Get all the IDs of the listings\n",
    "listing_ids=reviews_noForeignLang['listing_id'].unique()\n",
    "print(len(listing_ids))\n",
    "listing_ids[:5]"
   ]
  },
  {
   "cell_type": "markdown",
   "metadata": {
    "heading_collapsed": true
   },
   "source": [
    "## Run Summarizer"
   ]
  },
  {
   "cell_type": "code",
   "execution_count": null,
   "metadata": {
    "collapsed": true,
    "hidden": true
   },
   "outputs": [],
   "source": [
    "def review_summarizer(text, num_sentences=3, printToScreen=False):\n",
    "    parser = PlaintextParser(text, Tokenizer('english'))\n",
    "    \n",
    "    Summarizer_LexRank = LexRankSummarizer()\n",
    "    summary_LexRank = Summarizer_LexRank(parser.document, num_sentences) \n",
    "    if printToScreen==True:\n",
    "        print(\"LexRank Summarizer:\")\n",
    "        for sentence in summary_LexRank:\n",
    "            print(sentence)\n",
    "        print()\n",
    "    \n",
    "    Summarizer_Lsa = LsaSummarizer()\n",
    "    summary_LSA = Summarizer_Lsa(parser.document, num_sentences)\n",
    "    if printToScreen==True:\n",
    "        print(\"LSA Summarizer:\")\n",
    "        for sentence in summary_LSA:\n",
    "            print(sentence)\n",
    "        print()\n",
    "    \n",
    "#     Summarizer_Luhn = LuhnSummarizer()\n",
    "#     summary_Luhn = Summarizer_Luhn(parser.document, num_sentences)\n",
    "#     if printToScreen==True:\n",
    "#         print(\"Luhn Summarizer:\")\n",
    "#         for sentence in summary_Luhn:\n",
    "#             print(sentence)\n",
    "#         print()\n",
    "    \n",
    "#     Summarizer_TextRank = TextRankSummarizer()\n",
    "#     summary_TextRank = Summarizer_TextRank(parser.document, num_sentences)\n",
    "#     if printToScreen==True:\n",
    "#         print(\"Text Rank Summarizer:\")\n",
    "#         for sentence in summary_TextRank:\n",
    "#             print(sentence)\n",
    "#         print()\n",
    "    \n",
    "    return  summary_LexRank, summary_LSA\n",
    "    # , summary_Luhn, summary_TextRank\n",
    "    #Summarizer_LexRank, Summarizer_Lsa, Summarizer_Luhn, Summarizer_TextRank, \\"
   ]
  },
  {
   "cell_type": "code",
   "execution_count": null,
   "metadata": {
    "collapsed": true,
    "hidden": true
   },
   "outputs": [],
   "source": [
    "# Implement for all\n",
    "def summarize_all_reviews(reviews, listing_ids, num_sentences=3, printToScreen=False):\n",
    "    summaryLexRank = []\n",
    "    summaryLSA = []\n",
    "    # summaryLuhn = []\n",
    "    # summaryTextRank = []\n",
    "    \n",
    "    # Get the reviews for one listing at a time\n",
    "    for i in listing_ids:\n",
    "        print(\"listing id:\", i)\n",
    "        ix_one_review = list(reviews[reviews['listing_id']==i].index)\n",
    "        reviews_one_listing = [reviews['comments'].ix[ix] for ix in ix_one_review]\n",
    "        \n",
    "        # Prepare the data: put all the reviews together\n",
    "        reviews_one_listing2 = (\" \").join(item for item in reviews_one_listing if isinstance(item, str))\n",
    "        \n",
    "        # Summarize\n",
    "        # sum1_LexRank, sum1_LSA, sum1_Luhn, sum1_TextRank = \\\n",
    "        sum1_LexRank, sum1_LSA = \\\n",
    "        review_summarizer(reviews_one_listing2, num_sentences=num_sentences, printToScreen=printToScreen)\n",
    "        \n",
    "        # Add to list of summaries\n",
    "        stringLexRank = str(\"\")\n",
    "        stringLSA = str(\"\")\n",
    "        for i in range(len(sum1_LexRank)):\n",
    "            stringLexRank = stringLexRank + str(sum1_LexRank[i])+\" \"\n",
    "            stringLSA = stringLSA + str(sum1_LSA[i])+\" \"\n",
    "            \n",
    "        summaryLexRank.append(stringLexRank)\n",
    "        summaryLSA.append(stringLSA)\n",
    "        # summaryLuhn.append(str(sum1_Luhn[0])+\" \"+str(sum1_Luhn[1]))\n",
    "        # summaryTextRank.append(str(sum1_TextRank[0])+\" \"+str(sum1_TextRank[1]))\n",
    "\n",
    "    return summaryLexRank, summaryLSA #, summaryLuhn, summaryTextRank"
   ]
  },
  {
   "cell_type": "code",
   "execution_count": null,
   "metadata": {
    "collapsed": true,
    "hidden": true
   },
   "outputs": [],
   "source": [
    "summaryLexRank, summaryLSA = \\\n",
    "    summarize_all_reviews(reviews=reviews_recent20, listing_ids=listing_ids, num_sentences=2, printToScreen=False)"
   ]
  },
  {
   "cell_type": "code",
   "execution_count": null,
   "metadata": {
    "collapsed": true,
    "hidden": true
   },
   "outputs": [],
   "source": [
    "print(len(summaryLexRank), len(summaryLSA))\n",
    "print(summaryLexRank[:2])\n",
    "print()\n",
    "print(summaryLSA[:2])"
   ]
  },
  {
   "cell_type": "code",
   "execution_count": null,
   "metadata": {
    "collapsed": true,
    "hidden": true
   },
   "outputs": [],
   "source": [
    "with open('/home/ubuntu/data/summaryLexRank_all.pkl', 'wb') as file: \n",
    "    pickle.dump(summaryLexRank, file)\n",
    "with open('/home/ubuntu/data/summaryLSA_all.pkl', 'wb') as file: \n",
    "    pickle.dump(summaryLSA, file)\n",
    "# with open('/home/ubuntu/data/summaryLuhn400.pkl', 'wb') as file: \n",
    "#     pickle.dump(summaryLuhn3, file)\n",
    "# with open('/home/ubuntu/data/summaryTextRank400.pkl', 'wb') as file: \n",
    "#     pickle.dump(summaryTextRank3, file)"
   ]
  },
  {
   "cell_type": "code",
   "execution_count": null,
   "metadata": {
    "collapsed": true,
    "hidden": true
   },
   "outputs": [],
   "source": [
    "len(listing_ids)"
   ]
  },
  {
   "cell_type": "markdown",
   "metadata": {
    "hidden": true
   },
   "source": [
    "__Diagnose errors__"
   ]
  },
  {
   "cell_type": "code",
   "execution_count": null,
   "metadata": {
    "collapsed": true,
    "hidden": true
   },
   "outputs": [],
   "source": [
    "print(list(listing_ids).index(1471683))\n",
    "print(np.argwhere(listing_ids==1471683))\n",
    "listing_ids[783]"
   ]
  },
  {
   "cell_type": "code",
   "execution_count": null,
   "metadata": {
    "collapsed": true,
    "hidden": true
   },
   "outputs": [],
   "source": [
    "import re\n",
    "# re.search(a, 'place')\n",
    "re.search('close', str(list(a)))\n",
    "# str(list(a))[201:205]"
   ]
  },
  {
   "cell_type": "markdown",
   "metadata": {
    "collapsed": true,
    "heading_collapsed": true,
    "hidden": true
   },
   "source": [
    "#### Create a summarized Dataset of Listing_ID, summaryLexRank, and summaryLSA"
   ]
  },
  {
   "cell_type": "code",
   "execution_count": null,
   "metadata": {
    "collapsed": true,
    "hidden": true
   },
   "outputs": [],
   "source": [
    "print(len(summaryLexRank), len(summaryLSA), len(listing_ids))\n",
    "summary_df = pd.DataFrame(np.column_stack([listing_ids, summaryLexRank, summaryLSA]), \n",
    "                          columns=['listing_id', 'summaryLexRank', 'summaryLSA'])\n",
    "print(summary_df.shape)\n",
    "# summary_df.head(2)\n",
    "# summary_df['summaryLexRank'].iloc[0]"
   ]
  },
  {
   "cell_type": "code",
   "execution_count": null,
   "metadata": {
    "collapsed": true,
    "hidden": true
   },
   "outputs": [],
   "source": [
    "# with open('/home/ubuntu/data/summary_df.pkl', 'wb') as file:\n",
    "#     pickle.dump(summary_df, file)"
   ]
  },
  {
   "cell_type": "code",
   "execution_count": null,
   "metadata": {
    "collapsed": true,
    "hidden": true
   },
   "outputs": [],
   "source": []
  },
  {
   "cell_type": "markdown",
   "metadata": {},
   "source": [
    "## Topic Modeling"
   ]
  },
  {
   "cell_type": "markdown",
   "metadata": {
    "heading_collapsed": true
   },
   "source": [
    "### Preprocess & Vectorize for Topic Modelling (Vectorize and clean only the top 20 reviews for each listing)"
   ]
  },
  {
   "cell_type": "code",
   "execution_count": 12,
   "metadata": {
    "ExecuteTime": {
     "end_time": "2018-09-13T21:25:01.382168Z",
     "start_time": "2018-09-13T21:25:01.368681Z"
    },
    "hidden": true
   },
   "outputs": [
    {
     "name": "stdout",
     "output_type": "stream",
     "text": [
      "179\n",
      "192\n",
      "195\n",
      "218\n"
     ]
    }
   ],
   "source": [
    "# Remove Stop Words\n",
    "stop = stopwords.words('english')\n",
    "print(len(stop))\n",
    "punctuations = ['.', ',', '(', ')', \"!\", \"?\", \"'\", '\"', \"<\", \">\", \"-\", \":\", \";\"]\n",
    "more = [\"/n\", \"/t\", \"'s\"]\n",
    "airbnb =['me', 'us', 'our', 'you', 'your', 'yours', 'her', 'his', 'him', 'her', 'was', 'is', 'them', 'there', \n",
    "         'great', 'place', 'stay', 'recommend',  'would', 'even', 'good', 'wait', 'still'] \n",
    "stop += punctuations\n",
    "print(len(stop))\n",
    "stop += more\n",
    "print(len(stop))\n",
    "stop += airbnb\n",
    "print(len(stop))"
   ]
  },
  {
   "cell_type": "code",
   "execution_count": 13,
   "metadata": {
    "ExecuteTime": {
     "end_time": "2018-09-13T21:25:01.955998Z",
     "start_time": "2018-09-13T21:25:01.941308Z"
    },
    "collapsed": true,
    "hidden": true
   },
   "outputs": [],
   "source": [
    "def clean_text(text):\n",
    "    if (type(text)==float):         # For missings\n",
    "        return \"\"\n",
    "    else:\n",
    "        text = contractions.fix(text) # Fix Contractions\n",
    "        tokens = word_tokenize(text)  # Tokenize\n",
    "        # remove pronouns\n",
    "        pos = nltk.pos_tag(tokens)   \n",
    "        list_to_remove=[]\n",
    "        for i in range(len(tokens)):\n",
    "            if len(pos[i][1])>0 and pos[i][1] in (\"NNP\", \"NNPS\"):\n",
    "                list_to_remove.append(i)\n",
    "        tokens = np.delete(tokens, list_to_remove)\n",
    "        # Lemmatize\n",
    "        lemmatize = WordNetLemmatizer()\n",
    "        clean_text = [lemmatize.lemmatize(token.lower().strip(), pos='v') for token in tokens]\n",
    "        # Remove stop words\n",
    "        clean_text = [x for x in clean_text if x not in stop]\n",
    "    \n",
    "    return ' '.join(clean_text)"
   ]
  },
  {
   "cell_type": "code",
   "execution_count": 19,
   "metadata": {
    "ExecuteTime": {
     "end_time": "2018-09-12T21:05:08.475323Z",
     "start_time": "2018-09-12T20:58:41.056313Z"
    },
    "hidden": true
   },
   "outputs": [
    {
     "name": "stdout",
     "output_type": "stream",
     "text": [
      "74109\n"
     ]
    }
   ],
   "source": [
    "# Clean just the top 20 reviews for each listing\n",
    "reviews_cleaned = [clean_text(r) for r in reviews_recent20['comments']]\n",
    "print(len(reviews_cleaned))"
   ]
  },
  {
   "cell_type": "code",
   "execution_count": 14,
   "metadata": {
    "ExecuteTime": {
     "end_time": "2018-09-13T21:49:35.807180Z",
     "start_time": "2018-09-13T21:25:03.810391Z"
    },
    "hidden": true
   },
   "outputs": [
    {
     "name": "stdout",
     "output_type": "stream",
     "text": [
      "278884\n"
     ]
    }
   ],
   "source": [
    "# Clean all of the reviews\n",
    "reviews_cleaned_all = [clean_text(r) for r in reviews_noForeignLang['comments']]\n",
    "print(len(reviews_cleaned_all))"
   ]
  },
  {
   "cell_type": "code",
   "execution_count": 15,
   "metadata": {
    "ExecuteTime": {
     "end_time": "2018-09-13T21:49:35.922411Z",
     "start_time": "2018-09-13T21:49:35.809259Z"
    },
    "collapsed": true,
    "hidden": true
   },
   "outputs": [],
   "source": [
    "os.chdir('/home/ubuntu/data')\n",
    "with open('reviews_cleaned_all.pkl', 'wb') as file:\n",
    "    pickle.dump(reviews_cleaned_all, file)"
   ]
  },
  {
   "cell_type": "code",
   "execution_count": 23,
   "metadata": {
    "ExecuteTime": {
     "end_time": "2018-09-12T21:11:31.181867Z",
     "start_time": "2018-09-12T21:11:31.147870Z"
    },
    "collapsed": true,
    "hidden": true
   },
   "outputs": [],
   "source": [
    "os.chdir('/home/ubuntu/data')\n",
    "with open('reviews_cleaned.pkl', 'wb') as file:\n",
    "    pickle.dump(reviews_cleaned, file)"
   ]
  },
  {
   "cell_type": "code",
   "execution_count": null,
   "metadata": {
    "collapsed": true,
    "hidden": true
   },
   "outputs": [],
   "source": []
  },
  {
   "cell_type": "markdown",
   "metadata": {
    "heading_collapsed": true
   },
   "source": [
    "### Topic Modeling\n",
    "For the 20 most recent reviews of each listing:  \n",
    "1. Count Vectorize\n",
    "1. NMF to get the topics\n",
    "1. Get the highest topic for each review\n",
    "1. For each listing, get the highet frequency of the topic\n",
    "1. Label the topic mannualy"
   ]
  },
  {
   "cell_type": "code",
   "execution_count": 16,
   "metadata": {
    "ExecuteTime": {
     "end_time": "2018-09-13T21:49:35.928826Z",
     "start_time": "2018-09-13T21:49:35.924620Z"
    },
    "collapsed": true,
    "hidden": true
   },
   "outputs": [],
   "source": [
    "# Vectorize\n",
    "from sklearn.feature_extraction.text import CountVectorizer, TfidfVectorizer\n",
    "count_vectorizer = CountVectorizer(ngram_range=(1,2), stop_words=stop, lowercase=True)\n",
    "tfidf_vectorizer = TfidfVectorizer(ngram_range=(1,2), stop_words=stop, lowercase=True)"
   ]
  },
  {
   "cell_type": "markdown",
   "metadata": {
    "heading_collapsed": true
   },
   "source": [
    "### Find the topic of each review, then aggregate up to the listing level"
   ]
  },
  {
   "cell_type": "code",
   "execution_count": 17,
   "metadata": {
    "ExecuteTime": {
     "end_time": "2018-09-13T21:53:40.908055Z",
     "start_time": "2018-09-13T21:53:40.896965Z"
    },
    "collapsed": true,
    "hidden": true
   },
   "outputs": [],
   "source": [
    "# Display the topics and save the topic words\n",
    "def display_topics(model, fit, feature_names, no_top_words, topic_names=None):\n",
    "    topic_words=[]\n",
    "    for ix, topic in enumerate(model.components_):\n",
    "        if not topic_names or not topic_names[ix]:\n",
    "            print(\"\\nTopic {a:} score: {b: 6.1f}%\".format(a=ix, b=100*sum(fit[:,ix])/fit.sum()   ))\n",
    "        else:\n",
    "            print(\"\\nTopic {a:} score: {b: 6.1f}%\".format(a=topic_names[ix], b=100*sum(fit[:,ix])/fit.sum()   ))\n",
    "        \n",
    "        single_topic=[feature_names[i] for i in topic.argsort()[:-no_top_words - 1:-1]]\n",
    "        print(\", \".join(single_topic))\n",
    "        topic_words.append(single_topic)\n",
    "               \n",
    "    return topic_words"
   ]
  },
  {
   "cell_type": "code",
   "execution_count": 154,
   "metadata": {
    "ExecuteTime": {
     "end_time": "2018-09-14T02:15:59.062548Z",
     "start_time": "2018-09-14T02:14:28.971919Z"
    },
    "hidden": true,
    "scrolled": true
   },
   "outputs": [
    {
     "name": "stdout",
     "output_type": "stream",
     "text": [
      "Count Vectorizer Shape (74109, 458854)\n",
      "TFIDF Vectorizer Shape (74109, 458854)\n",
      "\n",
      "NMF Decomposition with Count Vectorizer\n",
      "\n",
      "Topic 0 score:    3.2%\n",
      "room, bathroom, live, live room, kitchen, share, private, bed, one, room clean, large, hotel, small, two, guests, floor, bedroom, spacious, door, use\n",
      "\n",
      "Topic 1 score:    5.2%\n",
      "apartment, apartment clean, spacious, locate, lovely, live, beautiful, apartment location, two, kitchen, build, apartment perfect, responsive, apartment spacious, highly, helpful, apartment locate, street, lot, apartment beautiful\n",
      "\n",
      "Topic 2 score:    5.8%\n",
      "home, beautiful, like, felt, feel, away, love, family, lovely, wonderful, like home, away home, home away, welcome, perfect, felt like, beautiful home, enjoy, home beautiful, neighborhood\n",
      "\n",
      "Topic 3 score:    7.7%\n",
      "host, wonderful, arrival, days, friendly, wonderful host, reservation, post, cancel, helpful, amaze, automate, arrival automate, automate post, host cancel, cancel reservation, days arrival, excellent, responsive, accommodate\n",
      "\n",
      "Topic 4 score:    4.8%\n",
      "walk, distance, walk distance, within, restaurants, within walk, shop, short, minute, many, short walk, minute walk, away, coffee, bar, area, minutes, 10, bus, store\n",
      "\n",
      "Topic 5 score:    6.2%\n",
      "neighborhood, close, quiet, restaurants, shop, public, safe, transportation, area, public transportation, quiet neighborhood, lot, coffee, block, locate, away, also, love, bar, downtown\n",
      "\n",
      "Topic 6 score:    7.0%\n",
      "clean, super, definitely, clean comfortable, super clean, spacious, room clean, apartment clean, friendly, clean spacious, clean well, spacious clean, bathroom, clean quiet, safe, helpful, modern, nice clean, towel, convenient\n",
      "\n",
      "Topic 7 score:    5.4%\n",
      "everything, need, everything need, perfect, could, everything could, anything, sure, definitely, sure everything, clean everything, provide, thank, make sure, close everything, could need, help, want, always, love\n",
      "\n",
      "Topic 8 score:    4.1%\n",
      "really, enjoy, really enjoy, really nice, like, also, helpful, lot, super, really appreciate, appreciate, love, cool, lovely, host really, really helpful, friendly, location really, really easy, really clean\n",
      "\n",
      "Topic 9 score:    3.7%\n",
      "house, beautiful, family, house clean, house beautiful, love, kitchen, lovely, wonderful, also, live, house location, leave, lot, house perfect, locate, experience, kid, two, people\n",
      "\n",
      "Topic 10 score:    5.5%\n",
      "get, also, one, around, like, use, could, go, night, take, little, day, people, area, want, bed, work, leave, away, find\n",
      "\n",
      "Topic 11 score:    5.4%\n",
      "comfortable, bed, bed comfortable, comfortable bed, clean comfortable, space, sleep, super, super comfortable, spacious, shower, bathroom, kitchen, extremely, coffee, lovely, love, comfortable clean, felt, beautiful\n",
      "\n",
      "Topic 12 score:    3.8%\n",
      "make, feel, sure, make feel, make sure, welcome, go, experience, feel welcome, like, feel like, host make, feel home, way, trip, sure everything, touch, amaze, best, first\n",
      "\n",
      "Topic 13 score:    3.8%\n",
      "easy, check, access, easy access, super, easy get, communicate, check check, communication, easy check, easy communicate, check easy, quick, super easy, get, easy walk, process, location easy, public, check process\n",
      "\n",
      "Topic 14 score:    4.4%\n",
      "nice, really nice, area, nice clean, nice quiet, super nice, nice host, super, touch, little, nice touch, helpful, nice neighborhood, room nice, nice location, lot, clean nice, location nice, people, view\n",
      "\n",
      "Topic 15 score:    6.8%\n",
      "location, perfect, location perfect, excellent, perfect location, definitely, fantastic, convenient, amaze, location close, central, love, helpful, convenient location, responsive, value, excellent location, amaze location, central location, friendly\n",
      "\n",
      "Topic 16 score:    3.9%\n",
      "well, kitchen, equip, well equip, locate, clean well, well locate, work, stock, appoint, well stock, well appoint, area, kitchen well, spacious, decorate, cook, work well, family, flat\n",
      "\n",
      "Topic 17 score:    4.6%\n",
      "city, view, perfect, amaze, beautiful, view city, explore, back, definitely, visit, love, enjoy, day, explore city, amaze view, part, best, come, around, hill\n",
      "\n",
      "Topic 18 score:    4.4%\n",
      "park, space, street, find, car, spot, street park, block, family, garage, two, plenty, find park, drive, kitchen, available, live, right, love, kid\n",
      "\n",
      "Topic 19 score:    4.2%\n",
      "time, back, come, definitely, next, next time, come back, first, check, spend, visit, love, first time, wonderful, experience, much, book, day, spend time, go\n"
     ]
    }
   ],
   "source": [
    "# NMF\n",
    "n_comp=20\n",
    "n_words=20\n",
    "\n",
    "cv = count_vectorizer.fit_transform(reviews_cleaned)\n",
    "tfidf = tfidf_vectorizer.fit_transform(reviews_cleaned)\n",
    "print(\"Count Vectorizer Shape\", cv.shape)\n",
    "print(\"TFIDF Vectorizer Shape\", tfidf.shape)\n",
    "print()\n",
    "\n",
    "print(\"NMF Decomposition with Count Vectorizer\")\n",
    "nmf = NMF(n_components=n_comp)\n",
    "nmf_data = nmf.fit_transform(cv)\n",
    "\n",
    "topics_nmf = display_topics(nmf, nmf_data, count_vectorizer.get_feature_names(), n_words)"
   ]
  },
  {
   "cell_type": "code",
   "execution_count": 355,
   "metadata": {
    "ExecuteTime": {
     "end_time": "2018-09-16T05:08:19.522264Z",
     "start_time": "2018-09-16T05:08:19.518521Z"
    },
    "collapsed": true,
    "hidden": true
   },
   "outputs": [],
   "source": [
    "topic_labels = ['Bathroom, Livingroom, Kitchen, Bedroom', 'Lovely apartment', 'Home feels like home away from home',\n",
    "                'Cancellation / Reservation / Arrival', 'Within walking distance to shops/restaurants/cafe',\n",
    "                'Quiet neighborhood, close to public transportation', 'Clean', 'Generic thank you, nothing specific', 'Really enjoyed it',\n",
    "                'Beautiful house', 'Good area for work', 'Comfort', 'Feels welcoming', 'Communication and access to downtown/transportation',\n",
    "                'Nice host', 'Perfect location', 'Well equipt', 'Beautiful view / city view', 'Parking', \n",
    "                'Definitely will come back next time!'\n",
    "               ]"
   ]
  },
  {
   "cell_type": "code",
   "execution_count": 356,
   "metadata": {
    "ExecuteTime": {
     "end_time": "2018-09-16T05:08:21.733632Z",
     "start_time": "2018-09-16T05:08:21.726871Z"
    },
    "hidden": true
   },
   "outputs": [
    {
     "name": "stdout",
     "output_type": "stream",
     "text": [
      "['room', 'bathroom', 'live', 'live room', 'kitchen', 'share', 'private', 'bed', 'one', 'room clean', 'large', 'hotel', 'small', 'two', 'guests', 'floor', 'bedroom', 'spacious', 'door', 'use']\n",
      "(74109, 20)\n",
      "[ 0 16 14 13 12 11 10  8  9  3  2  1 19  6 15 17  5 18  4  7]\n",
      "[ 7  4 18  5 17 15  6 19  1  2  3  9  8 10 11 12 13 14 16  0]\n",
      "7\n"
     ]
    }
   ],
   "source": [
    "# testing \n",
    "len(topics_nmf)\n",
    "print(topics_nmf[0])\n",
    "print(nmf_data.shape)\n",
    "print(nmf_data[0].argsort())\n",
    "print(nmf_data[0].argsort()[::-1])\n",
    "print(nmf_data[0].argsort()[::-1][0])"
   ]
  },
  {
   "cell_type": "code",
   "execution_count": 357,
   "metadata": {
    "ExecuteTime": {
     "end_time": "2018-09-16T05:08:32.493088Z",
     "start_time": "2018-09-16T05:08:32.359689Z"
    },
    "hidden": true
   },
   "outputs": [
    {
     "name": "stdout",
     "output_type": "stream",
     "text": [
      "74109\n"
     ]
    },
    {
     "data": {
      "text/plain": [
       "[7, 6, 13, 6, 7]"
      ]
     },
     "execution_count": 357,
     "metadata": {},
     "output_type": "execute_result"
    }
   ],
   "source": [
    "# Get the topic of each review\n",
    "topics = [review.argsort()[::-1][0] for review in nmf_data]\n",
    "print(len(topics))\n",
    "topics[:5]"
   ]
  },
  {
   "cell_type": "code",
   "execution_count": 358,
   "metadata": {
    "ExecuteTime": {
     "end_time": "2018-09-16T05:08:33.465918Z",
     "start_time": "2018-09-16T05:08:33.455294Z"
    },
    "hidden": true
   },
   "outputs": [
    {
     "name": "stdout",
     "output_type": "stream",
     "text": [
      "74109\n"
     ]
    },
    {
     "data": {
      "text/plain": [
       "['Generic thank you, nothing specific',\n",
       " 'Clean',\n",
       " 'Communication and access to downtown/transportation',\n",
       " 'Clean',\n",
       " 'Generic thank you, nothing specific',\n",
       " 'Clean',\n",
       " 'Well equipt',\n",
       " 'Within walking distance to shops/restaurants/cafe',\n",
       " 'Good area for work',\n",
       " 'Cancellation / Reservation / Arrival']"
      ]
     },
     "execution_count": 358,
     "metadata": {},
     "output_type": "execute_result"
    }
   ],
   "source": [
    "# Map to the labels\n",
    "topics_in_words = [topic_labels[x] for x in topics]\n",
    "print(len(topics_in_words))\n",
    "topics_in_words[:10]"
   ]
  },
  {
   "cell_type": "code",
   "execution_count": 372,
   "metadata": {
    "ExecuteTime": {
     "end_time": "2018-09-16T05:10:22.899595Z",
     "start_time": "2018-09-16T05:10:22.872646Z"
    },
    "hidden": true
   },
   "outputs": [
    {
     "data": {
      "text/plain": [
       "(74109, 5)"
      ]
     },
     "execution_count": 372,
     "metadata": {},
     "output_type": "execute_result"
    }
   ],
   "source": [
    "# merge back to data\n",
    "# reviews_recent20.reset_index(inplace=True)\n",
    "reviews_recent20_with_topics = pd.merge(reviews_recent20, pd.DataFrame(topics, columns=['review_topic']),\n",
    "                                       left_index=True, right_index=True)\n",
    "reviews_recent20_with_topics.shape"
   ]
  },
  {
   "cell_type": "code",
   "execution_count": 373,
   "metadata": {
    "ExecuteTime": {
     "end_time": "2018-09-16T05:10:25.197014Z",
     "start_time": "2018-09-16T05:10:25.187431Z"
    },
    "hidden": true
   },
   "outputs": [
    {
     "data": {
      "text/plain": [
       "(74109, 6)"
      ]
     },
     "execution_count": 373,
     "metadata": {},
     "output_type": "execute_result"
    }
   ],
   "source": [
    "reviews_recent20_with_topics2 = pd.merge(reviews_recent20_with_topics, pd.DataFrame(topics_in_words, columns=['review_topic_in_words']),\n",
    "                                       left_index=True, right_index=True)\n",
    "reviews_recent20_with_topics2.shape\n"
   ]
  },
  {
   "cell_type": "code",
   "execution_count": 374,
   "metadata": {
    "ExecuteTime": {
     "end_time": "2018-09-16T05:10:26.055490Z",
     "start_time": "2018-09-16T05:10:26.040538Z"
    },
    "hidden": true
   },
   "outputs": [
    {
     "data": {
      "text/html": [
       "<div>\n",
       "<style>\n",
       "    .dataframe thead tr:only-child th {\n",
       "        text-align: right;\n",
       "    }\n",
       "\n",
       "    .dataframe thead th {\n",
       "        text-align: left;\n",
       "    }\n",
       "\n",
       "    .dataframe tbody tr th {\n",
       "        vertical-align: top;\n",
       "    }\n",
       "</style>\n",
       "<table border=\"1\" class=\"dataframe\">\n",
       "  <thead>\n",
       "    <tr style=\"text-align: right;\">\n",
       "      <th></th>\n",
       "      <th>listing_id</th>\n",
       "      <th>id</th>\n",
       "      <th>date</th>\n",
       "      <th>comments</th>\n",
       "      <th>review_topic</th>\n",
       "      <th>review_topic_in_words</th>\n",
       "    </tr>\n",
       "  </thead>\n",
       "  <tbody>\n",
       "    <tr>\n",
       "      <th>0</th>\n",
       "      <td>958</td>\n",
       "      <td>249775050</td>\n",
       "      <td>2018-04-02</td>\n",
       "      <td>A perfect spot for a mid-to-long break. Near s...</td>\n",
       "      <td>7</td>\n",
       "      <td>Generic thank you, nothing specific</td>\n",
       "    </tr>\n",
       "    <tr>\n",
       "      <th>1</th>\n",
       "      <td>958</td>\n",
       "      <td>252914991</td>\n",
       "      <td>2018-04-12</td>\n",
       "      <td>We had a fantastic stay with Holly, her place ...</td>\n",
       "      <td>6</td>\n",
       "      <td>Clean</td>\n",
       "    </tr>\n",
       "    <tr>\n",
       "      <th>2</th>\n",
       "      <td>958</td>\n",
       "      <td>256377297</td>\n",
       "      <td>2018-04-22</td>\n",
       "      <td>Great Air BnB in a handy position in v nice su...</td>\n",
       "      <td>13</td>\n",
       "      <td>Communication and access to downtown/transport...</td>\n",
       "    </tr>\n",
       "    <tr>\n",
       "      <th>3</th>\n",
       "      <td>958</td>\n",
       "      <td>267480372</td>\n",
       "      <td>2018-05-21</td>\n",
       "      <td>Great place to stay and explore San Francisco....</td>\n",
       "      <td>6</td>\n",
       "      <td>Clean</td>\n",
       "    </tr>\n",
       "    <tr>\n",
       "      <th>4</th>\n",
       "      <td>958</td>\n",
       "      <td>268720981</td>\n",
       "      <td>2018-05-25</td>\n",
       "      <td>Holly's place was great. Clean, sunny and well...</td>\n",
       "      <td>7</td>\n",
       "      <td>Generic thank you, nothing specific</td>\n",
       "    </tr>\n",
       "  </tbody>\n",
       "</table>\n",
       "</div>"
      ],
      "text/plain": [
       "   listing_id         id        date  \\\n",
       "0         958  249775050  2018-04-02   \n",
       "1         958  252914991  2018-04-12   \n",
       "2         958  256377297  2018-04-22   \n",
       "3         958  267480372  2018-05-21   \n",
       "4         958  268720981  2018-05-25   \n",
       "\n",
       "                                            comments  review_topic  \\\n",
       "0  A perfect spot for a mid-to-long break. Near s...             7   \n",
       "1  We had a fantastic stay with Holly, her place ...             6   \n",
       "2  Great Air BnB in a handy position in v nice su...            13   \n",
       "3  Great place to stay and explore San Francisco....             6   \n",
       "4  Holly's place was great. Clean, sunny and well...             7   \n",
       "\n",
       "                               review_topic_in_words  \n",
       "0                Generic thank you, nothing specific  \n",
       "1                                              Clean  \n",
       "2  Communication and access to downtown/transport...  \n",
       "3                                              Clean  \n",
       "4                Generic thank you, nothing specific  "
      ]
     },
     "execution_count": 374,
     "metadata": {},
     "output_type": "execute_result"
    }
   ],
   "source": [
    "reviews_recent20_with_topics2.head()"
   ]
  },
  {
   "cell_type": "code",
   "execution_count": 375,
   "metadata": {
    "ExecuteTime": {
     "end_time": "2018-09-16T05:10:29.869444Z",
     "start_time": "2018-09-16T05:10:29.824423Z"
    },
    "hidden": true
   },
   "outputs": [
    {
     "name": "stdout",
     "output_type": "stream",
     "text": [
      "(14987, 2)\n"
     ]
    },
    {
     "data": {
      "text/html": [
       "<div>\n",
       "<style>\n",
       "    .dataframe thead tr:only-child th {\n",
       "        text-align: right;\n",
       "    }\n",
       "\n",
       "    .dataframe thead th {\n",
       "        text-align: left;\n",
       "    }\n",
       "\n",
       "    .dataframe tbody tr th {\n",
       "        vertical-align: top;\n",
       "    }\n",
       "</style>\n",
       "<table border=\"1\" class=\"dataframe\">\n",
       "  <thead>\n",
       "    <tr style=\"text-align: right;\">\n",
       "      <th></th>\n",
       "      <th>review_topic_in_words</th>\n",
       "      <th>topic_frequency</th>\n",
       "    </tr>\n",
       "    <tr>\n",
       "      <th>listing_id</th>\n",
       "      <th></th>\n",
       "      <th></th>\n",
       "    </tr>\n",
       "  </thead>\n",
       "  <tbody>\n",
       "    <tr>\n",
       "      <th>958</th>\n",
       "      <td>Clean</td>\n",
       "      <td>3</td>\n",
       "    </tr>\n",
       "    <tr>\n",
       "      <th>958</th>\n",
       "      <td>Generic thank you, nothing specific</td>\n",
       "      <td>2</td>\n",
       "    </tr>\n",
       "    <tr>\n",
       "      <th>958</th>\n",
       "      <td>Home feels like home away from home</td>\n",
       "      <td>2</td>\n",
       "    </tr>\n",
       "    <tr>\n",
       "      <th>5858</th>\n",
       "      <td>Beautiful house</td>\n",
       "      <td>3</td>\n",
       "    </tr>\n",
       "    <tr>\n",
       "      <th>5858</th>\n",
       "      <td>Clean</td>\n",
       "      <td>3</td>\n",
       "    </tr>\n",
       "  </tbody>\n",
       "</table>\n",
       "</div>"
      ],
      "text/plain": [
       "                          review_topic_in_words  topic_frequency\n",
       "listing_id                                                      \n",
       "958                                       Clean                3\n",
       "958         Generic thank you, nothing specific                2\n",
       "958         Home feels like home away from home                2\n",
       "5858                            Beautiful house                3\n",
       "5858                                      Clean                3"
      ]
     },
     "execution_count": 375,
     "metadata": {},
     "output_type": "execute_result"
    }
   ],
   "source": [
    "# Get the review topic counts on listing level\n",
    "listing_review_topic_counts = reviews_recent20_with_topics2.groupby(['listing_id'])['review_topic_in_words'].value_counts()\n",
    "\n",
    "# manipulate it back to dataframe and fix the cosmetics\n",
    "listing_top_topic = pd.DataFrame(listing_review_topic_counts.groupby(['listing_id']).head(3))\n",
    "listing_top_topic.columns=['topic_frequency']\n",
    "listing_top_topic.reset_index(inplace=True)\n",
    "listing_top_topic.set_index('listing_id', inplace=True)\n",
    "\n",
    "print(listing_top_topic.shape)\n",
    "listing_top_topic.head()"
   ]
  },
  {
   "cell_type": "code",
   "execution_count": 377,
   "metadata": {
    "ExecuteTime": {
     "end_time": "2018-09-16T05:10:47.984961Z",
     "start_time": "2018-09-16T05:10:47.972695Z"
    },
    "hidden": true
   },
   "outputs": [
    {
     "data": {
      "text/html": [
       "<div>\n",
       "<style>\n",
       "    .dataframe thead tr:only-child th {\n",
       "        text-align: right;\n",
       "    }\n",
       "\n",
       "    .dataframe thead th {\n",
       "        text-align: left;\n",
       "    }\n",
       "\n",
       "    .dataframe tbody tr th {\n",
       "        vertical-align: top;\n",
       "    }\n",
       "</style>\n",
       "<table border=\"1\" class=\"dataframe\">\n",
       "  <thead>\n",
       "    <tr style=\"text-align: right;\">\n",
       "      <th></th>\n",
       "      <th>Topic1</th>\n",
       "      <th>Topic1_freq</th>\n",
       "    </tr>\n",
       "    <tr>\n",
       "      <th>listing_id</th>\n",
       "      <th></th>\n",
       "      <th></th>\n",
       "    </tr>\n",
       "  </thead>\n",
       "  <tbody>\n",
       "    <tr>\n",
       "      <th>958</th>\n",
       "      <td>Clean</td>\n",
       "      <td>3</td>\n",
       "    </tr>\n",
       "    <tr>\n",
       "      <th>5858</th>\n",
       "      <td>Beautiful house</td>\n",
       "      <td>3</td>\n",
       "    </tr>\n",
       "    <tr>\n",
       "      <th>7918</th>\n",
       "      <td>Feels welcoming</td>\n",
       "      <td>3</td>\n",
       "    </tr>\n",
       "    <tr>\n",
       "      <th>8142</th>\n",
       "      <td>Clean</td>\n",
       "      <td>2</td>\n",
       "    </tr>\n",
       "    <tr>\n",
       "      <th>8339</th>\n",
       "      <td>Beautiful house</td>\n",
       "      <td>3</td>\n",
       "    </tr>\n",
       "  </tbody>\n",
       "</table>\n",
       "</div>"
      ],
      "text/plain": [
       "                     Topic1  Topic1_freq\n",
       "listing_id                              \n",
       "958                   Clean            3\n",
       "5858        Beautiful house            3\n",
       "7918        Feels welcoming            3\n",
       "8142                  Clean            2\n",
       "8339        Beautiful house            3"
      ]
     },
     "execution_count": 377,
     "metadata": {},
     "output_type": "execute_result"
    }
   ],
   "source": [
    "topic1 = listing_top_topic.groupby('listing_id').nth(0)\n",
    "topic1.columns=['Topic1', 'Topic1_freq']\n",
    "topic1.head()"
   ]
  },
  {
   "cell_type": "code",
   "execution_count": 378,
   "metadata": {
    "ExecuteTime": {
     "end_time": "2018-09-16T05:10:49.986888Z",
     "start_time": "2018-09-16T05:10:49.974587Z"
    },
    "hidden": true
   },
   "outputs": [
    {
     "data": {
      "text/html": [
       "<div>\n",
       "<style>\n",
       "    .dataframe thead tr:only-child th {\n",
       "        text-align: right;\n",
       "    }\n",
       "\n",
       "    .dataframe thead th {\n",
       "        text-align: left;\n",
       "    }\n",
       "\n",
       "    .dataframe tbody tr th {\n",
       "        vertical-align: top;\n",
       "    }\n",
       "</style>\n",
       "<table border=\"1\" class=\"dataframe\">\n",
       "  <thead>\n",
       "    <tr style=\"text-align: right;\">\n",
       "      <th></th>\n",
       "      <th>Topic2</th>\n",
       "      <th>Topic2_freq</th>\n",
       "    </tr>\n",
       "    <tr>\n",
       "      <th>listing_id</th>\n",
       "      <th></th>\n",
       "      <th></th>\n",
       "    </tr>\n",
       "  </thead>\n",
       "  <tbody>\n",
       "    <tr>\n",
       "      <th>958</th>\n",
       "      <td>Generic thank you, nothing specific</td>\n",
       "      <td>2</td>\n",
       "    </tr>\n",
       "    <tr>\n",
       "      <th>5858</th>\n",
       "      <td>Clean</td>\n",
       "      <td>3</td>\n",
       "    </tr>\n",
       "    <tr>\n",
       "      <th>7918</th>\n",
       "      <td>Bathroom, Livingroom, Kitchen, Bedroom</td>\n",
       "      <td>2</td>\n",
       "    </tr>\n",
       "    <tr>\n",
       "      <th>8142</th>\n",
       "      <td>Feels welcoming</td>\n",
       "      <td>2</td>\n",
       "    </tr>\n",
       "    <tr>\n",
       "      <th>8339</th>\n",
       "      <td>Feels welcoming</td>\n",
       "      <td>3</td>\n",
       "    </tr>\n",
       "  </tbody>\n",
       "</table>\n",
       "</div>"
      ],
      "text/plain": [
       "                                            Topic2  Topic2_freq\n",
       "listing_id                                                     \n",
       "958            Generic thank you, nothing specific            2\n",
       "5858                                         Clean            3\n",
       "7918        Bathroom, Livingroom, Kitchen, Bedroom            2\n",
       "8142                               Feels welcoming            2\n",
       "8339                               Feels welcoming            3"
      ]
     },
     "execution_count": 378,
     "metadata": {},
     "output_type": "execute_result"
    }
   ],
   "source": [
    "topic2 = listing_top_topic.groupby('listing_id').nth(1)\n",
    "topic2.columns=['Topic2', 'Topic2_freq']\n",
    "topic2.head()"
   ]
  },
  {
   "cell_type": "code",
   "execution_count": 379,
   "metadata": {
    "ExecuteTime": {
     "end_time": "2018-09-16T05:10:52.391674Z",
     "start_time": "2018-09-16T05:10:52.377079Z"
    },
    "hidden": true
   },
   "outputs": [
    {
     "data": {
      "text/html": [
       "<div>\n",
       "<style>\n",
       "    .dataframe thead tr:only-child th {\n",
       "        text-align: right;\n",
       "    }\n",
       "\n",
       "    .dataframe thead th {\n",
       "        text-align: left;\n",
       "    }\n",
       "\n",
       "    .dataframe tbody tr th {\n",
       "        vertical-align: top;\n",
       "    }\n",
       "</style>\n",
       "<table border=\"1\" class=\"dataframe\">\n",
       "  <thead>\n",
       "    <tr style=\"text-align: right;\">\n",
       "      <th></th>\n",
       "      <th>Topic3</th>\n",
       "      <th>Topic3_freq</th>\n",
       "    </tr>\n",
       "    <tr>\n",
       "      <th>listing_id</th>\n",
       "      <th></th>\n",
       "      <th></th>\n",
       "    </tr>\n",
       "  </thead>\n",
       "  <tbody>\n",
       "    <tr>\n",
       "      <th>958</th>\n",
       "      <td>Home feels like home away from home</td>\n",
       "      <td>2</td>\n",
       "    </tr>\n",
       "    <tr>\n",
       "      <th>5858</th>\n",
       "      <td>Home feels like home away from home</td>\n",
       "      <td>3</td>\n",
       "    </tr>\n",
       "    <tr>\n",
       "      <th>7918</th>\n",
       "      <td>Cancellation / Reservation / Arrival</td>\n",
       "      <td>2</td>\n",
       "    </tr>\n",
       "    <tr>\n",
       "      <th>8142</th>\n",
       "      <td>Nice host</td>\n",
       "      <td>1</td>\n",
       "    </tr>\n",
       "    <tr>\n",
       "      <th>8339</th>\n",
       "      <td>Cancellation / Reservation / Arrival</td>\n",
       "      <td>2</td>\n",
       "    </tr>\n",
       "  </tbody>\n",
       "</table>\n",
       "</div>"
      ],
      "text/plain": [
       "                                          Topic3  Topic3_freq\n",
       "listing_id                                                   \n",
       "958          Home feels like home away from home            2\n",
       "5858         Home feels like home away from home            3\n",
       "7918        Cancellation / Reservation / Arrival            2\n",
       "8142                                   Nice host            1\n",
       "8339        Cancellation / Reservation / Arrival            2"
      ]
     },
     "execution_count": 379,
     "metadata": {},
     "output_type": "execute_result"
    }
   ],
   "source": [
    "topic3 = listing_top_topic.groupby('listing_id').nth(2)\n",
    "topic3.columns=['Topic3', 'Topic3_freq']\n",
    "topic3.head()"
   ]
  },
  {
   "cell_type": "code",
   "execution_count": 380,
   "metadata": {
    "ExecuteTime": {
     "end_time": "2018-09-16T05:10:54.072200Z",
     "start_time": "2018-09-16T05:10:54.067300Z"
    },
    "hidden": true
   },
   "outputs": [
    {
     "name": "stdout",
     "output_type": "stream",
     "text": [
      "5457 4951 4579\n"
     ]
    }
   ],
   "source": [
    "print(len(topic1), len(topic2), len(topic3))"
   ]
  },
  {
   "cell_type": "code",
   "execution_count": 381,
   "metadata": {
    "ExecuteTime": {
     "end_time": "2018-09-16T05:10:54.815745Z",
     "start_time": "2018-09-16T05:10:54.806954Z"
    },
    "hidden": true
   },
   "outputs": [
    {
     "data": {
      "text/plain": [
       "(5457, 4)"
      ]
     },
     "execution_count": 381,
     "metadata": {},
     "output_type": "execute_result"
    }
   ],
   "source": [
    "listing_top_topic = pd.merge(topic1, topic2, left_index=True, right_index=True, how='outer')\n",
    "listing_top_topic.shape"
   ]
  },
  {
   "cell_type": "code",
   "execution_count": 382,
   "metadata": {
    "ExecuteTime": {
     "end_time": "2018-09-16T05:10:56.536089Z",
     "start_time": "2018-09-16T05:10:56.527301Z"
    },
    "hidden": true
   },
   "outputs": [
    {
     "data": {
      "text/plain": [
       "(5457, 6)"
      ]
     },
     "execution_count": 382,
     "metadata": {},
     "output_type": "execute_result"
    }
   ],
   "source": [
    "listing_top_topic = pd.merge(listing_top_topic, topic3, left_index=True, right_index=True, how='outer')\n",
    "listing_top_topic.shape"
   ]
  },
  {
   "cell_type": "code",
   "execution_count": 383,
   "metadata": {
    "ExecuteTime": {
     "end_time": "2018-09-16T05:10:58.820478Z",
     "start_time": "2018-09-16T05:10:58.807472Z"
    },
    "hidden": true
   },
   "outputs": [
    {
     "data": {
      "text/html": [
       "<div>\n",
       "<style>\n",
       "    .dataframe thead tr:only-child th {\n",
       "        text-align: right;\n",
       "    }\n",
       "\n",
       "    .dataframe thead th {\n",
       "        text-align: left;\n",
       "    }\n",
       "\n",
       "    .dataframe tbody tr th {\n",
       "        vertical-align: top;\n",
       "    }\n",
       "</style>\n",
       "<table border=\"1\" class=\"dataframe\">\n",
       "  <thead>\n",
       "    <tr style=\"text-align: right;\">\n",
       "      <th></th>\n",
       "      <th>Topic1</th>\n",
       "      <th>Topic1_freq</th>\n",
       "      <th>Topic2</th>\n",
       "      <th>Topic2_freq</th>\n",
       "      <th>Topic3</th>\n",
       "      <th>Topic3_freq</th>\n",
       "    </tr>\n",
       "    <tr>\n",
       "      <th>listing_id</th>\n",
       "      <th></th>\n",
       "      <th></th>\n",
       "      <th></th>\n",
       "      <th></th>\n",
       "      <th></th>\n",
       "      <th></th>\n",
       "    </tr>\n",
       "  </thead>\n",
       "  <tbody>\n",
       "    <tr>\n",
       "      <th>958</th>\n",
       "      <td>Clean</td>\n",
       "      <td>3</td>\n",
       "      <td>Generic thank you, nothing specific</td>\n",
       "      <td>2.0</td>\n",
       "      <td>Home feels like home away from home</td>\n",
       "      <td>2.0</td>\n",
       "    </tr>\n",
       "    <tr>\n",
       "      <th>5858</th>\n",
       "      <td>Beautiful house</td>\n",
       "      <td>3</td>\n",
       "      <td>Clean</td>\n",
       "      <td>3.0</td>\n",
       "      <td>Home feels like home away from home</td>\n",
       "      <td>3.0</td>\n",
       "    </tr>\n",
       "    <tr>\n",
       "      <th>7918</th>\n",
       "      <td>Feels welcoming</td>\n",
       "      <td>3</td>\n",
       "      <td>Bathroom, Livingroom, Kitchen, Bedroom</td>\n",
       "      <td>2.0</td>\n",
       "      <td>Cancellation / Reservation / Arrival</td>\n",
       "      <td>2.0</td>\n",
       "    </tr>\n",
       "    <tr>\n",
       "      <th>8142</th>\n",
       "      <td>Clean</td>\n",
       "      <td>2</td>\n",
       "      <td>Feels welcoming</td>\n",
       "      <td>2.0</td>\n",
       "      <td>Nice host</td>\n",
       "      <td>1.0</td>\n",
       "    </tr>\n",
       "    <tr>\n",
       "      <th>8339</th>\n",
       "      <td>Beautiful house</td>\n",
       "      <td>3</td>\n",
       "      <td>Feels welcoming</td>\n",
       "      <td>3.0</td>\n",
       "      <td>Cancellation / Reservation / Arrival</td>\n",
       "      <td>2.0</td>\n",
       "    </tr>\n",
       "  </tbody>\n",
       "</table>\n",
       "</div>"
      ],
      "text/plain": [
       "                     Topic1  Topic1_freq  \\\n",
       "listing_id                                 \n",
       "958                   Clean            3   \n",
       "5858        Beautiful house            3   \n",
       "7918        Feels welcoming            3   \n",
       "8142                  Clean            2   \n",
       "8339        Beautiful house            3   \n",
       "\n",
       "                                            Topic2  Topic2_freq  \\\n",
       "listing_id                                                        \n",
       "958            Generic thank you, nothing specific          2.0   \n",
       "5858                                         Clean          3.0   \n",
       "7918        Bathroom, Livingroom, Kitchen, Bedroom          2.0   \n",
       "8142                               Feels welcoming          2.0   \n",
       "8339                               Feels welcoming          3.0   \n",
       "\n",
       "                                          Topic3  Topic3_freq  \n",
       "listing_id                                                     \n",
       "958          Home feels like home away from home          2.0  \n",
       "5858         Home feels like home away from home          3.0  \n",
       "7918        Cancellation / Reservation / Arrival          2.0  \n",
       "8142                                   Nice host          1.0  \n",
       "8339        Cancellation / Reservation / Arrival          2.0  "
      ]
     },
     "execution_count": 383,
     "metadata": {},
     "output_type": "execute_result"
    }
   ],
   "source": [
    "listing_top_topic.head()"
   ]
  },
  {
   "cell_type": "code",
   "execution_count": 384,
   "metadata": {
    "ExecuteTime": {
     "end_time": "2018-09-16T05:11:01.704718Z",
     "start_time": "2018-09-16T05:11:01.671987Z"
    },
    "collapsed": true,
    "hidden": true
   },
   "outputs": [],
   "source": [
    "listing_top_topic.to_csv('/home/ubuntu/data/listing_top_topic.csv')"
   ]
  },
  {
   "cell_type": "code",
   "execution_count": 354,
   "metadata": {
    "ExecuteTime": {
     "end_time": "2018-09-14T23:31:33.916926Z",
     "start_time": "2018-09-14T23:31:33.914268Z"
    },
    "collapsed": true,
    "hidden": true
   },
   "outputs": [],
   "source": [
    "# ! scp -i ~/.ssh/aws_key.pem ubuntu@18.188.92.105:/home/ubuntu/data/listing_top_topic.csv bellepeng@127.0.0.1: ~/Desktop/Metis/Projects/Project_AirBNB/data\n",
    "# ! scp -i ~/.ssh/aws_key.pem ubuntu@18.188.92.105: /home/ubuntu/Airbnb/notebooks/Part\\ II\\ Topic\\ Modeling\\ \\(AWS\\).ipynb bellepeng@127.0.0.1: ~/Desktop/Metis/Projects/Project_AirBNB/notebook\n",
    "        "
   ]
  },
  {
   "cell_type": "markdown",
   "metadata": {
    "heading_collapsed": true,
    "hidden": true
   },
   "source": [
    "#### Attempts not chosen:"
   ]
  },
  {
   "cell_type": "code",
   "execution_count": 32,
   "metadata": {
    "ExecuteTime": {
     "end_time": "2018-09-13T22:43:40.123471Z",
     "start_time": "2018-09-13T22:43:15.876993Z"
    },
    "collapsed": true,
    "hidden": true
   },
   "outputs": [
    {
     "name": "stdout",
     "output_type": "stream",
     "text": [
      "LSA Decomposition with Count Vectorizer\n",
      "\n",
      "Topic 0 score:  101.2%\n",
      "location, host, clean, nice, apartment, comfortable, room, everything, home, really, house, perfect, definitely, easy, need, make, time, walk, wonderful, neighborhood\n",
      "\n",
      "Topic 1 score:    2.8%\n",
      "automate post, arrival automate, automate, cancel, post, reservation, days arrival, host cancel, cancel reservation, arrival, days, host, reservation days, reservation cancel, day arrival, cancel days, reservation day, 10 days, day, reservation 10\n",
      "\n",
      "Topic 2 score:   -4.9%\n",
      "location, location host, host, host location, location clean, perfect location, clean location, apartment location, nice location, excellent location, convenient location, location perfect, location nice, excellent, location close, amaze location, location definitely, perfect, value, room location\n",
      "\n",
      "Topic 3 score:   -2.0%\n",
      "host, wonderful, wonderful host, location host, friendly, friendly host, nice host, amaze, host location, amaze host, excellent host, excellent, fantastic host, host definitely, helpful, fantastic, helpful host, accommodate, host nice, host friendly\n",
      "\n",
      "Topic 4 score:   -1.1%\n",
      "nice, really, really nice, clean, nice host, nice clean, room, nice location, location nice, clean nice, nice room, host nice, room nice, house, nice helpful, nice quiet, nice house, nice neighborhood, room clean, super nice\n",
      "\n",
      "Topic 5 score:   -0.4%\n",
      "clean, comfortable, clean comfortable, room, bed, room clean, quiet, easy, location clean, friendly, comfortable bed, super, check, host, spacious, comfortable clean, clean quiet, clean room, apartment clean, super clean\n",
      "\n",
      "Topic 6 score:   -1.2%\n",
      "everything, need, everything need, perfect, apartment, clean, everything perfect, close everything, clean everything, nice, thank, close, describe, sure everything, perfect location, make sure, host, apartment everything, sure, apartment clean\n",
      "\n",
      "Topic 7 score:    0.0%\n",
      "apartment, walk, restaurants, distance, walk distance, easy, host, close, within, public, shop, park, within walk, neighborhood, quiet, transportation, public transportation, bar, access, street\n",
      "\n",
      "Topic 8 score:   -0.3%\n",
      "apartment, wonderful, really, enjoy, definitely, apartment location, really enjoy, apartment clean, wonderful host, lovely, clean, time, comfortable, beautiful, back, come back, clean comfortable, come, love, really nice\n",
      "\n",
      "Topic 9 score:    0.4%\n",
      "really, enjoy, really enjoy, friendly, really nice, helpful, host, check, super, room, awesome, host really, easy, friendly host, house, friendly helpful, get, location really, amaze, definitely\n",
      "\n",
      "Topic 10 score:    1.1%\n",
      "perfect, definitely, perfect location, house, back, location perfect, come back, come, love, perfect host, amaze, room, everything perfect, clean, spot, definitely come, time, thank, next, visit\n",
      "\n",
      "Topic 11 score:    0.6%\n",
      "wonderful, house, wonderful host, really, easy, time, check, everything, room, enjoy, thank, definitely, really enjoy, back, come back, wonderful location, come, wonderful time, location wonderful, experience\n",
      "\n",
      "Topic 12 score:    1.2%\n",
      "definitely, easy, check, back, come, come back, amaze, love, time, nice, easy check, definitely come, super, check check, next, accommodate, make, communication, exactly, next time\n",
      "\n",
      "Topic 13 score:    0.8%\n",
      "easy, perfect, check, thank, wonderful, get, easy check, really, make, access, easy get, easy access, perfect location, wonderful host, location easy, communication, around, spot, time, check check\n",
      "\n",
      "Topic 14 score:   -1.9%\n",
      "comfortable, really, easy, definitely, back, come back, thank, home, come, clean comfortable, really enjoy, neighborhood, enjoy, walk, distance, walk distance, really nice, space, quiet, definitely come\n",
      "\n",
      "Topic 15 score:   -0.1%\n",
      "house, amaze, easy, clean, beautiful, thank, view, love, neighborhood, home, house clean, easy access, super, access, apartment, quiet, check, amaze host, close, easy check\n",
      "\n",
      "Topic 16 score:    0.3%\n",
      "friendly, thank, helpful, home, definitely, clean, friendly helpful, friendly host, welcome, close, lovely, quiet, public, host friendly, neighborhood, location friendly, restaurants, accommodate, helpful host, staff\n",
      "\n",
      "Topic 17 score:    1.3%\n",
      "thank, love, comfortable, awesome, time, walk, room, much, distance, bed, walk distance, thank much, host thank, well, thank everything, thank host, within, apartment, within walk, host\n",
      "\n",
      "Topic 18 score:    0.4%\n",
      "amaze, clean, amaze host, view, home, room, really, distance, walk distance, awesome, walk, thank, wonderful, experience, amaze location, amaze view, highly, room clean, space, location clean\n",
      "\n",
      "Topic 19 score:    1.8%\n",
      "love, helpful, friendly, amaze, close, space, quiet, neighborhood, room, friendly helpful, awesome, bed, super, wonderful, spot, love location, view, friendly host, park, amaze host\n"
     ]
    }
   ],
   "source": [
    "print(\"LSA Decomposition with Count Vectorizer\")\n",
    "lsa_tfidf = TruncatedSVD(n_components=n_comp)\n",
    "lsa_tfidf_data = lsa_tfidf.fit_transform(tfidf)\n",
    "\n",
    "topics_lsa_tfidf = display_topics(lsa_tfidf, lsa_tfidf_data, tfidf_vectorizer.get_feature_names(), n_words)"
   ]
  },
  {
   "cell_type": "code",
   "execution_count": 34,
   "metadata": {
    "ExecuteTime": {
     "end_time": "2018-09-13T22:44:04.521767Z",
     "start_time": "2018-09-13T22:43:40.133024Z"
    },
    "collapsed": true,
    "hidden": true
   },
   "outputs": [
    {
     "name": "stdout",
     "output_type": "stream",
     "text": [
      "LSA Decomposition with Count Vectorizer\n",
      "\n",
      "Topic 0 score:  126.3%\n",
      "host, room, clean, location, apartment, home, comfortable, walk, nice, make, get, house, need, time, really, everything, also, well, easy, city\n",
      "\n",
      "Topic 1 score:   -3.1%\n",
      "room, house, nice, bathroom, bed, home, clean, like, share, room clean, private, live, night, live room, one, really, use, time, guests, get\n",
      "\n",
      "Topic 2 score:    0.1%\n",
      "home, make, host, feel, welcome, make feel, beautiful, wonderful, house, like, amaze, experience, time, felt, love, perfect, city, lovely, sure, make sure\n",
      "\n",
      "Topic 3 score:  -13.1%\n",
      "walk, get, park, also, home, like, house, around, away, time, city, one, use, street, take, find, distance, area, day, walk distance\n",
      "\n",
      "Topic 4 score:   -4.6%\n",
      "apartment, room, make, really, feel, home, everything, need, like, time, bed, make feel, comfortable, welcome, bathroom, could, one, sure, kitchen, make sure\n",
      "\n",
      "Topic 5 score:    2.4%\n",
      "nice, really, house, host, everything, really nice, time, enjoy, really enjoy, helpful, also, lot, back, come, go, friendly, neighborhood, everything need, need, close\n",
      "\n",
      "Topic 6 score:    0.4%\n",
      "everything, need, everything need, clean, perfect, check, make, easy, sure, make sure, location, get, could, house, definitely, comfortable, sure everything, super, anything, go\n",
      "\n",
      "Topic 7 score:   -3.1%\n",
      "host, get, time, room, house, apartment, one, go, could, around, city, also, use, first, need, night, take, day, experience, amaze\n",
      "\n",
      "Topic 8 score:   -1.4%\n",
      "house, clean, comfortable, host, neighborhood, well, quiet, locate, walk, bed, park, apartment, clean comfortable, restaurants, beautiful, distance, walk distance, wonderful, kitchen, within\n",
      "\n",
      "Topic 9 score:    1.3%\n",
      "house, location, clean, apartment, time, easy, get, check, comfortable, park, perfect, like, experience, super, bed, love, definitely, first, city, clean comfortable\n",
      "\n",
      "Topic 10 score:   -0.2%\n",
      "house, apartment, room, home, everything, location, need, perfect, beautiful, everything need, walk, lovely, restaurants, like, kitchen, distance, walk distance, live, view, love\n",
      "\n",
      "Topic 11 score:    1.0%\n",
      "home, nice, clean, park, time, come, back, away, city, get, perfect, street, need, find, come back, one, neighborhood, car, block, definitely\n",
      "\n",
      "Topic 12 score:   -0.2%\n",
      "nice, make, easy, park, house, location, feel, comfortable, make feel, apartment, sure, make sure, get, street, bed, host, access, find, welcome, feel welcome\n",
      "\n",
      "Topic 13 score:   -0.1%\n",
      "comfortable, bed, space, park, well, really, need, kitchen, host, love, one, street, bed comfortable, comfortable bed, quiet, enjoy, back, block, perfect, find\n",
      "\n",
      "Topic 14 score:    0.1%\n",
      "time, nice, comfortable, bed, make, walk, first, next, experience, location, back, distance, walk distance, definitely, next time, come, could, first time, sure, bed comfortable\n",
      "\n",
      "Topic 15 score:   -2.4%\n",
      "park, well, clean, like, also, space, location, make, one, really, street, host, find, could, car, kitchen, use, feel, night, bathroom\n",
      "\n",
      "Topic 16 score:   -2.0%\n",
      "get, walk, bed, comfortable, clean, home, like, around, location, host, could, nice, need, also, get around, one, go, take, felt, bus\n",
      "\n",
      "Topic 17 score:    0.1%\n",
      "easy, time, check, home, well, host, walk, house, need, access, comfortable, lovely, area, apartment, nice, easy access, next, next time, check check, communicate\n",
      "\n",
      "Topic 18 score:   -0.5%\n",
      "park, comfortable, apartment, walk, really, street, host, time, get, need, car, home, house, clean, find, bed, clean comfortable, away, walk distance, distance\n",
      "\n",
      "Topic 19 score:   -0.9%\n",
      "city, time, also, comfortable, home, area, enjoy, park, need, everything, view, explore, helpful, public, clean, view city, location, use, bus, everything need\n"
     ]
    }
   ],
   "source": [
    "print(\"LSA Decomposition with Count Vectorizer\")\n",
    "lsa_cv = TruncatedSVD(n_components=n_comp)\n",
    "lsa_cv_data = lsa_cv.fit_transform(cv)\n",
    "\n",
    "topics_lsa_cv = display_topics(lsa_cv, lsa_cv_data, count_vectorizer.get_feature_names(), n_words)"
   ]
  },
  {
   "cell_type": "code",
   "execution_count": null,
   "metadata": {
    "collapsed": true,
    "hidden": true
   },
   "outputs": [],
   "source": []
  }
 ],
 "metadata": {
  "kernelspec": {
   "display_name": "Python 3",
   "language": "python",
   "name": "python3"
  },
  "language_info": {
   "codemirror_mode": {
    "name": "ipython",
    "version": 3
   },
   "file_extension": ".py",
   "mimetype": "text/x-python",
   "name": "python",
   "nbconvert_exporter": "python",
   "pygments_lexer": "ipython3",
   "version": "3.6.0"
  },
  "varInspector": {
   "cols": {
    "lenName": 16,
    "lenType": 16,
    "lenVar": 40
   },
   "kernels_config": {
    "python": {
     "delete_cmd_postfix": "",
     "delete_cmd_prefix": "del ",
     "library": "var_list.py",
     "varRefreshCmd": "print(var_dic_list())"
    },
    "r": {
     "delete_cmd_postfix": ") ",
     "delete_cmd_prefix": "rm(",
     "library": "var_list.r",
     "varRefreshCmd": "cat(var_dic_list()) "
    }
   },
   "types_to_exclude": [
    "module",
    "function",
    "builtin_function_or_method",
    "instance",
    "_Feature"
   ],
   "window_display": false
  }
 },
 "nbformat": 4,
 "nbformat_minor": 2
}
