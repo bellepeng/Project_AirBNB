{
 "cells": [
  {
   "cell_type": "markdown",
   "metadata": {},
   "source": [
    "# NLP: Review Summary, Sentiment Analysis\n",
    "__Done__ \n",
    "Clean contractions, Lemmatize, Remove Stop words (think specific to reviewing airbnb), parts of speech (removing pronouns, San Francisco), Tokenize  \n",
    "  \n",
    "__By Listing IDs__\n",
    "- Vectorize  \n",
    "- Topic Model (same as Dim Reduction)\n",
    "- Sumy LSA (on full sentences)\n",
    "- Gensim summarizer()TextBlob\n",
    "  \n",
    "__on Listings data__  \n",
    "- Clustering on reviews: try all the methods, Kmeans, DBScan, .....\n",
    "- StandardScale first"
   ]
  },
  {
   "cell_type": "markdown",
   "metadata": {
    "heading_collapsed": true
   },
   "source": [
    "## Imports"
   ]
  },
  {
   "cell_type": "code",
   "execution_count": 1,
   "metadata": {
    "ExecuteTime": {
     "end_time": "2018-09-12T17:50:28.032887Z",
     "start_time": "2018-09-12T17:50:25.331870Z"
    },
    "hidden": true
   },
   "outputs": [
    {
     "data": {
      "text/html": [
       "<style>.container { width:95% !important; }</style>"
      ],
      "text/plain": [
       "<IPython.core.display.HTML object>"
      ]
     },
     "metadata": {},
     "output_type": "display_data"
    }
   ],
   "source": [
    "from IPython.core.display import display, HTML\n",
    "display(HTML(\"<style>.container { width:95% !important; }</style>\"))\n",
    "import warnings\n",
    "warnings.filterwarnings(\"ignore\", category=DeprecationWarning)\n",
    "import dask.dataframe as dd\n",
    "import pandas as pd\n",
    "import numpy as np\n",
    "import math\n",
    "import os\n",
    "import pickle\n",
    "import timeit\n",
    "from collections import Counter\n",
    "\n",
    "# Graphics\n",
    "import matplotlib.pyplot as plt\n",
    "%matplotlib inline\n",
    "%config InlineBackend.figure_format='svg'\n",
    "import seaborn as sns\n",
    "sns.set(font_scale=1.2)\n",
    "plt.style.use('seaborn')\n",
    "# from mlxtend.plotting import plot_decision_regions\n",
    "# from mpl_toolkits.mplot3d import Axes3D"
   ]
  },
  {
   "cell_type": "code",
   "execution_count": 2,
   "metadata": {
    "ExecuteTime": {
     "end_time": "2018-09-12T17:50:29.108118Z",
     "start_time": "2018-09-12T17:50:28.056941Z"
    },
    "hidden": true
   },
   "outputs": [],
   "source": [
    "from __future__ import print_function\n",
    "import nltk\n",
    "from nltk.util import ngrams\n",
    "from nltk.corpus import stopwords\n",
    "from nltk.tokenize import word_tokenize\n",
    "from nltk import WordNetLemmatizer\n",
    "from operator import itemgetter\n",
    "import contractions\n",
    "from langdetect import detect\n",
    "\n",
    "from sklearn.feature_extraction.text import TfidfVectorizer \n",
    "from sklearn.naive_bayes import MultinomialNB\n",
    "from sklearn.metrics.pairwise import cosine_similarity"
   ]
  },
  {
   "cell_type": "code",
   "execution_count": 3,
   "metadata": {
    "ExecuteTime": {
     "end_time": "2018-09-12T17:50:29.183977Z",
     "start_time": "2018-09-12T17:50:29.139394Z"
    },
    "hidden": true
   },
   "outputs": [],
   "source": [
    "from sklearn.decomposition import NMF, LatentDirichletAllocation, TruncatedSVD\n",
    "from sklearn.preprocessing import StandardScaler"
   ]
  },
  {
   "cell_type": "code",
   "execution_count": 4,
   "metadata": {
    "ExecuteTime": {
     "end_time": "2018-09-12T17:50:29.218813Z",
     "start_time": "2018-09-12T17:50:29.207925Z"
    },
    "hidden": true
   },
   "outputs": [],
   "source": [
    "# %run '/Users/bellepeng/Desktop/Metis/Projects/Project_AirBNB/notebooks/helper_functions.py' \n",
    "os.chdir('/Users/bellepeng/Desktop/Metis/Projects/Project_AirBNB/notebooks')\n",
    "import helper_functions\n",
    "from helper_functions import clean_dolla, plot_bar, cluster_inertia#, display_topics"
   ]
  },
  {
   "cell_type": "code",
   "execution_count": 5,
   "metadata": {
    "ExecuteTime": {
     "end_time": "2018-09-12T17:50:29.395617Z",
     "start_time": "2018-09-12T17:50:29.246931Z"
    },
    "hidden": true
   },
   "outputs": [
    {
     "name": "stdout",
     "output_type": "stream",
     "text": [
      "(6633, 95)\n"
     ]
    },
    {
     "data": {
      "text/html": [
       "<div>\n",
       "<style scoped>\n",
       "    .dataframe tbody tr th:only-of-type {\n",
       "        vertical-align: middle;\n",
       "    }\n",
       "\n",
       "    .dataframe tbody tr th {\n",
       "        vertical-align: top;\n",
       "    }\n",
       "\n",
       "    .dataframe thead th {\n",
       "        text-align: right;\n",
       "    }\n",
       "</style>\n",
       "<table border=\"1\" class=\"dataframe\">\n",
       "  <thead>\n",
       "    <tr style=\"text-align: right;\">\n",
       "      <th></th>\n",
       "      <th>host_is_superhost</th>\n",
       "      <th>host_listings_count</th>\n",
       "      <th>host_total_listings_count</th>\n",
       "      <th>host_has_profile_pic</th>\n",
       "      <th>host_identity_verified</th>\n",
       "      <th>bathrooms</th>\n",
       "      <th>bedrooms</th>\n",
       "      <th>beds</th>\n",
       "      <th>price</th>\n",
       "      <th>weekly_price</th>\n",
       "      <th>...</th>\n",
       "      <th>neighborhood_Potrero Hill</th>\n",
       "      <th>neighborhood_Presidio Heights</th>\n",
       "      <th>neighborhood_Russian Hill</th>\n",
       "      <th>neighborhood_Seacliff</th>\n",
       "      <th>neighborhood_South of Market</th>\n",
       "      <th>neighborhood_Twin Peaks</th>\n",
       "      <th>neighborhood_Visitacion Valley</th>\n",
       "      <th>neighborhood_West of Twin Peaks</th>\n",
       "      <th>neighborhood_Western Addition</th>\n",
       "      <th>host_in_same_neighborhood</th>\n",
       "    </tr>\n",
       "  </thead>\n",
       "  <tbody>\n",
       "    <tr>\n",
       "      <th>0</th>\n",
       "      <td>1</td>\n",
       "      <td>1</td>\n",
       "      <td>1</td>\n",
       "      <td>1</td>\n",
       "      <td>1</td>\n",
       "      <td>1.0</td>\n",
       "      <td>1.0</td>\n",
       "      <td>2.0</td>\n",
       "      <td>170.0</td>\n",
       "      <td>1120.0</td>\n",
       "      <td>...</td>\n",
       "      <td>0</td>\n",
       "      <td>0</td>\n",
       "      <td>0</td>\n",
       "      <td>0</td>\n",
       "      <td>0</td>\n",
       "      <td>0</td>\n",
       "      <td>0</td>\n",
       "      <td>0</td>\n",
       "      <td>1</td>\n",
       "      <td>1</td>\n",
       "    </tr>\n",
       "    <tr>\n",
       "      <th>1</th>\n",
       "      <td>0</td>\n",
       "      <td>2</td>\n",
       "      <td>2</td>\n",
       "      <td>1</td>\n",
       "      <td>1</td>\n",
       "      <td>1.0</td>\n",
       "      <td>2.0</td>\n",
       "      <td>3.0</td>\n",
       "      <td>235.0</td>\n",
       "      <td>1600.0</td>\n",
       "      <td>...</td>\n",
       "      <td>0</td>\n",
       "      <td>0</td>\n",
       "      <td>0</td>\n",
       "      <td>0</td>\n",
       "      <td>0</td>\n",
       "      <td>0</td>\n",
       "      <td>0</td>\n",
       "      <td>0</td>\n",
       "      <td>0</td>\n",
       "      <td>1</td>\n",
       "    </tr>\n",
       "    <tr>\n",
       "      <th>2</th>\n",
       "      <td>0</td>\n",
       "      <td>10</td>\n",
       "      <td>10</td>\n",
       "      <td>1</td>\n",
       "      <td>1</td>\n",
       "      <td>4.0</td>\n",
       "      <td>1.0</td>\n",
       "      <td>1.0</td>\n",
       "      <td>65.0</td>\n",
       "      <td>485.0</td>\n",
       "      <td>...</td>\n",
       "      <td>0</td>\n",
       "      <td>0</td>\n",
       "      <td>0</td>\n",
       "      <td>0</td>\n",
       "      <td>0</td>\n",
       "      <td>0</td>\n",
       "      <td>0</td>\n",
       "      <td>0</td>\n",
       "      <td>0</td>\n",
       "      <td>1</td>\n",
       "    </tr>\n",
       "    <tr>\n",
       "      <th>3</th>\n",
       "      <td>0</td>\n",
       "      <td>10</td>\n",
       "      <td>10</td>\n",
       "      <td>1</td>\n",
       "      <td>1</td>\n",
       "      <td>4.0</td>\n",
       "      <td>1.0</td>\n",
       "      <td>1.0</td>\n",
       "      <td>65.0</td>\n",
       "      <td>490.0</td>\n",
       "      <td>...</td>\n",
       "      <td>0</td>\n",
       "      <td>0</td>\n",
       "      <td>0</td>\n",
       "      <td>0</td>\n",
       "      <td>0</td>\n",
       "      <td>0</td>\n",
       "      <td>0</td>\n",
       "      <td>0</td>\n",
       "      <td>0</td>\n",
       "      <td>1</td>\n",
       "    </tr>\n",
       "    <tr>\n",
       "      <th>4</th>\n",
       "      <td>0</td>\n",
       "      <td>2</td>\n",
       "      <td>2</td>\n",
       "      <td>1</td>\n",
       "      <td>1</td>\n",
       "      <td>1.5</td>\n",
       "      <td>2.0</td>\n",
       "      <td>2.0</td>\n",
       "      <td>675.0</td>\n",
       "      <td>0.0</td>\n",
       "      <td>...</td>\n",
       "      <td>0</td>\n",
       "      <td>0</td>\n",
       "      <td>0</td>\n",
       "      <td>0</td>\n",
       "      <td>0</td>\n",
       "      <td>0</td>\n",
       "      <td>0</td>\n",
       "      <td>0</td>\n",
       "      <td>1</td>\n",
       "      <td>1</td>\n",
       "    </tr>\n",
       "  </tbody>\n",
       "</table>\n",
       "<p>5 rows × 95 columns</p>\n",
       "</div>"
      ],
      "text/plain": [
       "   host_is_superhost  host_listings_count  host_total_listings_count  \\\n",
       "0                  1                    1                          1   \n",
       "1                  0                    2                          2   \n",
       "2                  0                   10                         10   \n",
       "3                  0                   10                         10   \n",
       "4                  0                    2                          2   \n",
       "\n",
       "   host_has_profile_pic  host_identity_verified  bathrooms  bedrooms  beds  \\\n",
       "0                     1                       1        1.0       1.0   2.0   \n",
       "1                     1                       1        1.0       2.0   3.0   \n",
       "2                     1                       1        4.0       1.0   1.0   \n",
       "3                     1                       1        4.0       1.0   1.0   \n",
       "4                     1                       1        1.5       2.0   2.0   \n",
       "\n",
       "   price  weekly_price            ...              neighborhood_Potrero Hill  \\\n",
       "0  170.0        1120.0            ...                                      0   \n",
       "1  235.0        1600.0            ...                                      0   \n",
       "2   65.0         485.0            ...                                      0   \n",
       "3   65.0         490.0            ...                                      0   \n",
       "4  675.0           0.0            ...                                      0   \n",
       "\n",
       "   neighborhood_Presidio Heights  neighborhood_Russian Hill  \\\n",
       "0                              0                          0   \n",
       "1                              0                          0   \n",
       "2                              0                          0   \n",
       "3                              0                          0   \n",
       "4                              0                          0   \n",
       "\n",
       "   neighborhood_Seacliff  neighborhood_South of Market  \\\n",
       "0                      0                             0   \n",
       "1                      0                             0   \n",
       "2                      0                             0   \n",
       "3                      0                             0   \n",
       "4                      0                             0   \n",
       "\n",
       "   neighborhood_Twin Peaks  neighborhood_Visitacion Valley  \\\n",
       "0                        0                               0   \n",
       "1                        0                               0   \n",
       "2                        0                               0   \n",
       "3                        0                               0   \n",
       "4                        0                               0   \n",
       "\n",
       "   neighborhood_West of Twin Peaks  neighborhood_Western Addition  \\\n",
       "0                                0                              1   \n",
       "1                                0                              0   \n",
       "2                                0                              0   \n",
       "3                                0                              0   \n",
       "4                                0                              1   \n",
       "\n",
       "   host_in_same_neighborhood  \n",
       "0                          1  \n",
       "1                          1  \n",
       "2                          1  \n",
       "3                          1  \n",
       "4                          1  \n",
       "\n",
       "[5 rows x 95 columns]"
      ]
     },
     "execution_count": 5,
     "metadata": {},
     "output_type": "execute_result"
    }
   ],
   "source": [
    "os.chdir('/Users/bellepeng/Desktop/Metis/Projects/Project_AirBNB/data')\n",
    "with open('listings_sf_cleaned.pkl', 'rb') as file:\n",
    "    listings = pickle.load(file)\n",
    "\n",
    "print(listings.shape)\n",
    "listings.head()"
   ]
  },
  {
   "cell_type": "code",
   "execution_count": 6,
   "metadata": {
    "ExecuteTime": {
     "end_time": "2018-09-12T17:50:32.044353Z",
     "start_time": "2018-09-12T17:50:30.054311Z"
    },
    "hidden": true
   },
   "outputs": [
    {
     "name": "stdout",
     "output_type": "stream",
     "text": [
      "(278884, 6)\n"
     ]
    },
    {
     "data": {
      "text/html": [
       "<div>\n",
       "<style scoped>\n",
       "    .dataframe tbody tr th:only-of-type {\n",
       "        vertical-align: middle;\n",
       "    }\n",
       "\n",
       "    .dataframe tbody tr th {\n",
       "        vertical-align: top;\n",
       "    }\n",
       "\n",
       "    .dataframe thead th {\n",
       "        text-align: right;\n",
       "    }\n",
       "</style>\n",
       "<table border=\"1\" class=\"dataframe\">\n",
       "  <thead>\n",
       "    <tr style=\"text-align: right;\">\n",
       "      <th></th>\n",
       "      <th>listing_id</th>\n",
       "      <th>id</th>\n",
       "      <th>date</th>\n",
       "      <th>comments</th>\n",
       "    </tr>\n",
       "  </thead>\n",
       "  <tbody>\n",
       "    <tr>\n",
       "      <th>0</th>\n",
       "      <td>958</td>\n",
       "      <td>5977</td>\n",
       "      <td>2009-07-23</td>\n",
       "      <td>Our experience was, without a doubt, a five st...</td>\n",
       "    </tr>\n",
       "    <tr>\n",
       "      <th>1</th>\n",
       "      <td>958</td>\n",
       "      <td>6660</td>\n",
       "      <td>2009-08-03</td>\n",
       "      <td>Returning to San Francisco is a rejuvenating t...</td>\n",
       "    </tr>\n",
       "    <tr>\n",
       "      <th>2</th>\n",
       "      <td>958</td>\n",
       "      <td>11519</td>\n",
       "      <td>2009-09-27</td>\n",
       "      <td>We were very pleased with the accommodations a...</td>\n",
       "    </tr>\n",
       "    <tr>\n",
       "      <th>3</th>\n",
       "      <td>958</td>\n",
       "      <td>16282</td>\n",
       "      <td>2009-11-05</td>\n",
       "      <td>We highly recommend this accomodation and agre...</td>\n",
       "    </tr>\n",
       "    <tr>\n",
       "      <th>4</th>\n",
       "      <td>958</td>\n",
       "      <td>26008</td>\n",
       "      <td>2010-02-13</td>\n",
       "      <td>Holly's place was great. It was exactly what I...</td>\n",
       "    </tr>\n",
       "  </tbody>\n",
       "</table>\n",
       "</div>"
      ],
      "text/plain": [
       "   listing_id     id        date  \\\n",
       "0         958   5977  2009-07-23   \n",
       "1         958   6660  2009-08-03   \n",
       "2         958  11519  2009-09-27   \n",
       "3         958  16282  2009-11-05   \n",
       "4         958  26008  2010-02-13   \n",
       "\n",
       "                                            comments  \n",
       "0  Our experience was, without a doubt, a five st...  \n",
       "1  Returning to San Francisco is a rejuvenating t...  \n",
       "2  We were very pleased with the accommodations a...  \n",
       "3  We highly recommend this accomodation and agre...  \n",
       "4  Holly's place was great. It was exactly what I...  "
      ]
     },
     "execution_count": 6,
     "metadata": {},
     "output_type": "execute_result"
    }
   ],
   "source": [
    "reviews=pd.read_csv('SF/201808/reviews_201808.csv')\n",
    "reviews.columns\n",
    "drop_list = ['reviewer_id', 'reviewer_name']\n",
    "print(reviews.shape)\n",
    "[reviews.drop(x, inplace=True, axis=1) for x in drop_list]\n",
    "reviews.head()"
   ]
  },
  {
   "cell_type": "code",
   "execution_count": 329,
   "metadata": {
    "ExecuteTime": {
     "end_time": "2018-09-07T21:00:11.256967Z",
     "start_time": "2018-09-07T21:00:10.407381Z"
    },
    "hidden": true
   },
   "outputs": [
    {
     "name": "stdout",
     "output_type": "stream",
     "text": [
      "/Users/bellepeng/Desktop/Metis/Projects/Project_AirBNB/notebooks\r\n"
     ]
    }
   ],
   "source": [
    "# !pwd\n",
    "# import pickle\n",
    "# with open('reviews.pkl', 'wb') as file: # the orig has no pronouns removed\n",
    "#     pickle.dump(reviews, file)\n",
    "# with open('reviews_cleaned2.pkl', 'wb') as file: # reviews_cleaned2 is the one with the pronouns removed\n",
    "#     pickle.dump(reviews_cleaned, file)\n",
    "# with open('reviews_cleaned.pkl', 'rb') as file:\n",
    "#     reviews_cleaned = pickle.load(file)"
   ]
  },
  {
   "cell_type": "markdown",
   "metadata": {},
   "source": [
    "## Preprocess"
   ]
  },
  {
   "cell_type": "markdown",
   "metadata": {
    "heading_collapsed": true
   },
   "source": [
    "#### Preview"
   ]
  },
  {
   "cell_type": "code",
   "execution_count": 7,
   "metadata": {
    "ExecuteTime": {
     "end_time": "2018-09-12T17:50:51.196198Z",
     "start_time": "2018-09-12T17:50:51.168120Z"
    },
    "hidden": true
   },
   "outputs": [
    {
     "name": "stdout",
     "output_type": "stream",
     "text": [
      "I had great time staying at Brenda's house. She is an exellent host, very friendly and helpful. The place was beautiful and the location perfect. I can really recommend staying with Brenda while you're in San Francisco. I only had very few days in SF but I would like to come back and stay at Brenda's place again. Thanks for everything!!\n",
      "\n",
      "I had great time staying at Brenda's house. She is an exellent host, very friendly and helpful. The place was beautiful and the location perfect. I can really recommend staying with Brenda while you are in San Francisco. I only had very few days in SF but I would like to come back and stay at Brenda's place again. Thanks for everything!!\n"
     ]
    }
   ],
   "source": [
    "ix=2000\n",
    "print(reviews['comments'][ix])\n",
    "print()\n",
    "print(contractions.fix(reviews['comments'][ix]))"
   ]
  },
  {
   "cell_type": "code",
   "execution_count": 8,
   "metadata": {
    "ExecuteTime": {
     "end_time": "2018-09-12T17:50:51.793164Z",
     "start_time": "2018-09-12T17:50:51.775679Z"
    },
    "hidden": true
   },
   "outputs": [
    {
     "data": {
      "text/html": [
       "<div>\n",
       "<style scoped>\n",
       "    .dataframe tbody tr th:only-of-type {\n",
       "        vertical-align: middle;\n",
       "    }\n",
       "\n",
       "    .dataframe tbody tr th {\n",
       "        vertical-align: top;\n",
       "    }\n",
       "\n",
       "    .dataframe thead th {\n",
       "        text-align: right;\n",
       "    }\n",
       "</style>\n",
       "<table border=\"1\" class=\"dataframe\">\n",
       "  <thead>\n",
       "    <tr style=\"text-align: right;\">\n",
       "      <th></th>\n",
       "      <th>listing_id</th>\n",
       "      <th>id</th>\n",
       "      <th>date</th>\n",
       "      <th>comments</th>\n",
       "    </tr>\n",
       "  </thead>\n",
       "  <tbody>\n",
       "    <tr>\n",
       "      <th>0</th>\n",
       "      <td>958</td>\n",
       "      <td>5977</td>\n",
       "      <td>2009-07-23</td>\n",
       "      <td>Our experience was, without a doubt, a five st...</td>\n",
       "    </tr>\n",
       "    <tr>\n",
       "      <th>1</th>\n",
       "      <td>958</td>\n",
       "      <td>6660</td>\n",
       "      <td>2009-08-03</td>\n",
       "      <td>Returning to San Francisco is a rejuvenating t...</td>\n",
       "    </tr>\n",
       "    <tr>\n",
       "      <th>2</th>\n",
       "      <td>958</td>\n",
       "      <td>11519</td>\n",
       "      <td>2009-09-27</td>\n",
       "      <td>We were very pleased with the accommodations a...</td>\n",
       "    </tr>\n",
       "    <tr>\n",
       "      <th>3</th>\n",
       "      <td>958</td>\n",
       "      <td>16282</td>\n",
       "      <td>2009-11-05</td>\n",
       "      <td>We highly recommend this accomodation and agre...</td>\n",
       "    </tr>\n",
       "    <tr>\n",
       "      <th>4</th>\n",
       "      <td>958</td>\n",
       "      <td>26008</td>\n",
       "      <td>2010-02-13</td>\n",
       "      <td>Holly's place was great. It was exactly what I...</td>\n",
       "    </tr>\n",
       "  </tbody>\n",
       "</table>\n",
       "</div>"
      ],
      "text/plain": [
       "   listing_id     id        date  \\\n",
       "0         958   5977  2009-07-23   \n",
       "1         958   6660  2009-08-03   \n",
       "2         958  11519  2009-09-27   \n",
       "3         958  16282  2009-11-05   \n",
       "4         958  26008  2010-02-13   \n",
       "\n",
       "                                            comments  \n",
       "0  Our experience was, without a doubt, a five st...  \n",
       "1  Returning to San Francisco is a rejuvenating t...  \n",
       "2  We were very pleased with the accommodations a...  \n",
       "3  We highly recommend this accomodation and agre...  \n",
       "4  Holly's place was great. It was exactly what I...  "
      ]
     },
     "execution_count": 8,
     "metadata": {},
     "output_type": "execute_result"
    }
   ],
   "source": [
    "reviews.head()"
   ]
  },
  {
   "cell_type": "markdown",
   "metadata": {},
   "source": [
    "#### Actual work"
   ]
  },
  {
   "cell_type": "code",
   "execution_count": 9,
   "metadata": {
    "ExecuteTime": {
     "end_time": "2018-09-12T17:50:57.602255Z",
     "start_time": "2018-09-12T17:50:57.587521Z"
    }
   },
   "outputs": [
    {
     "name": "stdout",
     "output_type": "stream",
     "text": [
      "179\n",
      "192\n",
      "195\n",
      "218\n"
     ]
    }
   ],
   "source": [
    "# Remove Stop Words\n",
    "stop = stopwords.words('english')\n",
    "print(len(stop))\n",
    "punctuations = ['.', ',', '(', ')', \"!\", \"?\", \"'\", '\"', \"<\", \">\", \"-\", \":\", \";\"]\n",
    "more = [\"/n\", \"/t\", \"'s\"]\n",
    "airbnb =['me', 'us', 'our', 'you', 'your', 'yours', 'her', 'his', 'him', 'her', 'was', 'is', 'them', 'there', \n",
    "         'great', 'place', 'stay', 'recommend',  'would', 'even', 'good', 'wait', 'still'] \n",
    "stop += punctuations\n",
    "print(len(stop))\n",
    "stop += more\n",
    "print(len(stop))\n",
    "stop += airbnb\n",
    "print(len(stop))"
   ]
  },
  {
   "cell_type": "code",
   "execution_count": 10,
   "metadata": {
    "ExecuteTime": {
     "end_time": "2018-09-12T17:50:58.268435Z",
     "start_time": "2018-09-12T17:50:58.261517Z"
    }
   },
   "outputs": [],
   "source": [
    "def clean_text(text):\n",
    "    if (type(text)==float):         # For missings\n",
    "        return \"\"\n",
    "    else:\n",
    "        text = contractions.fix(text) # Fix Contractions\n",
    "        tokens = word_tokenize(text)  # Tokenize\n",
    "        # remove pronouns\n",
    "        pos = nltk.pos_tag(tokens)   \n",
    "        list_to_remove=[]\n",
    "        for i in range(len(tokens)):\n",
    "            if len(pos[i][1])>0 and pos[i][1] in (\"NNP\", \"NNPS\"):\n",
    "                list_to_remove.append(i)\n",
    "        tokens = np.delete(tokens, list_to_remove)\n",
    "        # Lemmatize\n",
    "        lemmatize = WordNetLemmatizer()\n",
    "        clean_text = [lemmatize.lemmatize(token.lower().strip(), pos='v') for token in tokens]\n",
    "        # Remove stop words\n",
    "        clean_text = [x for x in clean_text if x not in stop]\n",
    "    \n",
    "    return ' '.join(clean_text)"
   ]
  },
  {
   "cell_type": "code",
   "execution_count": 342,
   "metadata": {
    "ExecuteTime": {
     "end_time": "2018-09-07T22:59:07.940332Z",
     "start_time": "2018-09-07T22:59:07.936214Z"
    }
   },
   "outputs": [],
   "source": [
    "# reviews_cleaned = [clean_text(r) for r in reviews['comments']]\n",
    "# print(len(reviews_cleaned))\n",
    "# reviews_cleaned[22]"
   ]
  },
  {
   "cell_type": "code",
   "execution_count": 12,
   "metadata": {
    "ExecuteTime": {
     "end_time": "2018-09-12T17:58:22.117798Z",
     "start_time": "2018-09-12T17:58:22.113558Z"
    }
   },
   "outputs": [],
   "source": [
    "reviews_cleaned = [comment for comment in reviews_cleaned['comments'] if detect(comment) == 'en']\n",
    "print(len(reviews_cleaned))\n",
    "reviews_cleaned[22]"
   ]
  },
  {
   "cell_type": "code",
   "execution_count": 13,
   "metadata": {
    "ExecuteTime": {
     "end_time": "2018-09-12T17:58:31.560388Z",
     "start_time": "2018-09-12T17:58:31.308657Z"
    }
   },
   "outputs": [],
   "source": [
    "os.chdir('/Users/bellepeng/Desktop/Metis/Projects/Project_AirBNB/data')\n",
    "import pickle\n",
    "# with open('reviews_cleaned.pkl', 'wb') as file: # the orig has no pronouns removed\n",
    "#     pickle.dump(reviews_cleaned, file)\n",
    "# with open('reviews_cleaned2.pkl', 'wb') as file: # reviews_cleaned2 is the one with the pronouns removed\n",
    "#     pickle.dump(reviews_cleaned, file)\n",
    "# with open('reviews_cleaned2.pkl', 'rb') as file:\n",
    "#     reviews_cleaned = pickle.load(file)\n",
    "with open('reviews_cleaned3.pkl', 'rb') as file:\n",
    "    reviews_cleaned = pickle.load(file)"
   ]
  },
  {
   "cell_type": "code",
   "execution_count": 14,
   "metadata": {
    "ExecuteTime": {
     "end_time": "2018-09-12T17:59:45.058724Z",
     "start_time": "2018-09-12T17:58:38.898935Z"
    }
   },
   "outputs": [
    {
     "name": "stdout",
     "output_type": "stream",
     "text": [
      "281273\n",
      "33\n",
      "['experience', 'without', 'doubt', 'five', 'star', 'experience', 'husband', 'consummate', 'host', 'friendly', 'accomodating', 'honor', 'privacy', 'apartment', 'charm', 'layout', 'full', 'view', 'access', 'home', 'garden', 'location', 'perfect', 'full', 'engagement', 'city', 'close', 'mass', 'transit', 'walk', 'proximity', 'next', 'visit']\n"
     ]
    }
   ],
   "source": [
    "# Tokenize\n",
    "tokenized = [word_tokenize(i) for i in reviews_cleaned]\n",
    "print(len(tokenized)) #278884\n",
    "print(len(tokenized[0]))\n",
    "print(tokenized[0])"
   ]
  },
  {
   "cell_type": "markdown",
   "metadata": {},
   "source": [
    "### Pair with Listing IDs"
   ]
  },
  {
   "cell_type": "code",
   "execution_count": 235,
   "metadata": {
    "ExecuteTime": {
     "end_time": "2018-09-06T05:18:38.450152Z",
     "start_time": "2018-09-06T05:18:38.438149Z"
    }
   },
   "outputs": [
    {
     "data": {
      "text/plain": [
       "array([ 958, 5858, 7918, 8142, 8339])"
      ]
     },
     "execution_count": 235,
     "metadata": {},
     "output_type": "execute_result"
    }
   ],
   "source": [
    "# Get the list of unique listing IDs for iterating through\n",
    "listing_ids = reviews['listing_id'].unique()"
   ]
  },
  {
   "cell_type": "code",
   "execution_count": 221,
   "metadata": {
    "ExecuteTime": {
     "end_time": "2018-09-06T05:13:21.542572Z",
     "start_time": "2018-09-06T05:13:21.532967Z"
    }
   },
   "outputs": [
    {
     "name": "stdout",
     "output_type": "stream",
     "text": [
      "152\n"
     ]
    },
    {
     "data": {
      "text/plain": [
       "[0, 1, 2, 3, 4]"
      ]
     },
     "execution_count": 221,
     "metadata": {},
     "output_type": "execute_result"
    }
   ],
   "source": [
    "# Get the reviews for one listing at a time\n",
    "for i in listing_ids:\n",
    "    ix_one_review = list(reviews[reviews['listing_id']==i].index)\n",
    "    reviews_one_listing = [reviews_cleaned[ix] for ix in ix_one_review]\n",
    "#     Need to build next step here or else it'll get overwritten without doing work"
   ]
  },
  {
   "cell_type": "code",
   "execution_count": null,
   "metadata": {
    "ExecuteTime": {
     "end_time": "2018-09-07T20:59:37.247049Z",
     "start_time": "2018-09-07T20:41:31.434Z"
    }
   },
   "outputs": [],
   "source": [
    "list(reviews[reviews['listing_id']==5858].index)"
   ]
  },
  {
   "cell_type": "markdown",
   "metadata": {},
   "source": [
    "## Topic Modeling - Need to split by listing ID"
   ]
  },
  {
   "cell_type": "code",
   "execution_count": null,
   "metadata": {},
   "outputs": [],
   "source": [
    "len(reviews_sf.groupby('listing_id').count()) # 5491 listings \n",
    "reviews_sf.groupby('listing_id').count()[:3]"
   ]
  },
  {
   "cell_type": "markdown",
   "metadata": {},
   "source": [
    "### All Data"
   ]
  },
  {
   "cell_type": "code",
   "execution_count": 373,
   "metadata": {
    "ExecuteTime": {
     "end_time": "2018-09-08T00:35:18.716132Z",
     "start_time": "2018-09-08T00:35:18.042176Z"
    }
   },
   "outputs": [],
   "source": [
    "# Vectorize\n",
    "from sklearn.feature_extraction.text import CountVectorizer, TfidfVectorizer\n",
    "count_vectorizer = CountVectorizer(ngram_range=(1,2), stop_words=stop, lowercase=True)\n",
    "tfidf_vectorizer = TfidfVectorizer(ngram_range=(1,2), stop_words=stop, lowercase=True)"
   ]
  },
  {
   "cell_type": "code",
   "execution_count": 156,
   "metadata": {
    "ExecuteTime": {
     "end_time": "2018-09-05T20:03:34.441117Z",
     "start_time": "2018-09-05T20:03:34.430045Z"
    }
   },
   "outputs": [],
   "source": [
    "def display_topics(model, fit, feature_names, no_top_words, topic_names=None):\n",
    "    for ix, topic in enumerate(model.components_):\n",
    "        if not topic_names or not topic_names[ix]:\n",
    "            print(\"\\nTopic {a:} score: {b: 6.1f}%\".format(a=ix, b=100*sum(fit[:,ix])/fit.sum()   ))\n",
    "        else:\n",
    "            print(\"\\nTopic {a:} score: {b: 6.1f}%\".format(a=topic_names[ix], b=100*sum(fit[:,ix])/fit.sum()   ))\n",
    "        print(\", \".join([feature_names[i]\n",
    "                        for i in topic.argsort()[:-no_top_words - 1:-1]]))"
   ]
  },
  {
   "cell_type": "markdown",
   "metadata": {},
   "source": [
    "#### Wrap all functions"
   ]
  },
  {
   "cell_type": "code",
   "execution_count": 374,
   "metadata": {
    "ExecuteTime": {
     "end_time": "2018-09-08T00:35:21.329241Z",
     "start_time": "2018-09-08T00:35:21.320376Z"
    }
   },
   "outputs": [],
   "source": [
    "# Function for topic for each individual listing\n",
    "def topic_per_listing(data, n_comp=3, n_words=10):\n",
    "    cv = count_vectorizer.fit_transform(data)\n",
    "    tfidf = tfidf_vectorizer.fit_transform(data)\n",
    "    print(\"Count Vectorizer Shape\", cv.shape)\n",
    "    print(\"TFIDF Vectorizer Shape\", tfidf.shape)\n",
    "    print()\n",
    "    \n",
    "    print(\"NMF Decomposition with Count Vectorizer\")\n",
    "    nmf = NMF(n_components=n_comp)\n",
    "    nmf_data = nmf.fit_transform(cv)\n",
    "    display_topics(nmf, nmf_data, count_vectorizer.get_feature_names(), n_words)\n",
    "    print()\n",
    "    \n",
    "    print(\"LSA Decomposition with TIFIDF Vectorizer\")\n",
    "    lsa_tfidf = TruncatedSVD(n_components=n_comp)\n",
    "    lsa_tfidf_data = lsa_tfidf.fit_transform(tfidf)\n",
    "    display_topics(lsa_tfidf, lsa_tfidf_data, tfidf_vectorizer.get_feature_names(), n_words)\n",
    "    print()\n",
    "    \n",
    "    print(\"LSA Decomposition with Count Vectorizer\")\n",
    "    lsa_cv = TruncatedSVD(n_components=n_comp)\n",
    "    lsa_cv_data = lsa_cv.fit_transform(cv)\n",
    "    display_topics(lsa_cv, lsa_cv_data, count_vectorizer.get_feature_names(), n_words)\n",
    "    \n",
    "    return nmf, nmf_data, lsa_tfidf, lsa_tfidf_data, lsa_cv, lsa_cv_data"
   ]
  },
  {
   "cell_type": "code",
   "execution_count": 375,
   "metadata": {
    "ExecuteTime": {
     "end_time": "2018-09-08T00:39:09.803196Z",
     "start_time": "2018-09-08T00:35:23.388307Z"
    },
    "scrolled": false
   },
   "outputs": [
    {
     "name": "stdout",
     "output_type": "stream",
     "text": [
      "Count Vectorizer Shape (281273, 1097647)\n",
      "TFIDF Vectorizer Shape (281273, 1097647)\n",
      "\n",
      "NMF Decomposition with Count Vectorizer\n",
      "\n",
      "Topic 0 score:   25.0%\n",
      "room, nice, clean, house, bed, bathroom, really, comfortable, get, also\n",
      "\n",
      "Topic 1 score:   41.2%\n",
      "apartment, walk, location, clean, easy, need, restaurants, park, well, everything\n",
      "\n",
      "Topic 2 score:   33.8%\n",
      "home, host, make, feel, time, welcome, house, wonderful, beautiful, like\n",
      "\n",
      "LSA Decomposition with TIFIDF Vectorizer\n",
      "\n",
      "Topic 0 score:  102.1%\n",
      "location, host, clean, nice, apartment, room, comfortable, everything, home, really\n",
      "\n",
      "Topic 1 score:   -4.6%\n",
      "location, location host, host location, location clean, perfect location, host, clean location, apartment location, location perfect, location nice\n",
      "\n",
      "Topic 2 score:    2.4%\n",
      "host cancel, cancel reservation, automate post, arrival automate, automate, days arrival, cancel, reservation, post, arrival\n",
      "\n",
      "LSA Decomposition with Count Vectorizer\n",
      "\n",
      "Topic 0 score:  102.3%\n",
      "host, room, clean, location, apartment, home, comfortable, walk, nice, make\n",
      "\n",
      "Topic 1 score:   -2.4%\n",
      "room, house, nice, bathroom, bed, home, like, clean, share, live\n",
      "\n",
      "Topic 2 score:    0.1%\n",
      "home, make, host, feel, welcome, make feel, beautiful, house, wonderful, like\n"
     ]
    }
   ],
   "source": [
    "nmf, nmf_data, lsa_tfidf, lsa_tfidf_data, lsa_cv, lsa_cv_data = topic_per_listing(reviews_cleaned, n_comp=3, n_words=10)"
   ]
  },
  {
   "cell_type": "code",
   "execution_count": 376,
   "metadata": {
    "ExecuteTime": {
     "end_time": "2018-09-08T00:44:58.710135Z",
     "start_time": "2018-09-08T00:41:34.432232Z"
    }
   },
   "outputs": [
    {
     "name": "stdout",
     "output_type": "stream",
     "text": [
      "Count Vectorizer Shape (281273, 1097647)\n",
      "TFIDF Vectorizer Shape (281273, 1097647)\n",
      "\n",
      "NMF Decomposition with Count Vectorizer\n",
      "\n",
      "Topic 0 score:   19.8%\n",
      "room, nice, clean, house, bed, bathroom, really, comfortable, also, get\n",
      "\n",
      "Topic 1 score:   29.9%\n",
      "apartment, walk, restaurants, easy, park, need, get, well, also, neighborhood\n",
      "\n",
      "Topic 2 score:   23.0%\n",
      "home, make, feel, time, house, like, welcome, beautiful, city, make feel\n",
      "\n",
      "Topic 3 score:   27.2%\n",
      "host, location, clean, perfect, comfortable, wonderful, definitely, everything, friendly, helpful\n",
      "\n",
      "LSA Decomposition with TIFIDF Vectorizer\n",
      "\n",
      "Topic 0 score:  102.1%\n",
      "location, host, clean, nice, apartment, room, comfortable, everything, home, really\n",
      "\n",
      "Topic 1 score:   -4.6%\n",
      "location, location host, host location, location clean, perfect location, host, clean location, apartment location, location perfect, location nice\n",
      "\n",
      "Topic 2 score:    2.5%\n",
      "host cancel, cancel reservation, automate post, arrival automate, automate, days arrival, cancel, reservation, post, arrival\n",
      "\n",
      "Topic 3 score:    0.0%\n",
      "nice, really, clean, room, really nice, house, clean comfortable, nice clean, friendly, comfortable\n",
      "\n",
      "LSA Decomposition with Count Vectorizer\n",
      "\n",
      "Topic 0 score:  113.4%\n",
      "host, room, clean, location, apartment, home, comfortable, walk, nice, make\n",
      "\n",
      "Topic 1 score:   -2.7%\n",
      "room, house, nice, bathroom, bed, home, clean, like, share, room clean\n",
      "\n",
      "Topic 2 score:    0.2%\n",
      "home, make, host, feel, welcome, make feel, beautiful, wonderful, house, amaze\n",
      "\n",
      "Topic 3 score:  -10.9%\n",
      "walk, get, park, also, home, house, like, around, away, one\n"
     ]
    }
   ],
   "source": [
    "nmf4, nmf_data4, lsa_tfidf4, lsa_tfidf_data4, lsa_cv4, lsa_cv_data4 = topic_per_listing(reviews_cleaned, n_comp=4, n_words=10)"
   ]
  },
  {
   "cell_type": "code",
   "execution_count": null,
   "metadata": {},
   "outputs": [],
   "source": []
  },
  {
   "cell_type": "code",
   "execution_count": null,
   "metadata": {},
   "outputs": [],
   "source": []
  },
  {
   "cell_type": "code",
   "execution_count": null,
   "metadata": {},
   "outputs": [],
   "source": []
  },
  {
   "cell_type": "markdown",
   "metadata": {
    "heading_collapsed": true
   },
   "source": [
    "## Review Summarizer\n",
    "SUMY:  \n",
    "1. Lex Rank (google)\n",
    "2. Luhn (wasn't very good)\n",
    "3. LSA (PCA)\n",
    "4. Text Rank (google)"
   ]
  },
  {
   "cell_type": "code",
   "execution_count": 371,
   "metadata": {
    "ExecuteTime": {
     "end_time": "2018-09-07T23:50:45.747854Z",
     "start_time": "2018-09-07T23:50:45.741290Z"
    },
    "hidden": true
   },
   "outputs": [],
   "source": [
    "#Plain text parsers since we are parsing through text\n",
    "from sumy.nlp.tokenizers import Tokenizer\n",
    "from sumy.parsers.plaintext import PlaintextParser\n",
    "from sumy.summarizers.lex_rank import LexRankSummarizer \n",
    "from sumy.summarizers.luhn import LuhnSummarizer\n",
    "from sumy.summarizers.lsa import LsaSummarizer\n",
    "from sumy.summarizers.text_rank import TextRankSummarizer"
   ]
  },
  {
   "cell_type": "code",
   "execution_count": 363,
   "metadata": {
    "ExecuteTime": {
     "end_time": "2018-09-07T23:27:45.062733Z",
     "start_time": "2018-09-07T23:27:45.049527Z"
    },
    "hidden": true
   },
   "outputs": [],
   "source": [
    "# Get the reviews for one listing at a time\n",
    "for i in listing_ids[:1]:\n",
    "    ix_one_review = list(reviews[reviews['listing_id']==i].index)\n",
    "    reviews_one_listing = [reviews['comments'].iloc[ix] for ix in ix_one_review]"
   ]
  },
  {
   "cell_type": "code",
   "execution_count": 364,
   "metadata": {
    "ExecuteTime": {
     "end_time": "2018-09-07T23:27:47.523677Z",
     "start_time": "2018-09-07T23:27:47.511882Z"
    },
    "hidden": true
   },
   "outputs": [
    {
     "name": "stdout",
     "output_type": "stream",
     "text": [
      "54974\n"
     ]
    },
    {
     "data": {
      "text/plain": [
       "'Our experience was, without a doubt, a five star experience. Holly and her husband, David, were the consummate hosts; friendly and accomodating while still honoring our privacy. The apartment was a charming layout with a full view and access to the home\\'s garden The location is perfect for full engagement with the city; close to mass transit with walking proximity to the Haight, the Mission, the Castro and Golden Gate Park. I can\\'t wait for our next visit.\\r\\n\\r\\nTed and Karen Wingerd. Returning to San Francisco is a rejuvenating thrill but this time it was enhanced by our stay at Holly and David\\'s beautifully renovated and perfectly located apartment. You do not need a car to enjoy the City as everything is within walking distance - great restaurants, bars and local stores. With such amenable hosts and a place to stay that enhances one\\'s holiday, we will be returning again and again.. We were very pleased with the accommodations and the friendly neighborhood. Being able to make a second bed out of the futon couch was particularly helpful. Having a full kitchen, a lovely walkout garden, and TV + DVD + FM stereo were added bonuses. Holly and David were most gracious and met our every request. Being within walking distance of both the Haight Street and Castro Street scenes was great. The only negative for us was the difficulty in finding on-street parking, due to both the density of the neighborhood and the construction work going on. A few evenings we had to park about 4 blocks away. For people who need to use private vehicles, this problem does restrict their plans somewhat. For people who can use public transportation and/or walk, this is no problem.. We highly recommend this accomodation and agree with the previous postings: Holly and David were extremely helpful and friendly (but not at all instrusive), the unit itself is just superb and in a wondeful location. Unlike some other Airbnb accomodation optins, this is a dedicated rental unit, furnished with consumables (dishwashing liquid etc) and you don\\'t have to contend with someone else\\'s belongings or mess. A perfect and very relaxing end to our holiday, would love to stay there again one day.. Holly\\'s place was great. It was exactly what I needed.  Perfect location, super clean, and even a little patio out back. Since I go back to San Francisco frequently, there\\'s a good chance I will make this a place I come again and again!. On top of all that has been said previously, I would add that it is a very quiet place. Holly and David are very nice and accomodating. Staying with our 19-month old boy was not a problem, only a few items had to be moved out of reach - enquire if you have special needs for young kids. The backyard is lovely. There is a lively child playground in Duboce park just a minute away and you can visit the small Randall museum on rainy days. All nearby restaurants we tried welcomed children - very good & trendy restaurants are just minutes away.  It is also possible to walk to the warfs through Nob Hill, Chinatown and Downtown, even with a stroller.\\r\\n\\r\\nAs for parking, you can stay for 2 hours in the surrounding streets during the week (but apparently 1/2 day is safe), and unlimited time during the weekends. Although we didn\\'t need it, there is a public parking corner Noe and Market that you may try. Take the public transport (e.g. streetcar F on Market St) and you will easily reach the touristy areas. The neighbourghood is very safe, vibrant and has awesome architecture. We loved it!\\r\\n\\r\\nWe can\\'t think of a better place to stay in San Francisco.. This apartment was everything I could have hoped for and more. The place is extremely well appointed, comfortable and situated in one of the best places to be in San Francisco. Holly and David are wonderful hosts and make you feel right at home. I highly recommend this place!. Great place to stay.  I would highly recommend it!  Superb location -- half a block to Muni, and 10 minute ride to downtown.  Holly is so nice and very helpful too.\\r\\nTwo things you may want to know:\\r\\nA landline is supplied for free domestic (US) calls in case your cell phone does not get a signal here (notorious for AT&T users in Duboce Park).\\r\\nYou will hear footsteps from the little one on the floor above when he wakes up around 8 am!. Great location in San Francisco, really felt like a \"local\" rather than a \"tourist\" with super restaurants and transport links within a short walking distance. Apartment was wonderful and the folder containing information about the apartment/area was a thoughtful touch by Holly. Would definitely recommend staying here. . We had a wonderful time at Holly & Davids place! It was perfect for our family of 4 (2 kids, 14 yrs & 20 months) after a long road trip through California. It was a home away from home!!!\\r\\n\\r\\nWe spend a week in this lovely apartment. Not only is the space perfectly equipped with everything you need for even a longer stay, it is also extremely conveniently located for families - very central with excellent connection to local transportation, close to a playground (for the little one) and a basketball court (where I\\'ve been battling every day with the older one - and at some times with the locals), and very quiet due to the cul-de-sac. And The Haight is a great area to relax (as is the garden behind the apartment). \\r\\n\\r\\nTo make it short: we felt very much at home, and it was almost like living there for real. We\\'ll aways try and come back whenever we return to San Francisco!\\r\\n\\r\\nThanks to our hosts for creating this lovely & comfortable space for our family to relax!!!\\r\\n\\r\\nJörg, Yvonne, Melvin & Maxim. Holly\\'s unit is comfortable and convenient if you wish to stay in the Haight neighborhood.  We had privacy, yet Holly was right there if we needed anything.  My husband and I felt more like personal house guests than renters.  We will definitely be back!. Holly\\'s place was great.  I would definitely stay there again.  The neighborhood was nice and I definitely felt safe walking around there any time of day.  Plus getting from neighborhood to neighborhood was easy whether we walked or hopped on to public transportation.  Sometimes the upstairs footsteps were easy to hear and came early in the morning but it never kept me up.  I would definitely stay there again. \\r\\n. This is a great place in a wonderful neighbor centrally located in Lower Haight. This is a dedicated vacation rental so everything you need is included in the space.\\r\\nWonderfully decorated apartment, well lit with a nice little garden in back.\\r\\n. Our stay at Holly\\'s apartment was absolutely wonderful. The neighborhood is beautiful and the apartment is very close to transportation. The apartment was thoughtfully stocked with everything we needed and more. Would definitely stay here again. . Great location near Haight Street and close to Muni to get into downtown.  Friendly hosts who helped with sunscreen, lost luggage and parcel delivery.  Very relaxing, opens onto back garden and plenty of room.  Would definitely stay again.. Truly amazing place - great location near Haight Street, close to Muni station, 100 feet from a lovely park. The house itself is very clean, lovely decorated, with fully equipped kitchen and beautiful garden. Holly is super responsive and welcoming. Would definitely stay here again.. We really enjoyed staying in this cute, and airy garden apartment. It was a little cramped for me and my 2 teen boys, but we had everything we needed. The kitchen was very complete and clean which was great because we cooked a lot. Parking was easy to find and free, though we had to move the car very 2 hours (which was only difficult in the evening). Great location. The neighborhood is beautiful, and we loved being right next to the little park. We\\'d definitely like to return!. This was the perfect little rental suite. It was equipped with everything you need including cookware. The place was clean and very cute. A nice addition was the use of the yard, great to eat lunch in the sun. We thought the location was perfect, you felt like you were a local. Near great restaurant and shop. The only thing is expect to hear some children footsteps in the morning at around 8 am. The noise however was never present at night. I would stay there again!. Great position for exploring San Francisco- close to the Muni. The apartment was warm and comfortable with access to a washing machine and a small garden.  WiFi was patchy. There are a variety of good restaurants in the neighbourhood. We would certainly recommend this accommodation.. We had the greatest stay at Holly & David\\'s garden unit! We couldn\\'t have asked for a better base for our week in San Francisco. Our 3-year-old son loved playing with Holly & David\\'s boys, and they were happy to share their scooters and balls, so appreciated! \\nThe location is perfect, right next to Duboce Park, you are so close to the playground and the N Judah Muni which takes you to downtown. The neighbourhood is lovely, with plenty of places to eat. Our favourites were the Thai, Duboce Park Cafe and Greenburgers on Haight Street. \\nIt\\'s also walking distance to both CVS Pharmacy and Safeway, as well as smaller organic markets. \\nThe unit has everything you need, and I mean literally everything. Not only does it have a comfy bed and foldout couch, with a full kitchen - there is ample linen, umbrellas, yoga mats, sellotape - all the extras that you just might need. \\nWe found the unit to be just as represented in the pictures, with a very homely feel.\\nWe loved it and we\\'re sure you will too. Thank you Holly & David! . What a gem! Holly (and her adorable son!) greeted us at the door with such warmth.  She was quick to answer any questions and never made me feel that I was inconveniencing her no matter how small the request.  My parents stayed at the apartment for a few nights and they reported the layout was very comfortable and the bed was cozy.  The backyard is so nice to have access to with a lovely citrus tree and even a charcoal grill where we made skewers and enjoyed the San Francisco Summer.  I am sure we will be renting from Holly again soon!. We couldn\\'t have asked for a better place to stay. The house is located in a quiet residential area, a few doors away from a beautiful park, and the MUNI which brings you directly to the main shopping district in about 10 minutes. Safeway, which is about 10 minutes\\' walk away, is a great place for groceries, and there is no lack of restaurants and cafes along the way. \\r\\nHolly has thought of everything a traveller would want, from an umbrella and guidebooks for SF, to a water purifier and a coffee maker in the kitchen. She responded to our queries promptly, and left little things that made us feel welcome, like chocolates and wine on the table when we arrived, and a bottle of moisturizer on the doorstep when the weather turned really cold. \\r\\nSound travels in the house, and with Holly\\'s two adorable young children, we could hear their footsteps through the ceiling as they went about their day. For us, it was a welcome reminder that we were living with a family, but if you are sensitive to noise, it might be something to consider when booking. \\r\\nWe left SF with wonderful memories of staying at Holly\\'s place, and we hope that it will bring the same to others too. . Holly\\'s garden unit  is very nice. It is clean, comfortable and the garden is really lovely. The location is convenient too. Next to a great park, and walking distance to cafe\\'s and some restaurants. We enjoyed our stay. . Holly\\'s lovely apartment is exactly as advertised. \\r\\nFirst, its in a great neighborhood, one of my favorites in SF, and on a very nice street ending in a lovely park.  Second, public transportation is quite good and accessible, so you won\\'t need a car. If you do bring a car be aware that the neighborhood, like many in SF, has some tight parking restrictions.  Third, the apartment. Well, there are those Airbnb moments when you open the front door and wonder....OMG, what a mistake.  You will have the opposite experience at Holly\\'s place! I took one look at the furnishings, the layout and the verdant garden and went \"Ahhhh\".  Nicely furnished, tasteful yet relaxed and thoughtfully provided with everything that you might need. Comfy bed, nice bathroom and workable kitchen. Finally, Holly is a really gracious and accessible hostess. You will be happy to meet her. \\r\\nI will be trying to stay here again and again when I return to San Francisco.     . We visited San Fran for a mix of work and leisure, from Seattle.  We had a terrific time at Holly\\'s place.  The exterior is quintessential San Fran and Duboce Park is just steps away.  You get the \\'feel\\' you are living in SF for a bit, which was the goal.  We had a car and found street parking on the weekend easily but we also used the MUNI (public transit) with stops 2 blocks away and an easy ride most anywhere.  Holly and her family were friendly, generous and helpful.  The unit is clean, updated and well laid out.  We are a family of two adults and two toddlers.  The unit is more a junior 1 bedroom but it worked well for us even without a door to the bedroom itself.  Even with the park right outside, we managed to have take-out lunch in the courtyard which is awesome and well landscaped.  The kitchen is well equipped which is helpful when you want some coffee or put together something to eat.  We also checked out Bean There, Cafe du Soleil which are nearby coffee spots.  We would easily recommend this to any family, couple or single person and we would gladly stay again.  Although you are on the bottom floor of the home, it is completely private, including the courtyard.  On another note we highly recommend: SOMA Streetfood Park for awesome truck food, Ichi Sushi in Bernal Heights, Tartine.... Great place! Wonderful neighborhood!  Together make a super value!. Note: My mother, father, and younger brother stayed at Holly\\'s house during a recent trip to SF. Their review is below:\\r\\n\\r\\nHolly\\'s apartment is the perfect place to stay during a visit to San Francisco! It comfortably accommodates up to 3 people - we stayed there with our teenage son and always felt like we had plenty of room. The apartment is exactly as described, perhaps even roomier than it sounds in the description. The furnishings are modern and comfortable, and the apartment is clean and well-stocked. The backyard is a lovely, quiet retreat. The neighborhood is very attractive and very family-friendly. It\\'s accessible by public transportation to just about anywhere a visitor would like to go. The Muni Metro N-line stops one block away and can take you to downtown, Golden Gate Park, AT&T Park, and many other places. Several bus lines are also within easy walking distance as are many stores and restaurants.\\r\\n\\r\\nHolly and her husband, David, are wonderful hosts. We enjoyed talking with them on several occasions, and we didn\\'t mind at all the sounds of their young children at play. If you enjoy Thai cuisine, please take their recommendation and eat at Thep Phanom just a few blocks from their house.. Holly\\'s garden apartment was fantastic, there\\'s no other way to describe it!  \\r\\n\\r\\nThe bed was extremely comfortable, the entire place was spotless and we felt relaxed as soon as we walked in.\\r\\n\\r\\nThe neighbourhood was great; there are super bars and restaurants only a few blocks away and the public transport links were also really handy. \\r\\n\\r\\nWe would definitely stay at Holly\\'s again and would absolutely recommend it to anyone else looking to stay in Lower Haight!. Holly was great and always accessible. The garden unit was just awesome and in the perfect neighbourhood, access to groceries, bars and shops all within walking distance. We couldn\\'t have been happier with our accommodation and amenities included. It was right nextdoor to a dogpark and the tram to downtown and wharf. We would happily stay here again and would highly recommend anyone else to stay here. . This was my first experience with Airbnb and it was completely positive. The apartment is spacious, spotless, full of light, tastefully decorated and thoughtfully equipped with pretty much everything you might need (including little touches like SF guides, Woolite for washing, a big tote for shopping, etc.). The bed was exceptionally comfortable.  I found Holly’s notebook with tips on local restaurants and stores very helpful, along with a decorative wall hanging with a graphic of the neighborhood pinpointing all the Muni lines. The garden with a grapefruit tree and flowers, which I had all to myself, was a treat. A big asset for me was the landline phone with unlimited domestic calling, since I didn’t bring a cell — very few Airbnb’s in SF have this feature. Really, Holly seems to have thought of everything!\\r\\n\\r\\nThe location is perfect — at the end of Pierce Street by beautiful Duboce Park, thus, little traffic and totally quiet at night. There was the pattering of little feet in the mornings along with occasional squeals, but I thought that was fun, a nice homey touch and I was up anyway. The neighborhood is classic S.F., easy walking distance to all points, convenient to trams and trains. As a health nut, I was glad to have several healthfood stores, including a huge new Whole Foods, just a few blocks away. All in all, I really enjoyed staying here and would highly recommend it!\\r\\n. Vi bodde väldigt bra hos Holly! Vi blev väl mottagna och det var väldigt lätt att kontakta henne. Holly hjälpte oss att ordna taxi till vår avfärd, något som vi verkligen uppskattade! Det var mysigt att sitta ute i den lilla trädgården. I området fanns många trevliga restauranger. Gatan var lugn och fin.\\r\\n. The apartment is in a great location, walking distance to funky neighbourhoods - Haight, Castro, Hayes Valley and Mission - and public transport. The park and playground at the end of the street (meters from the apartment) is the best we found in the whole city. Brilliant for active kids. The apartment is spacious, stylish and packed with amenities. And Holly went over and above to ensure our toddler had plenty of toys and books on rainy days.\\n\\nIf you want to experience San Fran like a local, in a lovely apartment and great neighbourhood, then look no further. . We had a wonderful time staying at Holly\\'s apartment. The apartment is very comfortable and well appointed and located in a great part of San Francisco close to public transport as well as some cool cafes and restaurants. Holly and her family made us feel very welcomed and were very responsive and helpful. We would happily stay there again and would highly recommend the place to others.. Una parte muy importante de cada viaje es el lugar donde uno se hospedará durante la estadía en el extranjero, con toda seguridad puedo decir que el apartamento de Holly Coleman nos brindó una excelente experiencia, ya que la localización de éste es ideal para alguien que desea conocer San Francisco con calma y teniendo los barrios más interesantes en una distancia muy corta. El mismo departamento siempre estuvo en la mejor condición posible y contamos con todos los elementos necesarios para poder sentirnos como en casa con posibilidad de lavar la ropa, acceso a internet e incluso un maravilloso jardín. Una parte muy importante de cada viaje es el lugar donde uno se hospedará durante la estadía en el extranjero, con toda seguridad puedo decir que el apartamento de Holly Coleman nos brindó una excelente experiencia, ya que la localización de éste es ideal para alguien que desea conocer San Francisco con calma y teniendo los barrios más interesantes en una distancia muy corta. El mismo departamento siempre estuvo en la mejor condición posible y contamos con todos los elementos necesarios para poder sentirnos como en casa con posibilidad de lavar la ropa, acceso a internet e incluso un maravilloso jardín. Finalmente, podemos decir que Holly fue una excelente anfitriona en todo sentido por lo que recomendamos este lugar con toda seguridad.   . this is a lovely basement apartment, very clean and everything you could want is provided. Pretty garden, great location. I stayed with my son and we were both very happy to have chosen this property. This was my first experience with airbnb and I was very pleased.. This home was quaint and in an amazing location. A studio-style apartment on the bottom floor of a classic looking San Francisco house. The apartment is right next to a nice park where people are out walking their dogs, and we were a short Uber ride to everything in SF.\\r\\n\\r\\nUpon check-in, the unit was very clean and our host had a binder ready for us with all the information we would need including Wi-Fi password. There is a trashcan, recycling bin, and compost bin to be environmentally friendly, and a full service kitchen.\\r\\nWe were very comfortable during our stay and would recommend this unit to anyone.\\r\\n\\r\\n\\r\\n. Holly\\'s apartment was the perfect place for us to stay on our trip to SF! It was bright, clean, comfortable, stylish, and private. We had our 1 year old son with us and it was a great place for us to stay with him. It was very close walking distance to Duboce Park, the Castro, and Haight St. where there were plenty of really good restaurants. The garden was private with two accesses from the apartment and was a great place for us to relax in the evening. Holly was wonderfully hospitable and welcoming during our stay. I would highly recommend!. Wonderful quiet location directly on the lovely Duboce Park! We only briefly had a chance to meet Holly, but the apartment was wonderfully appointed, comfortable, and very clean. This place is best for early risers as the kid\\'s footsteps upstairs start in earnest around 7am.\\r\\n\\r\\nThe back patio was lovely to sip coffee on, and we scored a fallen grapefruit from the tree. We would absolutely stay here again!. The host canceled this reservation 12 days before arrival. This is an automated posting.. I had a wonderful stay at Holly\\'s. It\\'s a beautiful apartment with everything you may need. The appliances are all top notch. If I am back in SF and it\\'s is available, I\\'d definitely stay here again. . We had a wonderful experience. We have been to SF several times but this was our first AirBnB rental. The apartment is lovely and the area great. Would definitely consider using this location again. . This was a terrific spot to stay. Very clean, quiet, and convenient. Holly has made the arrival process very straight-forward and self-service. The flat was well stocked, had extra blankets and pillow, and everything I needed to stay comfortable. I will definitely stay again.. Great location, especially for small children. There\\'s a playground and dog park very close. Lovely neighborhood with cafes and a bakery. Holly was very accommodating and flexible as well. . Great place with everything you need for an independent stay in this nice neighborhood!. We enjoyed a lot our stay at this unit in SF. The apartment is well located, clean and have an access to a beautiful garden with a small table and two chairs.\\nThis place was perfect for us. We were traveling with our kids (2 and 4 years), and we all felt very comfortable there. \\n. Holly was a fantastic host who gave very clear check-in instructions and answered every question I had. The space was lovely and comfortable, and my only regret is that rain kept me from enjoying the garden! I\\'d love to stay here again!. Great little place to stay in one of my favourite neighbourhoods in SF.  We arrived, got into the place with no issues at all and had a great stay.  The garden area is a nice bonus.  Would stay there again in a shot.. Well, of course there is no place like home, but staying with Holly in her beautifully finished apartment is the next best thing, for sure.  About Holly:  she was personable, welcoming, and very concerned about our happiness and comfort.  We couldn\\'t have asked for a better host.  About the apartment:  it\\'s clean, convenient, quiet, and it has everything that you would need.  And if there is something that you need, ask Holly.  She will take care of it.  At the end of her street is a really nice park, and because it\\'s on a dead-end street, there is no traffic noise whatsoever, no matter what time of day.  It was really like being in the country, which, for SF, is incredibly amazing.  We highly recommend staying with her - you will have no regrets.  In fact, we asked her if she would adopt us so that we could stay forever.  No luck.  But we\\'ll be back.  Holly, Cathy and I want to thank you and your husband very  much for our excellent visit.. We really enjoyed our stay! We couldn\\'t have asked for a more convenient location or better weather! Although the loud (not light) running above does start around 7 am- it was not an issue for us. (Do not stay here if you are a light sleeper) It was nice that they had sunscreen as we did in fact need it. . We had a great experience with Holly and SF!  The neighborhood is wonderfully SF, and the accommodations are excellent. We would definitely rebook here when we return to visit.....  \\r\\n. Holly was a great host.  That cheesy line on tv about not visiting a place but actually living there is true!  Her place has a very home like feel and the garden in the back was perfect for my 2  year old.  Interacting with Holly is very easy and felt like dealing with a neighbor next door.  The other reviews are right in that you can hear little footsteps at certain times but it was never a problem for us because I have a little one as well and was up and around then or was visiting the city.  The listing is sooo ideal, close to the muni train and bus stops.  Next to a park and within walking distance to groceries, corner stores, and restaurants.  It felt bittersweet leaving but it was time to leave and staying at Holly\\'s made our visit so comfortable after long days of sight seeing.  If I come back I am for sure staying here again.. Holly was a great host. The house was perfect, in a very beautiful zone, back to the Duboce Park and near to the train to go to Embarcadero and many other sites. Great place to stay!. Holly\\'s apartment was a great stay! Apartment was clean and spacious and the garden is lovely. Located in a great neighbourhood, right by the park. Highly recommend!. \\r\\nHolly left a binder with info that we didn\\'t immediately see.  We called (she was away for the weekend) and she responded immediately.  Very helpful. . Great place and location- highly recommend. . The beautiful suite was as advertised...clean, bright, and centrally located.  The kitchen had everything you needed to prepare meals, and the decor was modern.  Appreciate the use of environmentally friendly supplies(soap, paper towel..) and clear instructions on composting.  \\r\\n\\r\\nThe list of local restaurants, and grocers was wonderful as well.  You can walk to anything you need and the transit is a 2min walk away.  There is also a lovely play park right next to the house.  \\r\\n\\r\\nWe found some amazing restaurants close by: Chow, and Duboce Cafe (just around the corner).\\r\\n\\r\\nVery private and never felt like we were in the basement of a home.\\r\\n\\r\\nWould recommend this apartment highly.. The location was great, lovely part of the city and a great base to explore.. We were at Holly\\'s place for 10 days, and we enjoy it so much!!!\\nThe location is great, there is many shops, so you can find anything you want, the MUNI is close too, so you can easily travel around the city.\\nAbout the rental, it\\'s cosy, and fully functionnal, you can cook if you want to.\\nWe felt like San franciscan, and that was because of Holly.\\nThank you again !. Nice and clean place to stay, especially fits for families cause there\\'s a playground nearby. Also perfect for getting into city center by public transport ( muni starts only 2 minutes away by feet). Laundry use was no problem, thanks again.. The apartment is beautiful, comfortable and perfectly located. Holly was really kind and helpful. I highly recommended the place!. Great location, very accessible to public transport, coffee shops, the Mission and Castro! The apartment was very comfortable and well equipped. It was lovely having a garden courtyard and we even saw hummingbirds! However, it was difficult to reach our host to confirm arrangements and how to get in to the apartment. We didn\\'t receive a confirmation email or welcome info and compared to other Airbnb stays it was sub standard client service. It meant we were waiting on doorstep wondering if it was all going to be ok.  It was, but would have preferred not having to wonder. The apartment was under the living area of the house and with two boisterous boys we were woken up early by running and thumping above us on what seemed rice paper ceilings. Despite that we enjoyed our time in San Fransisco but would stay somewhere else next time. . We didn\\'t see Holly… nor did we talk to her on the telephone!… but the guidelines for entering the apartment were clear and easy to follow. The apartment is well equipped and quite,… except when the kids above wake up around 7:15am! We had to fight to remove a panel which kept one of the windows open at all times: we were freezing!\\r\\nBut otherwise, the place is comfortable, the shower is great and the bed, despite not so wide, is really good. . El barrio y la ubicación es inmejorable!\\r\\nHolly es una excelente anfitriona.. We stayed a week in Holly\\'s wonderful garden apartment and could not have been happier with our experience. Holly was extremely gracious and welcoming and was prompt with all communications. The apartment is spacious and sunny, with two sets of french doors opening up onto a verdant and charming back garden (with a grapefruit tree!), which we had to ourselves. The space was spotless and modern yet homey, with a very comfortable bed & bed linens, plenty of storage space for our things, and a wonderful large eat-in kitchen. The bathroom was great, with a deep bathtub and nice rain-type shower head, and the availability to do laundry was a nice bonus.  \\r\\n\\r\\nThe location of this apartment was ideal for our needs -- literally steps from Duboce Park and the MUNI N-line and only a couple of blocks from Church and Duboce, where you can take MUNI to basically anywhere in the city. We commuted to the end of downtown several mornings during rush hour within about 7 minutes.  BART stations are a few minutes away by MUNI and are easy to reach. Plus, there are a million things within an easy walk from the apartment:  restaurants & bars, coffee shops, groceries, farmer\\'s market, etc. \\r\\n\\r\\nWe can\\'t wait to stay at Holly\\'s place next time we\\'re in San Francisco!. Holly was quick to respond to our questions. There was a full kitchen which wasn\\'t clear from the photos. the neighberhood is actually the best one in the area. The appartment is very quite.  . A big thank you to Holly for having us stay in her place. The whole experience was great. Amazing location, easy to check in and out and had everything you need. Space was clean and modern. We really felt like we experienced this incredible city!. This is a great neighborhood with a park and the Muni right up the street. Very safe with many places walkable, including the panhandle leading to Golden Gate park. Lots and lots of restaurants and bars on nearby Divisidero street, but far enough away to make it very quiet. Good infoe from the hosts and I loved the keypad entry, so no worrying about misplacing the keys!. Everything was absolutely perfect! This wonderful place exceeded our already high expectations, and staying here added so much to our San Francisco experience. The neighborhood is ideal--walking distance to many great things-- and the apartment was spacious yet cozy. A beautiful garden added to the experience in such a lovely way. We hope to return soon!. Staying at Holly\\'s was great! \\nThe apartment has all amenities you might need for a comfortable stay. It\\'s located in a tranquil but yet lively neighborhood, with plenty of restaurants to check around the area.\\nHolly was very responsive and friendly. I wold definitely stay again.. My husband and I had a great stay here for three nights of work meetings + some weekend fun. Great location near Duboce Park and Muni. We walked to the Mission (25 mins to BART) and it was easy. Holly was super flexible and let me extend my trip by a day on short notice (much appreciated). I got in really late (after midnight) and check in was easy. Thank you!. This was my second time on Holly\\'s property and it was just as wonderful as the first. My favorite place to stay in San Francisco!. Holly\\'s home is a very comfortable and cozy place at Duboce Park. I had a very nice stay there with my wife and son (a toddler). The apartment was more baby-friendly than I expected and we only had to move a couple of vases and an alarm clock to a place where our son couldn\\'t reach.\\n\\nAs expected from a five-star host, everything we needed to know was spelled out in the house guide. Her recommendations on restaurants were spot on and the guide book having menus/flyers from local restaurants that deliver to home was a great help.\\n\\nThe area is very family-friendly with Duboce park being so close and yet quite interesting with  many cafes and restaurants in the vicinity. We\\'d love to stay again on future trips.. Great place in a great location.. Holly\\'s place was amazing!  Extremely quiet but also convenient and centrally located within the city. . Super clean and convenient to public transit.. Beautiful, clean, modern place with a perfect location. Short muni ride downtown or run to get to golden gate park.. Great location. Clean and comfortable with all the amenities Holly advertised. Easy predicable check in. A very charming neighborhood with easy access to the muni.. A gem of an apartment in our favorite San Francisco neighborhood close to good restaurants and the Muni.  Holly was easy to contact and quick to respond. I highly recommend her apartment.\\n. Holly\\'s place was amazing!  Being my first experience with Airbnb, I was a bit reluctant to make the reservation.  However, I would recommend this location.  The apartment was clean, easy to access, and satisfied all of our needs.  Great location!  Parking is a challenge due to construction, so I don\\'t suggest having a rental car.  The apartment was supplied with all kitchen and bathroom essentials.  Basically, the apartment is exactly as represented in her pictures.  We would definitely stay there again if we visit San Francisco.   . .. Holly\\'s place was amazing and so convenient for my medical needs at CPMC. . My parents stayed here while visiting and loved the location. It\\'s central to some of our favorite spots like Duboce Park, Birite, and Nopa. . Great spot, right next to a park, in an nice and quiet area.\\n\\nWithin walking distance to Haight and Divisedero, there is a lot to do nearby!\\n\\nHolly was a nice and accommodating host.. Holly\\'s place is very much as described and actually quite a lot more beautiful than the pictures show.  The space is very cute, clean, and open.  The backyard is beautiful and Holly had lights installed while we stayed with her!  We only wish the weather had been a bit warmer so we could enjoy spending more time out back with her new pup Tucker!  \\nLocated near public transport and a very affordable Lyft ride from most places in the city, I would love to stay at Holly\\'s again.  There was a ton of information left for us and available in the space, and Holly was so very accomodating to our early landing time and late take off.  Not having to worry about our luggage was such a relief.  She even offered to let us borrow an umbrella for the rain!\\nJust a heads up, as Holly very clearly states, they have children and they absolutely CAN be heard in the apartment below.  It didn\\'t bother us, we\\'re early risers and had work to do, but if you sleep sensitively and sleep in, maybe look for another place.  But for us, the space and location were absolutely perfect and Holly was such an amazing host.  Thanks a lot Holly!. Holly\\'s garden apartment was just perfect for our stay in San Francisco.  Located in Upper Haight or or was it Lower Duboce, maybe East Turnbuckle? ...regardless, The apartment is in a great central location for exploring the City.  There is a Whole Foods and a Safeway, not far away, staring each other down across Market, like Hatfields and McCoys. The park (Duboce) at the end of the street is lovely.  We walked all over and ventured farther on the light rail - Which is a stone\\'s throw from the apartment.  The accommodations were clean, comfortable, and well-appointed including a full kitchen. The bed was super-comfy for this cranky lower back.  There are Uber galore, typical wait times were about 10-15 min. Shout-out to an amazing tapas place we stumbled on - Aatxe on Market. \\n\\nThe apartment is in the basement of a lovely historic home, and a busy family lives upstairs. We enjoyed our stay in complete privacy, communicating through AirBnB when needed. Holly was quick to respond with any requests. Big thank you allowing us to stow our luggage after check-out! . What a beautiful garden patio. It was nice and private and a very easy ride to the office on Muni. Lots of great restaurants walking distance. Bed was comfy . Holly\\'s place was nice.\\nThe garden was cute, a little humid.\\nMy parents stayed there for 8 days and they had trouble sleeping because of the noise from the apartment above. Late night and early morning. Hope it doesn\\'t happen to others...\\n\\n. Holly\\'s apartment turned out to be perfect for anyone wanting to explore the city. The Muni is just a short walk away but if you feel like a walk, you can be at the shops  Market St in 40 minutes. The apartment is in a quiet residential area and you are surrounded by typical San Francisco architecture with plenty of restaurants and cafes less than 5 minutes walk away. The apartment has all you need and a lovely garden terrace space. Perfect.. Perfekt sted å bo i San Francisco! Kort vei til det aller mest, rent, deilig bakgård og Holly er en super vert!:-) . Great value for such a nice place. The housing is well managed, particularly the kitchen. Privacy was very respected. I like the place to store luggages. Recommended! . Clean, comfortable, and fantastic location-- near public transit to downtown and walkable to more than one lively spot. For people considering a longer stay: there is a lot of storage space. . A great apartment in excellent location. Holly was great and very accommodating. We would love to stay here again the next time we are in SF. . Holly\\'s apartment was spacious and super cute --- it was a great location for us to stay near some friends in the area. We didn\\'t get a chance to meet Holly, but we spoke with her husband, who was very nice and offered to provide recommendations for our trip. The only issue was the noise --- there is very little insulation between the apartment and Holly\\'s home upstairs, so it was quite noisy in the morning hours which kept us from sleeping in, but no noise problems at other times.. This is a very convenient place to stay for a couple, a family or a small group of 3-4 friends if easy going. The apartment was clean, extremely well equipped with basic food, coffee etc. all provided and the hosts are very arranging. The location is perfect for walking around the city. All in all a great experience, 100% recommended.. Clean, quiet, comfortable space. Close to public transportation on a dead-end street. Very nice. A little bit of noise from the upstairs, but not significant. We would definitely want to stay here again. Enjoy!. Great location and great host. . We, a family of four with two little kids, stayed seven nights at Holly\\'s place. Check-in went very smoothly, Holly helped us unload our car and gave us tips how to avoid a parking fine :-) The flat is very modern and the location is excellent, just a few minutes walk to grocery stores, the tram station, and a great playground. A big plus was that lots of toys were provided, and our kids could play ball in the garage. We would definitely go back.. 非常温馨的家，房东十分友好，小花园安静。. Great place, very well located! Well furnished and practical if need to cook something. The little garden is lovely and the area is very quiet. We enjoyed our stay. . My husband and I had a wonderful stay at Holly\\'s! The space is perfect for a couple or small family. The bed was comfortable, the space was clean, and the bathroom was modern and well stocked with amenities! The backyard is like a little oasis in the big city. Also, the proximity of Holly\\'s place to fun neighborhoods was great! We definitely would stay here again.. Une super jolie maison dans le plus beau quartier de SF. Très central et facile de se déplacer en bus. \\nMa petite famille (fille 6 ans et mon homme) et moi nous y sommes sentis hyper bien.\\nLa maison est très propre et Holly et sa famille très sympa. On s\\'y sent comme à la maison!\\nN\\'hésitez pas une seconde. Very comfortable apartment with loads of privacy   Host is exceptional. Very helpful. The bed and futon were the best. Loved her very soft linens too. We would rent again !. Holly was a terrific host - quite attentive and diligent to our requests.  Her apartment was exactly as advertised, and our stay was wonderful.  The WiFi signal was a bit finicky, but nothing worth worrying about.  Would recommend Holly as a host to anybody looking to stay in a central, safe neighborhood in San Francisco!. Very comfortable and clean. Holly was attentive and went above and beyond with recommendations and service. Enjoyed our brief stay!. The neighborhood was great. Walking distance to restaurants and trollys. Felt cozy with a dog park right next to the house. Very clean and everything we were looking for in our stay.. Ein sehr wohnliches und großzügig ausgestattetes Appartement. Verkehrstechnisch mit dem Bus super zu erreichen. Der Kontakt zu Holly war jederzeit unproblematisch und angenehm. Die Wohnung hat unseren Wohlfühlfaktor im Trubel von San Francisco maßgeblich gesteigert. Danke dafür. Wir würden jederzeit wiederkommen.. We had a fantastic stay at Holly\\'s place. The place itself was clean, spacious, and had all the amenities we needed. We didn\\'t use the kitchen but it was fully stocked with pretty much anything you would need. There was lots of natural light and the bed was comfortable. The outdoor area was also so lovely. And if you like dogs, Holly\\'s dog came down to play with us in the yard and he was so friendly! But what really makes this place worth it is the location. It\\'s unbeatable. Thanks for the lovely stay Holly!. Très bon séjour chez Holly. L\\'appartement est parfaitement situé, proche de plusieurs quartiers très vivants. Juste à côté d\\'une ligne de métro allant de l\\'océan au centre ville.\\nL\\'appartement est propre, pratique.\\nDes enfants vivant au dessus, l\\'appartement est cependant vivant le matin et le soir.. The neighborhood is lovely. It was super easy to walk to the bus or catch a Lyft. Holly\\'s airbnb is cozy, clean, charming and comfortable. The back yard view is beautiful. The shower is great.  I enjoyed using the kitchen to make breakfasts in the mornings, and sitting at the table with the pretty view.  My family and I enjoyed our stay.. The apartment was perfect. In a lovely neighborhood and close to everything. Holly was very accommodating. Perfect stay.. If you want to fell  the concept \" Being home , away of home\" stay at Holly \\'s place , really wonder full place and she Is An excelent hostess. Perfect location and wonderful apartment. Holly was easy to communicate with and made my arrival worry free. I was fortunate to be able to check in early.  Luggage storage is also provided as required if early check in is not possible.  The space is well laid out, spacious, light filled and clean. The bed is very comfortable.. 무엇보다 위치가 제일 마음에 들었습니다\\n공항과 시내를 왔다갔다 하기좋았고 늦게들어가도 밤에 무섭지 않아서 좋았습니다 마트가 가까이 있어서 너무 편리했어요! 호스트가 주변 안내책자를 잘 구비해두어서 편하게 다닐수 있었습니다\\n프라이버시를 중요하게 생각하는 사람한테는 최상의 숙소라고 생각합니다. Bra boende i trevligt bostadsområde med lokalbefolkning.. Great location, beautiful street, and very nice accommodation. We had to change our plans last minute due to the fires, and then our flight was late. Holly was very accommodating. \\n\\nThe place is fresh and clean. The bed is comfortable. Although we did not bring our kids it would have been quite easy with them here. They live upstairs, but you don\\'t hear much more than footsteps. Holly even has a binder with neighbourhood suggestions that are great. \\n\\nThere is transit nearby. We were stuck with a car because we were supposed to go to Sonoma, and parking can be tricky. There is a lot of construction around, so it is hard to find a spot. We had to drive around in circles both nights until we found something. That said, we found a spot not too far away both nights. \\n\\nI would highly recommend staying here!. Very nice, clean apartment with a relaxing yard.  Holly was very responsive and accommodating.   The location is great -- easy access to transit, local restaurants and bars and food stores. Highly recommend and would stay there again.. Great place to stay. Loved walking through the park every morning.. Holly’s apartment is just lovely! It’s located in such a pretty area with all if he gorgeous houses, walking distance from the Castro and the Painted Ladies. We used Uber to get to Union Square & Fisherman’s Wharf (about $12) and found the location a perfect base for sightseeing. The apartment itself was spotless, cosy and had everything you need for your stay. There is a little noise from the house above, as mentioned, but really nothing to disturb you. Just the sounds of a normal busy family life.  The dog is lovely too! Very friendly! Would recommend anyone to stay here.. Location was great. The entry was in host’s garage. Worth checking “things to note” section about the noise from early morning, for shallow or later sleepers.. This place was a great location. In a quieter neighborhood but central walking distance to everything. And beds and futon were both comfortable and place was clean. Great value!. What a perfect gem a very short walk to Haight! The space is incredibly well set up and comfortable. Holly was very easy to communicate with and extremely responsive.  Definitely will return!. Holly and her husband David were warm and welcoming hosts and their apartment was neat and clean, newly renovated and perfect for our needs.  It was in a lovely neighborhood with gorgeous Victorian homes all around..There was a lovely park just down the block.  Convenient to trains and busses, we had no trouble getting around.  Holly was kind enough to let me use her washer and dryer to do a load of wash.  We could occasionally hear the pitter patter of little feet as their adorable 6 and 8 year olds played with Tucker, the dog.  It was never a problem for us at all.  The space was comfortable with a full kitchen which we used to make oatmeal for breakfast and to reheat some food for dinner.  The cabinets were well stocked with everything we could want, and then some.  All in all we spent a great four days in San Francisco at Holly\\'s place and highly recommend this listing for anyone looking for a clean, comfortable convenient place to stay in San Francisco!  Thank you Holly and David for a great stay!. Great space! Felt cozy and safe, and Holly was a great host. I couldn\\'t have asked for anything better with the place. The neighborhood is great, too. Highly recommend getting a burger at Black Sands, just a couple blocks away - or take a little walk to the painted ladies and get great views of the city, only a few minutes walk as well. \\n\\nDefinitely would stay again, next time I visit SF!. Holly has an amazing place. Quiet street next to a great park and close to shops and transit. Cute neighborhood too. She\\'s also very responsive to messages. Great host!. Holly\\'s home is really beautiful.  Other reviewers stated the photos of the space do not do it justice and I have to agree.  Very comfortable and clean apartment with all the amenities one could ask for.  There are plenty of great restaurants around and it was a beautiful neighborhood.  Be sure to read the \"Other things to note\" section as you will be able to hear the family upstairs.  We are early risers and could hear them in the morning, but not much during the rest of the day.  I was able to meet Holly and her husband and they were both very nice.  Overall, a wonderful stay in a great location. 5 Stars.. El apartamento esta exactamente en las condiciones que se describen y cumple a la perfección con todo lo que necesitamos. Sin embargo la característica mas sobresaliente es su ubicación en una calle totalmente tranquila, a menos de 40 metros del parque Duboce y a escasos 5 minutos andando de Castro, con toda su vida nocturna y restaurantes y a donde se llega caminando por calles bonitas y seguras. Como anfitriona Holly es atenta, ofrece ayuda en todo y responde a todas las peticiones de informacion con prontitud.. Perfect location and a lovely home! Holly and her husband were very kind and accommodating and the place was perfect- great location, clean, had everything you would need. I’ll be back!. Holly was fantastic! Amazing location! Holly reponded immediately to my questions and was extremely hospitable!. Awesome place. Great host. Excellent location. Super clean and well stocked with amenities. You won’t need to use the back yard because Duboce Park is a stones throw away. Highly recommend.. Todo perfecto, la casa es hermosa. \\nLa ubicación es genial, parques, restaurants, bares, etc. \\nAdemás de algunos extras para el desayuno en la misma casa. \\nHolly hizo una carpeta con recomendaciones del barrio, y en general de SF. \\nSuper util, ademas de libros específicos que podes encontrar sobre que visitar en SF. \\nEl wifi es super rapido. Holly responde los mensajes a la brevedad.  \\nUna hermosa experiencia. \\n100% recomendable a toda la comunidad. \\nMuchas gracias Holly y familia.. Great location with public transport and a park right outside, excellent for 3 people. A perfect spot for a mid-to-long break. Near several good cafes, a dog park with happy animals to watch while you lounge in the sun. Walking distance from Haight-Ashbury and Golden Gate Park, but secluded enough to be quiet. The flat had everything we needed, and Holly responded swiftly to all messages. Strongly recommend.. We had a fantastic stay with Holly, her place is clean, spacious, quiet, great value and in a really lovely neighbourhood, especially for families. I would definitely stay again!. Great Air BnB in a handy position in v nice suburb with public transport and supermarket minutes away. Large space with garden access. One of the best Air BnB\\'s we have stayed in. Holly kindly allowed us a late check-out as there were no guests checking in that day - much appreciated. Recommended.. Great place to stay and explore San Francisco. Good location, friendly owners offering clean and spacious accommodation.  Couldn’t have asked for more.. Holly\\'s place was great. Clean, sunny and well organized, with everything we needed for our stay including a full kitchen. Very child friendly and hospitable. The location is perfect for public transportation and for walking around. Couldn\\'t ask for anything more.. 私達は日本人です。\\n親子3人で宿泊しました。幼い息子のために公園で遊ぶための道具を貸してくれました。ホストの子供たちとも遊びました。\\n\\n私達は長く宿泊したので、洗濯機と乾燥機を借りました。快く貸してくれました。\\n\\nビジネス街、観光地まで30~50分で行ける立地で駅やバス停に大変近いです。ウーバー を使わず、旅を完結しました。\\nありがとうございます。. Holly’s place is incredibly clean, cute, modern, and very conveniently located. Holly was a terrifically responsive and communicative host. I would 100% stay here again! . We had a very comfortable and enjoyable stay in Holly’s house. The location was perfect, situated on a quiet road near a park but also easily accessible to the tram and local shops and restaurants. \\nThe place was well equipped and the perfect size for our family. Holly went out of her way to give us advice and also provided toys for our kids. \\nI would highly recommend this place, just a shame our visit was so short. . This Airbnb is located in a nice and safe residential area (Duboce Park).  It’s right next to Duboce Park and the Muni is close by. Also, some  cute cafes and  coffee shops are within walking distance.. Top quality property. One of the best I’ve stayed in. Highly recommend.. This was a very pleasant, and very clean place, with excellent access to public transportation and near a sweet little park.  \\n\\nIt is also easily walkable to Civic Center, including the opera house, as well as Union Square, museums and many other interesting sites. \\n\\nHolly, the host, was very responsive, friendly and helpful.. This is lovely private space that you can find in SF DT. Great environment and quiet neighborhood!  . We had a pleasant stay at Holly’s place. The family lives upstairs and they are friendly and hospitable. The place is accurately described; we have all the amenities we needed, including clean pots and utensils and kitchen towels. We made breakfast in the morning before venturing out and about. The location is great especially for families, as it’s right next to Duboce park and got lots of local cafes and eateries nearby. My son enjoys the park and the cafe food a lot. Ubering to most attractions is cheap and relatively quick.. Great location for family, playground a few steps away, as is public transport. Lovely neighbourhood with lovely restaurants recommended by Holly. We preferred our stay in this area than when we stayed downtown.. Perfect location, beautiful home, we loved every minute of our stay.. Had an amazing stay at Holly’s place! Perfect in every way.. Brilliant location for a visit to SF. Living in the Lower Haight neighbourhood we really felt like we got to know the city a little.\\nHolly was always responsive if we needed anything and was able to facilitate a late check out for us.\\nBest air bnb ever!. Holly\\'s place is clean, bright, and comfortable, and you couldn\\'t ask for a better location in SF! On a quiet dead-end street leading directly to Duboce Park and the N Muni train, we felt very much at home and had easy access to whatever we wanted in the city. It was also fun saying hi to Tucker the dog each morning when he was in the backyard. Thanks Holly for making our stay in SF so special!. Very nice appartment with many convenience (tea, coffee, lot of food items and others). Very good location, 2 minutes next to the Muni.  A central location to visit SF and safe neighbourhood. Very nice hosts and friendly dog Tucker.. Holly’s place was great - cozy and nice inside. The neighborhood is lovely, right next to a park. I would definitely stay here again!. Holly and David are lovely guests. Their appartment is charming, fully equipped and ideally situated at walking distance from various attracting neighboroods and at 3 metro stations from Powell-Market.\\nHolly and David have always been helpful when necessary.'"
      ]
     },
     "execution_count": 364,
     "metadata": {},
     "output_type": "execute_result"
    }
   ],
   "source": [
    "# Prepare the data\n",
    "reviews_one_listing2 = '. '.join(reviews_one_listing)\n",
    "print(len(reviews_one_listing2))\n",
    "reviews_one_listing2"
   ]
  },
  {
   "cell_type": "code",
   "execution_count": 367,
   "metadata": {
    "ExecuteTime": {
     "end_time": "2018-09-07T23:29:39.379515Z",
     "start_time": "2018-09-07T23:29:39.372242Z"
    },
    "hidden": true
   },
   "outputs": [],
   "source": [
    "def review_summarizer(text, num_sentences=3):\n",
    "    parser = PlaintextParser(text, Tokenizer('english'))\n",
    "    \n",
    "    Summarizer_LexRank = LexRankSummarizer()\n",
    "    summary_LexRank = Summarizer_LexRank(parser.document, num_sentences) \n",
    "    print(\"LexRank Summarizer\")\n",
    "    for sentence in summary_LexRank:\n",
    "        print(sentence)\n",
    "    print()\n",
    "    \n",
    "    Summarizer_Lsa = LsaSummarizer()\n",
    "    summary_LSA = Summarizer_Lsa(parser.document, num_sentences)\n",
    "    print(\"LSA Summarizer\")\n",
    "    for sentence in summary_LSA:\n",
    "        print(sentence)\n",
    "    print()\n",
    "    \n",
    "    Summarizer_Luhn = LuhnSummarizer()\n",
    "    summary_Luhn = Summarizer_Luhn(parser.document, num_sentences)\n",
    "    print(\"Luhn Summarizer\")\n",
    "    for sentence in summary_Luhn:\n",
    "        print(sentence)\n",
    "    print()\n",
    "    \n",
    "    Summarizer_TextRank = TextRankSummarizer()\n",
    "    summary_TextRank = Summarizer_TextRank(parser.document, num_sentences)\n",
    "    print(\"Text Rank Summarizer\")\n",
    "    for sentence in summary_TextRank:\n",
    "        print(sentence)\n",
    "    print()\n",
    "    \n",
    "    return Summarizer_LexRank, summary_LexRank, Summarizer_Lsa, summary_LSA, \\\n",
    "            Summarizer_Luhn, summary_Luhn, Summarizer_TextRank, summary_TextRank"
   ]
  },
  {
   "cell_type": "code",
   "execution_count": 368,
   "metadata": {
    "ExecuteTime": {
     "end_time": "2018-09-07T23:30:03.600708Z",
     "start_time": "2018-09-07T23:29:41.777199Z"
    },
    "hidden": true
   },
   "outputs": [
    {
     "name": "stdout",
     "output_type": "stream",
     "text": [
      "LexRank Summarizer\n",
      "Holly's apartment was a great stay!\n",
      "The location was great, lovely part of the city and a great base to explore.. We were at Holly's place for 10 days, and we enjoy it so much!!!\n",
      "\n",
      "LSA Summarizer\n",
      "Located near public transport and a very affordable Lyft ride from most places in the city, I would love to stay at Holly's again.\n",
      "The bed is very comfortable.. 무엇보다 위치가 제일 마음에 들었습니다 공항과 시내를 왔다갔다 하기좋았고 늦게들어가도 밤에 무섭지 않아서 좋았습니다 마트가 가까이 있어서 너무 편리했어요!\n",
      "\n",
      "Luhn Summarizer\n",
      "We would happily stay there again and would highly recommend the place to others.. Una parte muy importante de cada viaje es el lugar donde uno se hospedará durante la estadía en el extranjero, con toda seguridad puedo decir que el apartamento de Holly Coleman nos brindó una excelente experiencia, ya que la localización de éste es ideal para alguien que desea conocer San Francisco con calma y teniendo los barrios más interesantes en una distancia muy corta.\n",
      "Una parte muy importante de cada viaje es el lugar donde uno se hospedará durante la estadía en el extranjero, con toda seguridad puedo decir que el apartamento de Holly Coleman nos brindó una excelente experiencia, ya que la localización de éste es ideal para alguien que desea conocer San Francisco con calma y teniendo los barrios más interesantes en una distancia muy corta.\n",
      "\n",
      "Text Rank Summarizer\n",
      "The apartment was a charming layout with a full view and access to the home's garden The location is perfect for full engagement with the city; close to mass transit with walking proximity to the Haight, the Mission, the Castro and Golden Gate Park.\n",
      "Not only is the space perfectly equipped with everything you need for even a longer stay, it is also extremely conveniently located for families - very central with excellent connection to local transportation, close to a playground (for the little one) and a basketball court (where I've been battling every day with the older one - and at some times with the locals), and very quiet due to the cul-de-sac.\n",
      "\n"
     ]
    }
   ],
   "source": [
    "LexRank, sum_LexRank, Lsa, sum_LSA, Luhn, sum_Luhn, TextRank, sum_TextRank = \\\n",
    "review_summarizer(reviews_one_listing2, num_sentences=2)"
   ]
  },
  {
   "cell_type": "code",
   "execution_count": null,
   "metadata": {
    "hidden": true
   },
   "outputs": [],
   "source": []
  },
  {
   "cell_type": "code",
   "execution_count": null,
   "metadata": {
    "hidden": true
   },
   "outputs": [],
   "source": []
  },
  {
   "cell_type": "code",
   "execution_count": null,
   "metadata": {
    "hidden": true
   },
   "outputs": [],
   "source": []
  },
  {
   "cell_type": "markdown",
   "metadata": {
    "heading_collapsed": true
   },
   "source": [
    "# Unused code"
   ]
  },
  {
   "cell_type": "code",
   "execution_count": 249,
   "metadata": {
    "ExecuteTime": {
     "end_time": "2018-09-06T08:06:42.291681Z",
     "start_time": "2018-09-06T05:29:23.026701Z"
    },
    "hidden": true
   },
   "outputs": [
    {
     "name": "stdout",
     "output_type": "stream",
     "text": [
      "(278884, 6)\n"
     ]
    },
    {
     "data": {
      "text/plain": [
       "array([0.00238384, 0.01954079, 0.95447327, 0.00238372, 0.01883486,\n",
       "       0.00238352])"
      ]
     },
     "execution_count": 249,
     "metadata": {},
     "output_type": "execute_result"
    }
   ],
   "source": [
    "# LDA\n",
    "from sklearn.decomposition import LatentDirichletAllocation\n",
    "n_comp = 6\n",
    "lda = LatentDirichletAllocation(n_components=n_comp, max_iter=5, learning_method='online', \\\n",
    "                                learning_offset=50., random_state=0).fit_transform(cv)\n",
    "print(lda.shape)\n",
    "lda[0]"
   ]
  },
  {
   "cell_type": "code",
   "execution_count": null,
   "metadata": {
    "hidden": true
   },
   "outputs": [],
   "source": []
  },
  {
   "cell_type": "code",
   "execution_count": null,
   "metadata": {
    "hidden": true
   },
   "outputs": [],
   "source": []
  },
  {
   "cell_type": "code",
   "execution_count": null,
   "metadata": {
    "hidden": true
   },
   "outputs": [],
   "source": []
  },
  {
   "cell_type": "code",
   "execution_count": null,
   "metadata": {
    "hidden": true
   },
   "outputs": [],
   "source": []
  },
  {
   "cell_type": "code",
   "execution_count": null,
   "metadata": {
    "hidden": true
   },
   "outputs": [],
   "source": []
  },
  {
   "cell_type": "code",
   "execution_count": null,
   "metadata": {
    "hidden": true
   },
   "outputs": [],
   "source": []
  }
 ],
 "metadata": {
  "kernelspec": {
   "display_name": "Python (anacoda)",
   "language": "python",
   "name": "other-env"
  },
  "language_info": {
   "codemirror_mode": {
    "name": "ipython",
    "version": 3
   },
   "file_extension": ".py",
   "mimetype": "text/x-python",
   "name": "python",
   "nbconvert_exporter": "python",
   "pygments_lexer": "ipython3",
   "version": "3.6.5"
  },
  "varInspector": {
   "cols": {
    "lenName": 16,
    "lenType": 16,
    "lenVar": 40
   },
   "kernels_config": {
    "python": {
     "delete_cmd_postfix": "",
     "delete_cmd_prefix": "del ",
     "library": "var_list.py",
     "varRefreshCmd": "print(var_dic_list())"
    },
    "r": {
     "delete_cmd_postfix": ") ",
     "delete_cmd_prefix": "rm(",
     "library": "var_list.r",
     "varRefreshCmd": "cat(var_dic_list()) "
    }
   },
   "types_to_exclude": [
    "module",
    "function",
    "builtin_function_or_method",
    "instance",
    "_Feature"
   ],
   "window_display": false
  }
 },
 "nbformat": 4,
 "nbformat_minor": 2
}
