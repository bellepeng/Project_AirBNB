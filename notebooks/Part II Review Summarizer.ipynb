{
 "cells": [
  {
   "cell_type": "markdown",
   "metadata": {},
   "source": [
    "# Review Summarizer\n",
    "SUMY:  Lex Rank (google), Luhn (wasn't very good), LSA (PCA), Text Rank (google)"
   ]
  },
  {
   "cell_type": "markdown",
   "metadata": {},
   "source": [
    "## Import"
   ]
  },
  {
   "cell_type": "code",
   "execution_count": 1,
   "metadata": {
    "ExecuteTime": {
     "end_time": "2018-09-08T22:07:42.204661Z",
     "start_time": "2018-09-08T22:07:39.194435Z"
    }
   },
   "outputs": [
    {
     "data": {
      "text/html": [
       "<style>.container { width:95% !important; }</style>"
      ],
      "text/plain": [
       "<IPython.core.display.HTML object>"
      ]
     },
     "metadata": {},
     "output_type": "display_data"
    }
   ],
   "source": [
    "from IPython.core.display import display, HTML\n",
    "display(HTML(\"<style>.container { width:95% !important; }</style>\"))\n",
    "import warnings\n",
    "warnings.filterwarnings(\"ignore\", category=DeprecationWarning)\n",
    "import dask.dataframe as dd\n",
    "import pandas as pd\n",
    "import numpy as np\n",
    "import math\n",
    "import os\n",
    "import pickle\n",
    "import timeit\n",
    "from collections import Counter\n",
    "\n",
    "# Graphics\n",
    "import matplotlib.pyplot as plt\n",
    "%matplotlib inline\n",
    "%config InlineBackend.figure_format='svg'\n",
    "import seaborn as sns\n",
    "sns.set(font_scale=1.2)\n",
    "plt.style.use('seaborn')"
   ]
  },
  {
   "cell_type": "code",
   "execution_count": 2,
   "metadata": {
    "ExecuteTime": {
     "end_time": "2018-09-08T22:07:45.579811Z",
     "start_time": "2018-09-08T22:07:44.391154Z"
    }
   },
   "outputs": [],
   "source": [
    "from __future__ import print_function\n",
    "import nltk\n",
    "from nltk.util import ngrams\n",
    "from nltk.corpus import stopwords\n",
    "from nltk.tokenize import word_tokenize\n",
    "from nltk import WordNetLemmatizer\n",
    "from operator import itemgetter\n",
    "import contractions\n",
    "from langdetect import detect\n",
    "\n",
    "from sklearn.feature_extraction.text import TfidfVectorizer \n",
    "from sklearn.naive_bayes import MultinomialNB\n",
    "from sklearn.metrics.pairwise import cosine_similarity"
   ]
  },
  {
   "cell_type": "code",
   "execution_count": 3,
   "metadata": {
    "ExecuteTime": {
     "end_time": "2018-09-08T22:07:45.865829Z",
     "start_time": "2018-09-08T22:07:45.606875Z"
    }
   },
   "outputs": [],
   "source": [
    "#Plain text parsers since we are parsing through text\n",
    "from sumy.nlp.tokenizers import Tokenizer\n",
    "from sumy.parsers.plaintext import PlaintextParser\n",
    "from sumy.summarizers.lex_rank import LexRankSummarizer \n",
    "from sumy.summarizers.luhn import LuhnSummarizer\n",
    "from sumy.summarizers.lsa import LsaSummarizer\n",
    "from sumy.summarizers.text_rank import TextRankSummarizer"
   ]
  },
  {
   "cell_type": "code",
   "execution_count": 4,
   "metadata": {
    "ExecuteTime": {
     "end_time": "2018-09-08T22:07:46.426224Z",
     "start_time": "2018-09-08T22:07:46.418639Z"
    }
   },
   "outputs": [],
   "source": [
    "os.chdir('/Users/bellepeng/Desktop/Metis/Projects/Project_AirBNB/notebooks')\n",
    "import helper_functions\n",
    "from helper_functions import display_topics"
   ]
  },
  {
   "cell_type": "code",
   "execution_count": 54,
   "metadata": {
    "ExecuteTime": {
     "end_time": "2018-09-08T22:44:57.615521Z",
     "start_time": "2018-09-08T22:44:56.129203Z"
    }
   },
   "outputs": [
    {
     "name": "stdout",
     "output_type": "stream",
     "text": [
      "(278884, 6)\n"
     ]
    },
    {
     "data": {
      "text/html": [
       "<div>\n",
       "<style scoped>\n",
       "    .dataframe tbody tr th:only-of-type {\n",
       "        vertical-align: middle;\n",
       "    }\n",
       "\n",
       "    .dataframe tbody tr th {\n",
       "        vertical-align: top;\n",
       "    }\n",
       "\n",
       "    .dataframe thead th {\n",
       "        text-align: right;\n",
       "    }\n",
       "</style>\n",
       "<table border=\"1\" class=\"dataframe\">\n",
       "  <thead>\n",
       "    <tr style=\"text-align: right;\">\n",
       "      <th></th>\n",
       "      <th>listing_id</th>\n",
       "      <th>id</th>\n",
       "      <th>date</th>\n",
       "      <th>comments</th>\n",
       "    </tr>\n",
       "  </thead>\n",
       "  <tbody>\n",
       "    <tr>\n",
       "      <th>0</th>\n",
       "      <td>958</td>\n",
       "      <td>5977</td>\n",
       "      <td>2009-07-23</td>\n",
       "      <td>Our experience was, without a doubt, a five st...</td>\n",
       "    </tr>\n",
       "    <tr>\n",
       "      <th>1</th>\n",
       "      <td>958</td>\n",
       "      <td>6660</td>\n",
       "      <td>2009-08-03</td>\n",
       "      <td>Returning to San Francisco is a rejuvenating t...</td>\n",
       "    </tr>\n",
       "  </tbody>\n",
       "</table>\n",
       "</div>"
      ],
      "text/plain": [
       "   listing_id    id        date  \\\n",
       "0         958  5977  2009-07-23   \n",
       "1         958  6660  2009-08-03   \n",
       "\n",
       "                                            comments  \n",
       "0  Our experience was, without a doubt, a five st...  \n",
       "1  Returning to San Francisco is a rejuvenating t...  "
      ]
     },
     "execution_count": 54,
     "metadata": {},
     "output_type": "execute_result"
    }
   ],
   "source": [
    "# with open('/Users/bellepeng/Desktop/Metis/Projects/Project_AirBNB/data/reviews_cleaned3.pkl', 'rb') as file:\n",
    "#     reviews = pickle.load(file)\n",
    "reviews=pd.read_csv('/Users/bellepeng/Desktop/Metis/Projects/Project_AirBNB/data/SF/201808/reviews_201808.csv')\n",
    "reviews.columns\n",
    "drop_list = ['reviewer_id', 'reviewer_name']\n",
    "print(reviews.shape)\n",
    "[reviews.drop(x, inplace=True, axis=1) for x in drop_list]\n",
    "reviews.head(2)"
   ]
  },
  {
   "cell_type": "code",
   "execution_count": null,
   "metadata": {},
   "outputs": [],
   "source": []
  },
  {
   "cell_type": "markdown",
   "metadata": {},
   "source": [
    "## Pre-process\n",
    "1. Remove foreign languages, but keep listing_ID and everything else.  \n",
    "2. Get all the unique IDs of the listings.\n",
    "3. For each listing:\n",
    "    - Get the reviews of that one listing\n",
    "    - Append all the reviews together\n",
    "    - Break the reviews into sentences  \n",
    "    - Run the summarizer\n",
    "    - Save the summary as one row, 3 variables"
   ]
  },
  {
   "cell_type": "code",
   "execution_count": 50,
   "metadata": {
    "ExecuteTime": {
     "end_time": "2018-09-08T22:00:36.006752Z",
     "start_time": "2018-09-08T22:00:35.938730Z"
    }
   },
   "outputs": [
    {
     "name": "stdout",
     "output_type": "stream",
     "text": [
      "8\n",
      "95                       Great location and great host. \n",
      "96     We, a family of four with two little kids, sta...\n",
      "97                                  非常温馨的家，房东十分友好，小花园安静。\n",
      "98     Great place, very well located! Well furnished...\n",
      "99     My husband and I had a wonderful stay at Holly...\n",
      "100    Une super jolie maison dans le plus beau quart...\n",
      "101    Very comfortable apartment with loads of priva...\n",
      "102    Holly was a terrific host - quite attentive an...\n",
      "Name: comments, dtype: object\n",
      "['Great location and great host. ', \"We, a family of four with two little kids, stayed seven nights at Holly's place. Check-in went very smoothly, Holly helped us unload our car and gave us tips how to avoid a parking fine :-) The flat is very modern and the location is excellent, just a few minutes walk to grocery stores, the tram station, and a great playground. A big plus was that lots of toys were provided, and our kids could play ball in the garage. We would definitely go back.\", ' ', 'Great place, very well located! Well furnished and practical if need to cook something. The little garden is lovely and the area is very quiet. We enjoyed our stay. ', \"My husband and I had a wonderful stay at Holly's! The space is perfect for a couple or small family. The bed was comfortable, the space was clean, and the bathroom was modern and well stocked with amenities! The backyard is like a little oasis in the big city. Also, the proximity of Holly's place to fun neighborhoods was great! We definitely would stay here again.\", ' ', 'Very comfortable apartment with loads of privacy   Host is exceptional. Very helpful. The bed and futon were the best. Loved her very soft linens too. We would rent again !', 'Holly was a terrific host - quite attentive and diligent to our requests.  Her apartment was exactly as advertised, and our stay was wonderful.  The WiFi signal was a bit finicky, but nothing worth worrying about.  Would recommend Holly as a host to anybody looking to stay in a central, safe neighborhood in San Francisco!']\n"
     ]
    }
   ],
   "source": [
    "# running on AWS\n",
    "reviews_noForeignLang=[]\n",
    "for comment in reviews_orig['comments']: \n",
    "    if not comment:\n",
    "        reviews_noForeignLang.append(\" \")\n",
    "    try: \n",
    "        if detect(comment) == 'en':\n",
    "            reviews_noForeignLang.append(comment)\n",
    "        else:\n",
    "            reviews_noForeignLang.append(\" \")\n",
    "    except:\n",
    "        reviews_noForeignLang.append(\" \")\n",
    "\n",
    "print(len(reviews_noForeignLang))\n",
    "print(reviews_orig['comments'][95:103])\n",
    "print(reviews_noForeignLang[95:103])"
   ]
  },
  {
   "cell_type": "code",
   "execution_count": 46,
   "metadata": {
    "ExecuteTime": {
     "end_time": "2018-09-08T21:55:16.289759Z",
     "start_time": "2018-09-08T21:55:16.267482Z"
    }
   },
   "outputs": [
    {
     "name": "stdout",
     "output_type": "stream",
     "text": [
      "(10, 4)\n",
      "   listing_id    id        date  \\\n",
      "0         958  5977  2009-07-23   \n",
      "1         958  6660  2009-08-03   \n",
      "\n",
      "                                            comments  \n",
      "0  Our experience was, without a doubt, a five st...  \n",
      "1  Returning to San Francisco is a rejuvenating t...  \n",
      "<class 'pandas.core.frame.DataFrame'> <class 'list'>\n"
     ]
    },
    {
     "data": {
      "text/html": [
       "<div>\n",
       "<style scoped>\n",
       "    .dataframe tbody tr th:only-of-type {\n",
       "        vertical-align: middle;\n",
       "    }\n",
       "\n",
       "    .dataframe tbody tr th {\n",
       "        vertical-align: top;\n",
       "    }\n",
       "\n",
       "    .dataframe thead th {\n",
       "        text-align: right;\n",
       "    }\n",
       "</style>\n",
       "<table border=\"1\" class=\"dataframe\">\n",
       "  <thead>\n",
       "    <tr style=\"text-align: right;\">\n",
       "      <th></th>\n",
       "      <th>listing_id</th>\n",
       "      <th>date</th>\n",
       "      <th>comments</th>\n",
       "    </tr>\n",
       "  </thead>\n",
       "  <tbody>\n",
       "    <tr>\n",
       "      <th>0</th>\n",
       "      <td>958</td>\n",
       "      <td>2009-07-23</td>\n",
       "      <td>Our experience was, without a doubt, a five st...</td>\n",
       "    </tr>\n",
       "    <tr>\n",
       "      <th>1</th>\n",
       "      <td>958</td>\n",
       "      <td>2009-08-03</td>\n",
       "      <td>Returning to San Francisco is a rejuvenating t...</td>\n",
       "    </tr>\n",
       "    <tr>\n",
       "      <th>2</th>\n",
       "      <td>958</td>\n",
       "      <td>2009-09-27</td>\n",
       "      <td>We were very pleased with the accommodations a...</td>\n",
       "    </tr>\n",
       "    <tr>\n",
       "      <th>3</th>\n",
       "      <td>958</td>\n",
       "      <td>2009-11-05</td>\n",
       "      <td>We highly recommend this accomodation and agre...</td>\n",
       "    </tr>\n",
       "    <tr>\n",
       "      <th>4</th>\n",
       "      <td>958</td>\n",
       "      <td>2010-02-13</td>\n",
       "      <td>Holly's place was great. It was exactly what I...</td>\n",
       "    </tr>\n",
       "    <tr>\n",
       "      <th>5</th>\n",
       "      <td>958</td>\n",
       "      <td>2010-03-13</td>\n",
       "      <td>On top of all that has been said previously, I...</td>\n",
       "    </tr>\n",
       "    <tr>\n",
       "      <th>6</th>\n",
       "      <td>958</td>\n",
       "      <td>2010-04-03</td>\n",
       "      <td>This apartment was everything I could have hop...</td>\n",
       "    </tr>\n",
       "    <tr>\n",
       "      <th>7</th>\n",
       "      <td>958</td>\n",
       "      <td>2011-04-08</td>\n",
       "      <td>Great place to stay.  I would highly recommend...</td>\n",
       "    </tr>\n",
       "    <tr>\n",
       "      <th>8</th>\n",
       "      <td>958</td>\n",
       "      <td>2011-09-26</td>\n",
       "      <td>Great location in San Francisco, really felt l...</td>\n",
       "    </tr>\n",
       "    <tr>\n",
       "      <th>9</th>\n",
       "      <td>958</td>\n",
       "      <td>2012-07-24</td>\n",
       "      <td>We had a wonderful time at Holly &amp; Davids plac...</td>\n",
       "    </tr>\n",
       "  </tbody>\n",
       "</table>\n",
       "</div>"
      ],
      "text/plain": [
       "   listing_id        date                                           comments\n",
       "0         958  2009-07-23  Our experience was, without a doubt, a five st...\n",
       "1         958  2009-08-03  Returning to San Francisco is a rejuvenating t...\n",
       "2         958  2009-09-27  We were very pleased with the accommodations a...\n",
       "3         958  2009-11-05  We highly recommend this accomodation and agre...\n",
       "4         958  2010-02-13  Holly's place was great. It was exactly what I...\n",
       "5         958  2010-03-13  On top of all that has been said previously, I...\n",
       "6         958  2010-04-03  This apartment was everything I could have hop...\n",
       "7         958  2011-04-08  Great place to stay.  I would highly recommend...\n",
       "8         958  2011-09-26  Great location in San Francisco, really felt l...\n",
       "9         958  2012-07-24  We had a wonderful time at Holly & Davids plac..."
      ]
     },
     "execution_count": 46,
     "metadata": {},
     "output_type": "execute_result"
    }
   ],
   "source": [
    "test = reviews_orig.iloc[:10]\n",
    "print(test.shape)\n",
    "print(test[:2])\n",
    "test_id = test[['listing_id', 'date']]\n",
    "test_comments = list(test['comments'])\n",
    "print(type(test_id), type(test_comments))\n",
    "# test_combined = pd.DataFrame(np.column_stack([test_id, test_comments]), columns=['id', 'comments'])\n",
    "test_combined = pd.merge(test_id,pd.DataFrame(test_comments, columns=['comments']),left_index=True, right_index=True)\n",
    "test_combined"
   ]
  },
  {
   "cell_type": "markdown",
   "metadata": {},
   "source": [
    "Assuming all the comments came back with listing ID and date:  \n",
    "1. Get all the unique IDs of the listings.\n",
    "2. For each listing:\n",
    "    - Get the reviews of that one listing\n",
    "    - Append all the reviews together\n",
    "    - Break the reviews into sentences\n",
    "    - Run the summarizer\n",
    "    - Save the summary as one row, 3 variables"
   ]
  },
  {
   "cell_type": "code",
   "execution_count": 12,
   "metadata": {
    "ExecuteTime": {
     "end_time": "2018-09-08T22:18:03.882802Z",
     "start_time": "2018-09-08T22:18:03.817755Z"
    }
   },
   "outputs": [
    {
     "name": "stdout",
     "output_type": "stream",
     "text": [
      "5491\n"
     ]
    },
    {
     "data": {
      "text/plain": [
       "array([ 958, 5858, 7918, 8142, 8339])"
      ]
     },
     "execution_count": 12,
     "metadata": {},
     "output_type": "execute_result"
    }
   ],
   "source": [
    "# Get all the IDs of the listings\n",
    "listing_ids=reviews['listing_id'].unique()\n",
    "print(len(listing_ids))\n",
    "listing_ids[:5]"
   ]
  },
  {
   "cell_type": "markdown",
   "metadata": {},
   "source": [
    "## Model"
   ]
  },
  {
   "cell_type": "code",
   "execution_count": 141,
   "metadata": {
    "ExecuteTime": {
     "end_time": "2018-09-09T00:15:38.484502Z",
     "start_time": "2018-09-09T00:15:38.477482Z"
    }
   },
   "outputs": [],
   "source": [
    "def review_summarizer(text, num_sentences=3, printToScreen=False):\n",
    "    parser = PlaintextParser(text, Tokenizer('english'))\n",
    "    \n",
    "    Summarizer_LexRank = LexRankSummarizer()\n",
    "    summary_LexRank = Summarizer_LexRank(parser.document, num_sentences) \n",
    "    if printToScreen==True:\n",
    "        print(\"LexRank Summarizer:\")\n",
    "        for sentence in summary_LexRank:\n",
    "            print(sentence)\n",
    "        print()\n",
    "    \n",
    "    Summarizer_Lsa = LsaSummarizer()\n",
    "    summary_LSA = Summarizer_Lsa(parser.document, num_sentences)\n",
    "    if printToScreen==True:\n",
    "        print(\"LSA Summarizer:\")\n",
    "        for sentence in summary_LSA:\n",
    "            print(sentence)\n",
    "        print()\n",
    "    \n",
    "    Summarizer_Luhn = LuhnSummarizer()\n",
    "    summary_Luhn = Summarizer_Luhn(parser.document, num_sentences)\n",
    "    if printToScreen==True:\n",
    "        print(\"Luhn Summarizer:\")\n",
    "        for sentence in summary_Luhn:\n",
    "            print(sentence)\n",
    "        print()\n",
    "    \n",
    "    Summarizer_TextRank = TextRankSummarizer()\n",
    "    summary_TextRank = Summarizer_TextRank(parser.document, num_sentences)\n",
    "    if printToScreen==True:\n",
    "        print(\"Text Rank Summarizer:\")\n",
    "        for sentence in summary_TextRank:\n",
    "            print(sentence)\n",
    "        print()\n",
    "    \n",
    "    return  summary_LexRank, summary_LSA, summary_Luhn, summary_TextRank\n",
    "    #Summarizer_LexRank, Summarizer_Lsa, Summarizer_Luhn, Summarizer_TextRank, \\"
   ]
  },
  {
   "cell_type": "code",
   "execution_count": 28,
   "metadata": {
    "ExecuteTime": {
     "end_time": "2018-09-08T22:24:08.003113Z",
     "start_time": "2018-09-08T22:23:48.387966Z"
    }
   },
   "outputs": [
    {
     "name": "stdout",
     "output_type": "stream",
     "text": [
      "LexRank Summarizer:\n",
      "Holly's apartment was a great stay!\n",
      "The location was great, lovely part of the city and a great base to explore.. We were at Holly's place for 10 days, and we enjoy it so much!!!\n",
      "\n",
      "LSA Summarizer:\n",
      "Located near public transport and a very affordable Lyft ride from most places in the city, I would love to stay at Holly's again.\n",
      "The bed is very comfortable.. 무엇보다 위치가 제일 마음에 들었습니다 공항과 시내를 왔다갔다 하기좋았고 늦게들어가도 밤에 무섭지 않아서 좋았습니다 마트가 가까이 있어서 너무 편리했어요!\n",
      "\n",
      "Luhn Summarizer:\n",
      "We would happily stay there again and would highly recommend the place to others.. Una parte muy importante de cada viaje es el lugar donde uno se hospedará durante la estadía en el extranjero, con toda seguridad puedo decir que el apartamento de Holly Coleman nos brindó una excelente experiencia, ya que la localización de éste es ideal para alguien que desea conocer San Francisco con calma y teniendo los barrios más interesantes en una distancia muy corta.\n",
      "Una parte muy importante de cada viaje es el lugar donde uno se hospedará durante la estadía en el extranjero, con toda seguridad puedo decir que el apartamento de Holly Coleman nos brindó una excelente experiencia, ya que la localización de éste es ideal para alguien que desea conocer San Francisco con calma y teniendo los barrios más interesantes en una distancia muy corta.\n",
      "\n",
      "Text Rank Summarizer:\n",
      "The apartment was a charming layout with a full view and access to the home's garden The location is perfect for full engagement with the city; close to mass transit with walking proximity to the Haight, the Mission, the Castro and Golden Gate Park.\n",
      "Not only is the space perfectly equipped with everything you need for even a longer stay, it is also extremely conveniently located for families - very central with excellent connection to local transportation, close to a playground (for the little one) and a basketball court (where I've been battling every day with the older one - and at some times with the locals), and very quiet due to the cul-de-sac.\n",
      "\n"
     ]
    }
   ],
   "source": [
    "summary_LexRank, summary_LSA, summary_Luhn, summary_TextRank = review_summarizer(reviews_one_listing2, num_sentences=2)"
   ]
  },
  {
   "cell_type": "code",
   "execution_count": 150,
   "metadata": {
    "ExecuteTime": {
     "end_time": "2018-09-09T00:19:07.120874Z",
     "start_time": "2018-09-09T00:19:07.113353Z"
    }
   },
   "outputs": [],
   "source": [
    "# Implement for all\n",
    "def summarize_all_reviews(reviews, listing_ids, num_sentences=3, printToScreen=False):\n",
    "    summaryLexRank = []\n",
    "    summaryLSA = []\n",
    "    summaryLuhn = []\n",
    "    summaryTextRank = []\n",
    "    \n",
    "    # Get the reviews for one listing at a time\n",
    "    for i in listing_ids:\n",
    "        ix_one_review = list(reviews[reviews['listing_id']==i].index)\n",
    "        reviews_one_listing = [reviews['comments'].iloc[ix] for ix in ix_one_review]\n",
    "    \n",
    "        # Prepare the data: put all the reviews together\n",
    "        reviews_one_listing2 = (\" \").join(item for item in reviews_one_listing if isinstance(item, str))\n",
    "        \n",
    "        # Summarize\n",
    "        sum1_LexRank, sum1_LSA, sum1_Luhn, sum1_TextRank = \\\n",
    "        review_summarizer(reviews_one_listing2, num_sentences=num_sentences, printToScreen=printToScreen)\n",
    "        \n",
    "        # Add to list of summaries\n",
    "        summaryLexRank.append(str(sum1_LexRank[0])+\" \"+str(sum1_LexRank[1]))\n",
    "        summaryLSA.append(str(sum1_LSA[0])+\" \"+str(sum1_LSA[1]))\n",
    "        summaryLuhn.append(str(sum1_Luhn[0])+\" \"+str(sum1_Luhn[1]))\n",
    "        summaryTextRank.append(str(sum1_TextRank[0])+\" \"+str(sum1_TextRank[1]))\n",
    "    \n",
    "    \n",
    "    return summaryLexRank, summaryLSA, summaryLuhn, summaryTextRank"
   ]
  },
  {
   "cell_type": "code",
   "execution_count": 151,
   "metadata": {
    "ExecuteTime": {
     "end_time": "2018-09-09T00:19:35.079552Z",
     "start_time": "2018-09-09T00:19:07.982273Z"
    }
   },
   "outputs": [],
   "source": [
    "summaryLexRank, summaryLSA, summaryLuhn, summaryTextRank = \\\n",
    "    summarize_all_reviews(reviews, listing_ids[:2], num_sentences=2, printToScreen=False)"
   ]
  },
  {
   "cell_type": "code",
   "execution_count": 152,
   "metadata": {
    "ExecuteTime": {
     "end_time": "2018-09-09T00:19:35.158149Z",
     "start_time": "2018-09-09T00:19:35.151681Z"
    }
   },
   "outputs": [
    {
     "name": "stdout",
     "output_type": "stream",
     "text": [
      "[\"Holly's apartment was the perfect place for us to stay on our trip to SF! Holly's apartment was a great stay!\", \"We had a lovely stay at Philip and Tania's home in a great location in SF. Tania and Philip are very nice hosts and the house is wonderful.\"]\n",
      "\n",
      "[\"You do not need a car to enjoy the City as everything is within walking distance - great restaurants, bars and local stores. Located near public transport and a very affordable Lyft ride from most places in the city, I would love to stay at Holly's again.\", 'There is also a small cafe right down the street where you can get coffee, breakfast, and check your email free of charge. As we did not really know what to do in San Francisco, except the touristic stuff, Philip planed each day with us although he was ill.']\n",
      "\n",
      "[\"The apartment was a charming layout with a full view and access to the home's garden The location is perfect for full engagement with the city; close to mass transit with walking proximity to the Haight, the Mission, the Castro and Golden Gate Park. Not only is the space perfectly equipped with everything you need for even a longer stay, it is also extremely conveniently located for families - very central with excellent connection to local transportation, close to a playground (for the little one) and a basketball court (where I've been battling every day with the older one - and at some times with the locals), and very quiet due to the cul-de-sac.\", \"It's the small moments at Tania and Philip's that makes the stay so memorable –\\xa0the conversations, the guidebooks on the nightstand, Tania's brown sugar oatmeal with peaches for breakfast, having a cup of tea sitting in the sunroom, your hosts leaving the guest room light on at night so that you can spot the apartment's window from the street when coming home at night, a morning run to Dolores Park, etc... Philip and Tania allowed full use of the house....They were very helpful and (Website hidden by Airbnb) was approximately an hours walk into the city which I did for exercise but there are trams and busses and the BART only a couple of blocks (Website hidden by Airbnb) seems like there is a restaurant or cafe on every corner and they were all sensational....The Front Porch was great for dinner as was Martha's Coffee for breakfast or lunch.\"]\n",
      "\n",
      "['Una parte muy importante de cada viaje es el lugar donde uno se hospedará durante la estadía en el extranjero, con toda seguridad puedo decir que el apartamento de Holly Coleman nos brindó una excelente experiencia, ya que la localización de éste es ideal para alguien que desea conocer San Francisco con calma y teniendo los barrios más interesantes en una distancia muy corta. Una parte muy importante de cada viaje es el lugar donde uno se hospedará durante la estadía en el extranjero, con toda seguridad puedo decir que el apartamento de Holly Coleman nos brindó una excelente experiencia, ya que la localización de éste es ideal para alguien que desea conocer San Francisco con calma y teniendo los barrios más interesantes en una distancia muy corta.', \"It's the small moments at Tania and Philip's that makes the stay so memorable –\\xa0the conversations, the guidebooks on the nightstand, Tania's brown sugar oatmeal with peaches for breakfast, having a cup of tea sitting in the sunroom, your hosts leaving the guest room light on at night so that you can spot the apartment's window from the street when coming home at night, a morning run to Dolores Park, etc... Philip and Tania allowed full use of the house....They were very helpful and (Website hidden by Airbnb) was approximately an hours walk into the city which I did for exercise but there are trams and busses and the BART only a couple of blocks (Website hidden by Airbnb) seems like there is a restaurant or cafe on every corner and they were all sensational....The Front Porch was great for dinner as was Martha's Coffee for breakfast or lunch.\"]\n"
     ]
    }
   ],
   "source": [
    "print(summaryLexRank)\n",
    "print()\n",
    "print(summaryLSA)\n",
    "print()\n",
    "print(summaryTextRank)\n",
    "print()\n",
    "print(summaryLuhn)"
   ]
  },
  {
   "cell_type": "code",
   "execution_count": null,
   "metadata": {},
   "outputs": [],
   "source": []
  }
 ],
 "metadata": {
  "kernelspec": {
   "display_name": "Python (anacoda)",
   "language": "python",
   "name": "other-env"
  },
  "language_info": {
   "codemirror_mode": {
    "name": "ipython",
    "version": 3
   },
   "file_extension": ".py",
   "mimetype": "text/x-python",
   "name": "python",
   "nbconvert_exporter": "python",
   "pygments_lexer": "ipython3",
   "version": "3.6.5"
  },
  "varInspector": {
   "cols": {
    "lenName": 16,
    "lenType": 16,
    "lenVar": 40
   },
   "kernels_config": {
    "python": {
     "delete_cmd_postfix": "",
     "delete_cmd_prefix": "del ",
     "library": "var_list.py",
     "varRefreshCmd": "print(var_dic_list())"
    },
    "r": {
     "delete_cmd_postfix": ") ",
     "delete_cmd_prefix": "rm(",
     "library": "var_list.r",
     "varRefreshCmd": "cat(var_dic_list()) "
    }
   },
   "types_to_exclude": [
    "module",
    "function",
    "builtin_function_or_method",
    "instance",
    "_Feature"
   ],
   "window_display": false
  }
 },
 "nbformat": 4,
 "nbformat_minor": 2
}
